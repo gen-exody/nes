{
 "cells": [
  {
   "cell_type": "markdown",
   "metadata": {},
   "source": [
    "# 5. Design the opposite query \n",
    "\n",
    "In this notebook, we are going to design the prompt for opposite query generation.\n",
    "\n",
    "This is part of the ranking algorithm design.  Since one product can have multiple reviews, a similarity search can return multiple results for a single product. There could be chances that the results are contradicting. We are going to use LLM to generate opposite queries against the original query. The intuition behind this opposite query concept is if the returning result for a product contains reviews close to the original query and the opposite queries, the resulting score for this product would be lowered due to the “cancellation effect”. "
   ]
  },
  {
   "cell_type": "code",
   "execution_count": 1,
   "metadata": {},
   "outputs": [],
   "source": [
    "# install the faiss-cpu when new env is provisioned\n",
    "#!pip install faiss-cpu\n",
    "#conda install -c pytorch faiss-cpu=1.7.4 mkl=2021"
   ]
  },
  {
   "cell_type": "code",
   "execution_count": 2,
   "metadata": {},
   "outputs": [],
   "source": [
    "# install the openai when new env is provisioned\n",
    "#!pip install openai\n",
    "\n",
    "#conda install -c conda-forge openai"
   ]
  },
  {
   "cell_type": "code",
   "execution_count": 3,
   "metadata": {},
   "outputs": [],
   "source": [
    "import warnings\n",
    "warnings.filterwarnings('ignore')\n",
    "\n",
    "import os\n",
    "import umap\n",
    "import faiss\n",
    "import openai\n",
    "import pandas as pd\n",
    "import numpy as np\n",
    "import altair as alt\n",
    "import configparser\n",
    "from PIL import Image\n"
   ]
  },
  {
   "cell_type": "markdown",
   "metadata": {},
   "source": [
    "### Prepare required resources"
   ]
  },
  {
   "cell_type": "code",
   "execution_count": 4,
   "metadata": {},
   "outputs": [
    {
     "data": {
      "text/html": [
       "<div>\n",
       "<style scoped>\n",
       "    .dataframe tbody tr th:only-of-type {\n",
       "        vertical-align: middle;\n",
       "    }\n",
       "\n",
       "    .dataframe tbody tr th {\n",
       "        vertical-align: top;\n",
       "    }\n",
       "\n",
       "    .dataframe thead th {\n",
       "        text-align: right;\n",
       "    }\n",
       "</style>\n",
       "<table border=\"1\" class=\"dataframe\">\n",
       "  <thead>\n",
       "    <tr style=\"text-align: right;\">\n",
       "      <th></th>\n",
       "      <th>product_id</th>\n",
       "      <th>review_id</th>\n",
       "      <th>star_rating</th>\n",
       "      <th>product_title</th>\n",
       "      <th>review_body</th>\n",
       "    </tr>\n",
       "  </thead>\n",
       "  <tbody>\n",
       "    <tr>\n",
       "      <th>0</th>\n",
       "      <td>245600258X</td>\n",
       "      <td>RZER3NRRB523C</td>\n",
       "      <td>4.0</td>\n",
       "      <td>La Leela Hawaiian Shirt For Men Short Sleeve F...</td>\n",
       "      <td>Quickly tore on one side.  A very nice and com...</td>\n",
       "    </tr>\n",
       "    <tr>\n",
       "      <th>1</th>\n",
       "      <td>245600258X</td>\n",
       "      <td>RDNDYIC6MH3Q5</td>\n",
       "      <td>4.0</td>\n",
       "      <td>La Leela Hawaiian Shirt For Men Short Sleeve F...</td>\n",
       "      <td>One size smaller would have been fine.  I had ...</td>\n",
       "    </tr>\n",
       "    <tr>\n",
       "      <th>2</th>\n",
       "      <td>245600258X</td>\n",
       "      <td>R1Z0YOWJGWESSD</td>\n",
       "      <td>5.0</td>\n",
       "      <td>La Leela Hawaiian Shirt For Men Short Sleeve F...</td>\n",
       "      <td>Great Hawaiian shirt.  Very comfortable, loose...</td>\n",
       "    </tr>\n",
       "  </tbody>\n",
       "</table>\n",
       "</div>"
      ],
      "text/plain": [
       "   product_id       review_id  star_rating  \\\n",
       "0  245600258X   RZER3NRRB523C          4.0   \n",
       "1  245600258X   RDNDYIC6MH3Q5          4.0   \n",
       "2  245600258X  R1Z0YOWJGWESSD          5.0   \n",
       "\n",
       "                                       product_title  \\\n",
       "0  La Leela Hawaiian Shirt For Men Short Sleeve F...   \n",
       "1  La Leela Hawaiian Shirt For Men Short Sleeve F...   \n",
       "2  La Leela Hawaiian Shirt For Men Short Sleeve F...   \n",
       "\n",
       "                                         review_body  \n",
       "0  Quickly tore on one side.  A very nice and com...  \n",
       "1  One size smaller would have been fine.  I had ...  \n",
       "2  Great Hawaiian shirt.  Very comfortable, loose...  "
      ]
     },
     "execution_count": 4,
     "metadata": {},
     "output_type": "execute_result"
    }
   ],
   "source": [
    "df_apparel = pd.read_csv('../resources/data/apparel_15to25.tsv.gz', sep='\\t', compression='gzip')\n",
    "cols = ['product_id', 'review_id', 'star_rating', 'product_title', 'review_body']\n",
    "df_apparel = df_apparel[cols]\n",
    "df_apparel.head(3)"
   ]
  },
  {
   "cell_type": "code",
   "execution_count": 5,
   "metadata": {},
   "outputs": [],
   "source": [
    "# Load the pre-created FAISS index\n",
    "faiss_index = faiss.read_index('../resources/binary/apparel_15to25_review_cosine.faissindex')"
   ]
  },
  {
   "cell_type": "code",
   "execution_count": 6,
   "metadata": {},
   "outputs": [],
   "source": [
    "# Load your API key from an environment variable or secret management service\n",
    "config = configparser.ConfigParser()\n",
    "config.read('nes.ini')\n",
    "openai.api_key = config['OpenAI']['api_key']"
   ]
  },
  {
   "cell_type": "markdown",
   "metadata": {},
   "source": [
    "### Define helper functions"
   ]
  },
  {
   "cell_type": "code",
   "execution_count": 7,
   "metadata": {},
   "outputs": [],
   "source": [
    "# Helper function to create the query embedding. Make sure to use the same model as what we used to created the product embedding\n",
    "def get_embedding(text, model=\"text-embedding-ada-002\"):\n",
    "   text = text.replace(\"\\n\", \" \")\n",
    "   \n",
    "   return np.array(openai.Embedding.create(input = [text], model=model)['data'][0]['embedding'], dtype='float32').reshape(1, -1)"
   ]
  },
  {
   "cell_type": "code",
   "execution_count": 8,
   "metadata": {},
   "outputs": [],
   "source": [
    "def search_with_original_query(df, faiss_index, query_embedding, num_of_records=100):\n",
    "    # we need to normalize the question embedding in order to use cosine similarity to search \n",
    "    faiss.normalize_L2(query_embedding)\n",
    "\n",
    "    # distance is the correspnding distance\n",
    "    # result_idx is the index of the input array, hence the index of the dataframe (if the dataframe index is reset which starts with 0)\n",
    "    distance, result_idx = faiss_index.search(query_embedding, k=num_of_records)\n",
    "\n",
    "    # use the return index to create the result dataframe\n",
    "    df_result = df.iloc[result_idx.squeeze().tolist()]\n",
    "    # add Distance to the result dataframe\n",
    "    df_result['distance'] = distance.T\n",
    "\n",
    "    df_result = df_result.sort_values(by='distance', ascending=True)\n",
    "    \n",
    "    return df_result, result_idx"
   ]
  },
  {
   "cell_type": "code",
   "execution_count": 9,
   "metadata": {},
   "outputs": [],
   "source": [
    "def generate_opposite_query(orignal_query='', prompt=''):\n",
    "\n",
    "    response = openai.Completion.create(\n",
    "        model=\"text-davinci-003\",\n",
    "        prompt=prompt.format(orignal_query),\n",
    "        temperature=0,\n",
    "        max_tokens=1000,\n",
    "        top_p=1.0,\n",
    "        frequency_penalty=0.0,\n",
    "        presence_penalty=0.0\n",
    "    )\n",
    "\n",
    "    return response['choices'][0]['text']"
   ]
  },
  {
   "cell_type": "code",
   "execution_count": 10,
   "metadata": {},
   "outputs": [],
   "source": [
    "def search_with_opposite_query(df, faiss_index, opposite_query_embedding, original_query_result_index, num_of_records=100):\n",
    "\n",
    "    faiss.normalize_L2(opposite_query_embedding)\n",
    "\n",
    "    # we want to make sure the opposite query only compare against the texts found by the original query \n",
    "    id_selector = faiss.IDSelectorArray(original_query_result_index.shape[1], faiss.swig_ptr(original_query_result_index))\n",
    "    filtered_distances, filtered_indices = faiss_index.search(opposite_query_embedding, k=num_of_records, params=faiss.SearchParametersIVF(sel=id_selector))\n",
    "\n",
    "    df_opposite_result = df.iloc[filtered_indices.squeeze().tolist()]\n",
    "    df_opposite_result['distance'] = filtered_distances.T\n",
    "\n",
    "    df_opposite_result = df_opposite_result.sort_values(by='distance', ascending=False)\n",
    "\n",
    "    return df_opposite_result"
   ]
  },
  {
   "cell_type": "code",
   "execution_count": 11,
   "metadata": {},
   "outputs": [],
   "source": [
    "def get_reconcile_result(df_result_original, df_result_opposite):\n",
    "\n",
    "    df_reconcile_result = df_result_original.merge(df_result_opposite[['review_id', 'distance']], \n",
    "                            left_on='review_id', right_on='review_id', how='left', suffixes=('_original', '_opposite'))\n",
    "    \n",
    "    # Using Dot Product FAISS Index with L2 normaliztion, the returning result is Cosine Similiarty, rather than Distance.\n",
    "    # There will turn the Cosine Similarity to Distance \n",
    "    df_reconcile_result['distance_original'] = 1 - df_reconcile_result['distance_original']\n",
    "    df_reconcile_result['distance_opposite'] = 1 - df_reconcile_result['distance_opposite']\n",
    "\n",
    "    df_reconcile_result = df_reconcile_result.sort_values(by='distance_original', ascending=True).reset_index(drop=True)\n",
    "\n",
    "    return df_reconcile_result"
   ]
  },
  {
   "cell_type": "code",
   "execution_count": 12,
   "metadata": {},
   "outputs": [],
   "source": [
    "def plot_distances(df_input, title=''):\n",
    "    df = df_input.copy()\n",
    "    df = df[['distance_original', 'distance_opposite']]\n",
    "    df['distance_original'] = df['distance_original'].astype('float64')\n",
    "    df['distance_opposite'] = df['distance_opposite'].astype('float64')\n",
    "    df = df.reset_index(drop=True).reset_index()\n",
    "    df.columns=['index', 'original_query', 'opposite_query']\n",
    "    df = df.melt(id_vars=['index'])\n",
    "\n",
    "    domain = ['original_query', 'opposite_query']\n",
    "    range_ = ['dodgerblue', 'coral']\n",
    "\n",
    "    chart = alt.Chart(data=df).mark_line().encode(\n",
    "            x=alt.X('index:Q').title('Record Index'),\n",
    "            y=alt.Y(\"value:Q\").scale(domain=(0,0.4)).title('Cosine Distance'),\n",
    "            color=alt.Color(\"variable:N\").scale(domain=domain, range=range_)\n",
    "        ).properties(\n",
    "            width=350,\n",
    "            height=150,\n",
    "            title=title\n",
    "        )\n",
    "    \n",
    "    return chart"
   ]
  },
  {
   "cell_type": "markdown",
   "metadata": {},
   "source": [
    "## Test with different designs of opposite query "
   ]
  },
  {
   "cell_type": "markdown",
   "metadata": {},
   "source": [
    "### Define the original query and get the corresponding search result"
   ]
  },
  {
   "cell_type": "code",
   "execution_count": 13,
   "metadata": {},
   "outputs": [],
   "source": [
    "#query = \"Long thin cotton socks for men, need to be breathable, even feeling cool for summer time.\"\n",
    "query = \"Wrinkle free chiffon blouse, sleek style, long sleeve, slim fit, with comfortable inside layer\"\n",
    "\n",
    "# create the embedding for orignal query \n",
    "query_embedding = get_embedding(query)\n",
    "\n",
    "# search the FAISS index with orignal query embedding \n",
    "df_result_original, result_idx = search_with_original_query(df_apparel, faiss_index, query_embedding, num_of_records=100)"
   ]
  },
  {
   "cell_type": "markdown",
   "metadata": {},
   "source": [
    "### Opposite Query Option 1 \n",
    "Rewrite the original query by change the adjectives into their opposite meaning"
   ]
  },
  {
   "cell_type": "code",
   "execution_count": 14,
   "metadata": {},
   "outputs": [],
   "source": [
    "prompt=\"\"\"\n",
    "    You are an English teacher. You need to find every single adjective from the sentences delimited by triple backquotes below.\n",
    "    Then you rewrite the sentences by changing the adjectives in their opposite meaning. \n",
    "    Finally, you only need to output the rewritten sentences.\n",
    "\n",
    "    ```{}```\n",
    "\"\"\""
   ]
  },
  {
   "cell_type": "code",
   "execution_count": 15,
   "metadata": {},
   "outputs": [
    {
     "name": "stdout",
     "output_type": "stream",
     "text": [
      "Original Query === Wrinkle free chiffon blouse, sleek style, long sleeve, slim fit, with comfortable inside layer\n",
      "Opposite Query (Rewrite)=== \n",
      "Wrinkle-ridden chiffon blouse, bulky style, short sleeve, baggy fit, with uncomfortable inside layer.\n"
     ]
    }
   ],
   "source": [
    "# generate opposite query rewrite\n",
    "opposite_query_rewrite = generate_opposite_query(query, prompt)\n",
    "\n",
    "# get the embedding for the opposite query \n",
    "opposite_query_embedding = get_embedding(opposite_query_rewrite)\n",
    "\n",
    "# search the FAISS index with the opposite query. We need to pass the result_idx from the orignal query in order to limit the seach scope \n",
    "df_result_opposite = search_with_opposite_query(df_apparel, faiss_index, opposite_query_embedding, result_idx, num_of_records=100)\n",
    "\n",
    "# generate the reconsile result \n",
    "df_reconcile_result = get_reconcile_result(df_result_original, df_result_opposite)\n",
    "\n",
    "print(f\"Original Query === {query}\")\n",
    "print(f\"Opposite Query (Rewrite)=== {opposite_query_rewrite}\")"
   ]
  },
  {
   "cell_type": "code",
   "execution_count": 16,
   "metadata": {},
   "outputs": [
    {
     "data": {
      "text/html": [
       "<div>\n",
       "<style scoped>\n",
       "    .dataframe tbody tr th:only-of-type {\n",
       "        vertical-align: middle;\n",
       "    }\n",
       "\n",
       "    .dataframe tbody tr th {\n",
       "        vertical-align: top;\n",
       "    }\n",
       "\n",
       "    .dataframe thead th {\n",
       "        text-align: right;\n",
       "    }\n",
       "</style>\n",
       "<table border=\"1\" class=\"dataframe\">\n",
       "  <thead>\n",
       "    <tr style=\"text-align: right;\">\n",
       "      <th></th>\n",
       "      <th>product_id</th>\n",
       "      <th>review_id</th>\n",
       "      <th>star_rating</th>\n",
       "      <th>product_title</th>\n",
       "      <th>review_body</th>\n",
       "      <th>distance_original</th>\n",
       "      <th>distance_opposite</th>\n",
       "    </tr>\n",
       "  </thead>\n",
       "  <tbody>\n",
       "    <tr>\n",
       "      <th>0</th>\n",
       "      <td>B00L4ZQIC4</td>\n",
       "      <td>R1BVVN4TY7LYHH</td>\n",
       "      <td>5.0</td>\n",
       "      <td>Women Casual Short Sleeve Slim Batwin Chiffon ...</td>\n",
       "      <td>Great shirt, perfect size and fit! A nice comb...</td>\n",
       "      <td>0.112343</td>\n",
       "      <td>0.146555</td>\n",
       "    </tr>\n",
       "    <tr>\n",
       "      <th>1</th>\n",
       "      <td>B00MNGK40A</td>\n",
       "      <td>R10WJTHP6ZPHO3</td>\n",
       "      <td>3.0</td>\n",
       "      <td>Women Ladies Long Sleeve Embroidered Chiffon C...</td>\n",
       "      <td>It fits great on shoulder and bust area, bette...</td>\n",
       "      <td>0.113326</td>\n",
       "      <td>0.145163</td>\n",
       "    </tr>\n",
       "    <tr>\n",
       "      <th>2</th>\n",
       "      <td>B00J2S401Q</td>\n",
       "      <td>R3DST9ATSRMK8C</td>\n",
       "      <td>5.0</td>\n",
       "      <td>Women's Long Sleeve Slim Fit Floral Lace Organ...</td>\n",
       "      <td>Fits perfectly and every time I wear it, I get...</td>\n",
       "      <td>0.114408</td>\n",
       "      <td>0.175241</td>\n",
       "    </tr>\n",
       "    <tr>\n",
       "      <th>3</th>\n",
       "      <td>B00P2221ZS</td>\n",
       "      <td>R1NNPB0G8T81GR</td>\n",
       "      <td>4.0</td>\n",
       "      <td>Women Ladies Long Sleeve Embroidered Chiffon C...</td>\n",
       "      <td>This blouse is so beautiful but the interior s...</td>\n",
       "      <td>0.115141</td>\n",
       "      <td>0.135226</td>\n",
       "    </tr>\n",
       "    <tr>\n",
       "      <th>4</th>\n",
       "      <td>B00P2221ZS</td>\n",
       "      <td>R20CJ6DF95WCD4</td>\n",
       "      <td>5.0</td>\n",
       "      <td>Women Ladies Long Sleeve Embroidered Chiffon C...</td>\n",
       "      <td>Very elegant and great to wear when travelling...</td>\n",
       "      <td>0.118946</td>\n",
       "      <td>0.159496</td>\n",
       "    </tr>\n",
       "  </tbody>\n",
       "</table>\n",
       "</div>"
      ],
      "text/plain": [
       "   product_id       review_id  star_rating  \\\n",
       "0  B00L4ZQIC4  R1BVVN4TY7LYHH          5.0   \n",
       "1  B00MNGK40A  R10WJTHP6ZPHO3          3.0   \n",
       "2  B00J2S401Q  R3DST9ATSRMK8C          5.0   \n",
       "3  B00P2221ZS  R1NNPB0G8T81GR          4.0   \n",
       "4  B00P2221ZS  R20CJ6DF95WCD4          5.0   \n",
       "\n",
       "                                       product_title  \\\n",
       "0  Women Casual Short Sleeve Slim Batwin Chiffon ...   \n",
       "1  Women Ladies Long Sleeve Embroidered Chiffon C...   \n",
       "2  Women's Long Sleeve Slim Fit Floral Lace Organ...   \n",
       "3  Women Ladies Long Sleeve Embroidered Chiffon C...   \n",
       "4  Women Ladies Long Sleeve Embroidered Chiffon C...   \n",
       "\n",
       "                                         review_body  distance_original  \\\n",
       "0  Great shirt, perfect size and fit! A nice comb...           0.112343   \n",
       "1  It fits great on shoulder and bust area, bette...           0.113326   \n",
       "2  Fits perfectly and every time I wear it, I get...           0.114408   \n",
       "3  This blouse is so beautiful but the interior s...           0.115141   \n",
       "4  Very elegant and great to wear when travelling...           0.118946   \n",
       "\n",
       "   distance_opposite  \n",
       "0           0.146555  \n",
       "1           0.145163  \n",
       "2           0.175241  \n",
       "3           0.135226  \n",
       "4           0.159496  "
      ]
     },
     "execution_count": 16,
     "metadata": {},
     "output_type": "execute_result"
    }
   ],
   "source": [
    "df_reconcile_result.head(5)"
   ]
  },
  {
   "cell_type": "code",
   "execution_count": 17,
   "metadata": {},
   "outputs": [],
   "source": [
    "chart = plot_distances(df_input=df_reconcile_result, title='Rewrite Whole Query')\n",
    "\n",
    "# uncomment below line to save the vis\n",
    "#chart.save('../resources/img/design_opposite_query_rewrite_whole_query.png')"
   ]
  },
  {
   "cell_type": "code",
   "execution_count": 18,
   "metadata": {},
   "outputs": [
    {
     "data": {
      "image/png": "[encoded data removed]",
      "text/plain": [
       "<PIL.PngImagePlugin.PngImageFile image mode=RGBA size=499x214>"
      ]
     },
     "execution_count": 18,
     "metadata": {},
     "output_type": "execute_result"
    }
   ],
   "source": [
    "Image.open('../resources/img/design_opposite_query_rewrite_whole_query.png')"
   ]
  },
  {
   "cell_type": "markdown",
   "metadata": {},
   "source": [
    "### Opposite Query Option 2\n",
    "Just use the anthonyms of the adjectives from the original query, plus their corresponding meanings"
   ]
  },
  {
   "cell_type": "code",
   "execution_count": 19,
   "metadata": {},
   "outputs": [],
   "source": [
    "prompt =\"\"\"\n",
    "    You are an English teacher. You need to find every single ADJECTIVE from the sentences delimited by triple backquotes below.\n",
    "    Then, you transform every adjective into its antonym.\n",
    "    Finally, give the dictionary meaning for each antonym.\n",
    "    Below are two examples. You need to comlete the third one. \n",
    "    \n",
    "\n",
    "    Text 1: Kids flip flops for girl, cute, good fit, comfortable and durable, low price\n",
    "    Output 1: Artless means without guile or deception. Unsuited means not proper or fitting for something. Uncomfortable means causing discomfort.  Fragile means easily broken. Costly means expensive.\n",
    "    ## \n",
    "    Text 2: Long sleeve shirts for men. Wrinkle-free, thick but breathable and slim fit\n",
    "    Output 2: Short means having little length. Crinkle means to form many short bends or ripples. Thin means measuring little in cross section or diameter. Airtight means impermeable to air or nearly so. Wide means having a greater than usual measure across\n",
    "    ##\n",
    "    Text 3:  ```{}```\n",
    "    Output 3:\n",
    "\"\"\""
   ]
  },
  {
   "cell_type": "code",
   "execution_count": 20,
   "metadata": {},
   "outputs": [
    {
     "name": "stdout",
     "output_type": "stream",
     "text": [
      "Original Query === Wrinkle free chiffon blouse, sleek style, long sleeve, slim fit, with comfortable inside layer\n",
      "Opposite Query (Rewrite)=== Wrinkled means having many creases or folds. Clumsy means lacking grace in movement or posture. Short means having little length. Bulky means large and unwieldy. Uncomfortable means causing discomfort.\n"
     ]
    }
   ],
   "source": [
    "# generate opposite query rewrite\n",
    "opposite_query_rewrite = generate_opposite_query(query, prompt)\n",
    "\n",
    "# get the embedding for the opposite query \n",
    "opposite_query_embedding = get_embedding(opposite_query_rewrite)\n",
    "\n",
    "# search the FAISS index with the opposite query. We need to pass the result_idx from the orignal query in order to limit the seach scope \n",
    "df_result_opposite = search_with_opposite_query(df_apparel, faiss_index, opposite_query_embedding, result_idx, num_of_records=100)\n",
    "\n",
    "# generate the reconsile result \n",
    "df_reconcile_result = get_reconcile_result(df_result_original, df_result_opposite)\n",
    "\n",
    "print(f\"Original Query === {query}\")\n",
    "print(f\"Opposite Query (Rewrite)=== {opposite_query_rewrite}\")"
   ]
  },
  {
   "cell_type": "code",
   "execution_count": 21,
   "metadata": {},
   "outputs": [
    {
     "data": {
      "text/html": [
       "<div>\n",
       "<style scoped>\n",
       "    .dataframe tbody tr th:only-of-type {\n",
       "        vertical-align: middle;\n",
       "    }\n",
       "\n",
       "    .dataframe tbody tr th {\n",
       "        vertical-align: top;\n",
       "    }\n",
       "\n",
       "    .dataframe thead th {\n",
       "        text-align: right;\n",
       "    }\n",
       "</style>\n",
       "<table border=\"1\" class=\"dataframe\">\n",
       "  <thead>\n",
       "    <tr style=\"text-align: right;\">\n",
       "      <th></th>\n",
       "      <th>product_id</th>\n",
       "      <th>review_id</th>\n",
       "      <th>star_rating</th>\n",
       "      <th>product_title</th>\n",
       "      <th>review_body</th>\n",
       "      <th>distance_original</th>\n",
       "      <th>distance_opposite</th>\n",
       "    </tr>\n",
       "  </thead>\n",
       "  <tbody>\n",
       "    <tr>\n",
       "      <th>0</th>\n",
       "      <td>B00L4ZQIC4</td>\n",
       "      <td>R1BVVN4TY7LYHH</td>\n",
       "      <td>5.0</td>\n",
       "      <td>Women Casual Short Sleeve Slim Batwin Chiffon ...</td>\n",
       "      <td>Great shirt, perfect size and fit! A nice comb...</td>\n",
       "      <td>0.112343</td>\n",
       "      <td>0.244267</td>\n",
       "    </tr>\n",
       "    <tr>\n",
       "      <th>1</th>\n",
       "      <td>B00MNGK40A</td>\n",
       "      <td>R10WJTHP6ZPHO3</td>\n",
       "      <td>3.0</td>\n",
       "      <td>Women Ladies Long Sleeve Embroidered Chiffon C...</td>\n",
       "      <td>It fits great on shoulder and bust area, bette...</td>\n",
       "      <td>0.113326</td>\n",
       "      <td>0.244565</td>\n",
       "    </tr>\n",
       "    <tr>\n",
       "      <th>2</th>\n",
       "      <td>B00J2S401Q</td>\n",
       "      <td>R3DST9ATSRMK8C</td>\n",
       "      <td>5.0</td>\n",
       "      <td>Women's Long Sleeve Slim Fit Floral Lace Organ...</td>\n",
       "      <td>Fits perfectly and every time I wear it, I get...</td>\n",
       "      <td>0.114408</td>\n",
       "      <td>0.270232</td>\n",
       "    </tr>\n",
       "    <tr>\n",
       "      <th>3</th>\n",
       "      <td>B00P2221ZS</td>\n",
       "      <td>R1NNPB0G8T81GR</td>\n",
       "      <td>4.0</td>\n",
       "      <td>Women Ladies Long Sleeve Embroidered Chiffon C...</td>\n",
       "      <td>This blouse is so beautiful but the interior s...</td>\n",
       "      <td>0.115141</td>\n",
       "      <td>0.261242</td>\n",
       "    </tr>\n",
       "    <tr>\n",
       "      <th>4</th>\n",
       "      <td>B00P2221ZS</td>\n",
       "      <td>R20CJ6DF95WCD4</td>\n",
       "      <td>5.0</td>\n",
       "      <td>Women Ladies Long Sleeve Embroidered Chiffon C...</td>\n",
       "      <td>Very elegant and great to wear when travelling...</td>\n",
       "      <td>0.118946</td>\n",
       "      <td>0.258458</td>\n",
       "    </tr>\n",
       "  </tbody>\n",
       "</table>\n",
       "</div>"
      ],
      "text/plain": [
       "   product_id       review_id  star_rating  \\\n",
       "0  B00L4ZQIC4  R1BVVN4TY7LYHH          5.0   \n",
       "1  B00MNGK40A  R10WJTHP6ZPHO3          3.0   \n",
       "2  B00J2S401Q  R3DST9ATSRMK8C          5.0   \n",
       "3  B00P2221ZS  R1NNPB0G8T81GR          4.0   \n",
       "4  B00P2221ZS  R20CJ6DF95WCD4          5.0   \n",
       "\n",
       "                                       product_title  \\\n",
       "0  Women Casual Short Sleeve Slim Batwin Chiffon ...   \n",
       "1  Women Ladies Long Sleeve Embroidered Chiffon C...   \n",
       "2  Women's Long Sleeve Slim Fit Floral Lace Organ...   \n",
       "3  Women Ladies Long Sleeve Embroidered Chiffon C...   \n",
       "4  Women Ladies Long Sleeve Embroidered Chiffon C...   \n",
       "\n",
       "                                         review_body  distance_original  \\\n",
       "0  Great shirt, perfect size and fit! A nice comb...           0.112343   \n",
       "1  It fits great on shoulder and bust area, bette...           0.113326   \n",
       "2  Fits perfectly and every time I wear it, I get...           0.114408   \n",
       "3  This blouse is so beautiful but the interior s...           0.115141   \n",
       "4  Very elegant and great to wear when travelling...           0.118946   \n",
       "\n",
       "   distance_opposite  \n",
       "0           0.244267  \n",
       "1           0.244565  \n",
       "2           0.270232  \n",
       "3           0.261242  \n",
       "4           0.258458  "
      ]
     },
     "execution_count": 21,
     "metadata": {},
     "output_type": "execute_result"
    }
   ],
   "source": [
    "df_reconcile_result.head(5)"
   ]
  },
  {
   "cell_type": "code",
   "execution_count": 22,
   "metadata": {},
   "outputs": [],
   "source": [
    "chart = plot_distances(df_input=df_reconcile_result, title='Antonym with Meaning Only')\n",
    "\n",
    "# uncomment below line to save the vis\n",
    "#chart.save('../resources/img/design_opposite_query_antonym.png')"
   ]
  },
  {
   "cell_type": "code",
   "execution_count": 23,
   "metadata": {},
   "outputs": [
    {
     "data": {
      "image/png": "[encoded data removed]",
      "text/plain": [
       "<PIL.PngImagePlugin.PngImageFile image mode=RGBA size=499x214>"
      ]
     },
     "execution_count": 23,
     "metadata": {},
     "output_type": "execute_result"
    }
   ],
   "source": [
    "Image.open('../resources/img/design_opposite_query_antonym.png')"
   ]
  },
  {
   "cell_type": "code",
   "execution_count": null,
   "metadata": {},
   "outputs": [],
   "source": []
  }
 ],
 "metadata": {
  "kernelspec": {
   "display_name": "Python 3.9.16",
   "language": "python",
   "name": "python3"
  },
  "language_info": {
   "codemirror_mode": {
    "name": "ipython",
    "version": 3
   },
   "file_extension": ".py",
   "mimetype": "text/x-python",
   "name": "python",
   "nbconvert_exporter": "python",
   "pygments_lexer": "ipython3",
   "version": "3.9.16"
  },
  "orig_nbformat": 4,
  "vscode": {
   "interpreter": {
    "hash": "47c21ec07182bd7b8a7046c05381eb5ae64d2b190ea0743ff4dd83b9ddde1114"
   }
  }
 },
 "nbformat": 4,
 "nbformat_minor": 2
}
