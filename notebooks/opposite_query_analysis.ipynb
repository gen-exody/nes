{
 "cells": [
  {
   "cell_type": "markdown",
   "metadata": {},
   "source": [
    "Please use the Local ./Dockerfile environment "
   ]
  },
  {
   "cell_type": "code",
   "execution_count": 1,
   "metadata": {},
   "outputs": [],
   "source": [
    "# install the faiss-cpu when new env is provisioned\n",
    "#!pip install faiss-cpu\n",
    "#conda install -c pytorch faiss-cpu=1.7.4 mkl=2021"
   ]
  },
  {
   "cell_type": "code",
   "execution_count": 2,
   "metadata": {},
   "outputs": [],
   "source": [
    "# install the openai when new env is provisioned\n",
    "#!pip install openai\n",
    "\n",
    "#conda install -c conda-forge openai"
   ]
  },
  {
   "cell_type": "code",
   "execution_count": 3,
   "metadata": {},
   "outputs": [
    {
     "name": "stderr",
     "output_type": "stream",
     "text": [
      "c:\\Users\\hoge\\Miniconda3\\envs\\py37\\envs\\py39openai\\lib\\site-packages\\umap\\distances.py:1063: NumbaDeprecationWarning: \u001b[1mThe 'nopython' keyword argument was not supplied to the 'numba.jit' decorator. The implicit default value for this argument is currently False, but it will be changed to True in Numba 0.59.0. See https://numba.readthedocs.io/en/stable/reference/deprecation.html#deprecation-of-object-mode-fall-back-behaviour-when-using-jit for details.\u001b[0m\n",
      "  @numba.jit()\n",
      "c:\\Users\\hoge\\Miniconda3\\envs\\py37\\envs\\py39openai\\lib\\site-packages\\umap\\distances.py:1071: NumbaDeprecationWarning: \u001b[1mThe 'nopython' keyword argument was not supplied to the 'numba.jit' decorator. The implicit default value for this argument is currently False, but it will be changed to True in Numba 0.59.0. See https://numba.readthedocs.io/en/stable/reference/deprecation.html#deprecation-of-object-mode-fall-back-behaviour-when-using-jit for details.\u001b[0m\n",
      "  @numba.jit()\n",
      "c:\\Users\\hoge\\Miniconda3\\envs\\py37\\envs\\py39openai\\lib\\site-packages\\umap\\distances.py:1086: NumbaDeprecationWarning: \u001b[1mThe 'nopython' keyword argument was not supplied to the 'numba.jit' decorator. The implicit default value for this argument is currently False, but it will be changed to True in Numba 0.59.0. See https://numba.readthedocs.io/en/stable/reference/deprecation.html#deprecation-of-object-mode-fall-back-behaviour-when-using-jit for details.\u001b[0m\n",
      "  @numba.jit()\n",
      "c:\\Users\\hoge\\Miniconda3\\envs\\py37\\envs\\py39openai\\lib\\site-packages\\umap\\umap_.py:660: NumbaDeprecationWarning: \u001b[1mThe 'nopython' keyword argument was not supplied to the 'numba.jit' decorator. The implicit default value for this argument is currently False, but it will be changed to True in Numba 0.59.0. See https://numba.readthedocs.io/en/stable/reference/deprecation.html#deprecation-of-object-mode-fall-back-behaviour-when-using-jit for details.\u001b[0m\n",
      "  @numba.jit()\n"
     ]
    },
    {
     "data": {
      "text/plain": [
       "DataTransformerRegistry.enable('default')"
      ]
     },
     "execution_count": 3,
     "metadata": {},
     "output_type": "execute_result"
    }
   ],
   "source": [
    "import os\n",
    "import umap\n",
    "import faiss\n",
    "import openai\n",
    "import pandas as pd\n",
    "import numpy as np\n",
    "import altair as alt\n",
    "import configparser\n",
    "#from sklearn import decomposition\n",
    "\n",
    "import warnings\n",
    "warnings.filterwarnings('ignore')\n",
    "\n",
    "alt.data_transformers.disable_max_rows()\n"
   ]
  },
  {
   "cell_type": "code",
   "execution_count": 4,
   "metadata": {},
   "outputs": [
    {
     "data": {
      "text/plain": [
       "'1.5.3'"
      ]
     },
     "execution_count": 4,
     "metadata": {},
     "output_type": "execute_result"
    }
   ],
   "source": [
    "pd.__version__"
   ]
  },
  {
   "cell_type": "code",
   "execution_count": 5,
   "metadata": {},
   "outputs": [
    {
     "data": {
      "text/plain": [
       "'1.7.4'"
      ]
     },
     "execution_count": 5,
     "metadata": {},
     "output_type": "execute_result"
    }
   ],
   "source": [
    "# make sure we are using FAISS version 1.7.4 \n",
    "faiss.__version__"
   ]
  },
  {
   "cell_type": "markdown",
   "metadata": {},
   "source": [
    "### Prepare required resources"
   ]
  },
  {
   "cell_type": "code",
   "execution_count": 6,
   "metadata": {},
   "outputs": [
    {
     "data": {
      "text/html": [
       "<div>\n",
       "<style scoped>\n",
       "    .dataframe tbody tr th:only-of-type {\n",
       "        vertical-align: middle;\n",
       "    }\n",
       "\n",
       "    .dataframe tbody tr th {\n",
       "        vertical-align: top;\n",
       "    }\n",
       "\n",
       "    .dataframe thead th {\n",
       "        text-align: right;\n",
       "    }\n",
       "</style>\n",
       "<table border=\"1\" class=\"dataframe\">\n",
       "  <thead>\n",
       "    <tr style=\"text-align: right;\">\n",
       "      <th></th>\n",
       "      <th>product_id</th>\n",
       "      <th>review_id</th>\n",
       "      <th>star_rating</th>\n",
       "      <th>product_title</th>\n",
       "      <th>review_body</th>\n",
       "    </tr>\n",
       "  </thead>\n",
       "  <tbody>\n",
       "    <tr>\n",
       "      <th>0</th>\n",
       "      <td>B00001QHXX</td>\n",
       "      <td>R2HBUQ97RV5JVR</td>\n",
       "      <td>3.0</td>\n",
       "      <td>Richard Nixon Mask</td>\n",
       "      <td>I got this mask for a company party and it fre...</td>\n",
       "    </tr>\n",
       "    <tr>\n",
       "      <th>1</th>\n",
       "      <td>B00001QHXX</td>\n",
       "      <td>RHCH92YNAS282</td>\n",
       "      <td>4.0</td>\n",
       "      <td>Richard Nixon Mask</td>\n",
       "      <td>Nice mask, will have to do some fitting work. ...</td>\n",
       "    </tr>\n",
       "    <tr>\n",
       "      <th>2</th>\n",
       "      <td>B00001QHXX</td>\n",
       "      <td>R1OHYB07D0WE35</td>\n",
       "      <td>5.0</td>\n",
       "      <td>Richard Nixon Mask</td>\n",
       "      <td>Even though its a bit large, I can't help but ...</td>\n",
       "    </tr>\n",
       "  </tbody>\n",
       "</table>\n",
       "</div>"
      ],
      "text/plain": [
       "   product_id       review_id  star_rating       product_title  \\\n",
       "0  B00001QHXX  R2HBUQ97RV5JVR          3.0  Richard Nixon Mask   \n",
       "1  B00001QHXX   RHCH92YNAS282          4.0  Richard Nixon Mask   \n",
       "2  B00001QHXX  R1OHYB07D0WE35          5.0  Richard Nixon Mask   \n",
       "\n",
       "                                         review_body  \n",
       "0  I got this mask for a company party and it fre...  \n",
       "1  Nice mask, will have to do some fitting work. ...  \n",
       "2  Even though its a bit large, I can't help but ...  "
      ]
     },
     "execution_count": 6,
     "metadata": {},
     "output_type": "execute_result"
    }
   ],
   "source": [
    "# This dataframe is created with the amazon_reviews_us_Apparel_v1_00.tsv.gz dataset with following filtering criteria:\n",
    "# 1. Year 2015\n",
    "# 2. Products with 15 - 25 reviews\n",
    "# 3. review_lenght > 10\n",
    "\n",
    "df_apparel = pd.read_csv('../resources/data/apparel_10to14.tsv.gz', sep='\\t', compression='gzip')\n",
    "cols = ['product_id', 'review_id', 'star_rating', 'product_title', 'review_body']\n",
    "df_apparel = df_apparel[cols]\n",
    "df_apparel.head(3)"
   ]
  },
  {
   "cell_type": "code",
   "execution_count": 7,
   "metadata": {},
   "outputs": [],
   "source": [
    "# Load the pre-created FAISS index\n",
    "faiss_index = faiss.read_index('../resources/binary/apparel_10to14_review_cosine.faissindex')"
   ]
  },
  {
   "cell_type": "code",
   "execution_count": 8,
   "metadata": {},
   "outputs": [],
   "source": [
    "# Load your API key from an environment variable or secret management service\n",
    "config = configparser.ConfigParser()\n",
    "config.read('nes.ini')\n",
    "openai.api_key = config['OpenAI']['api_key']"
   ]
  },
  {
   "cell_type": "markdown",
   "metadata": {},
   "source": [
    "### Define helper functions"
   ]
  },
  {
   "cell_type": "code",
   "execution_count": 9,
   "metadata": {},
   "outputs": [],
   "source": [
    "# Helper function to create the query embedding. Make sure to use the same model as what we used to created the product embedding\n",
    "def get_embedding(text, model=\"text-embedding-ada-002\"):\n",
    "   text = text.replace(\"\\n\", \" \")\n",
    "   \n",
    "   return np.array(openai.Embedding.create(input = [text], model=model)['data'][0]['embedding'], dtype='float32').reshape(1, -1)"
   ]
  },
  {
   "cell_type": "code",
   "execution_count": 10,
   "metadata": {},
   "outputs": [],
   "source": [
    "def search_with_original_query(df, faiss_index, query_embedding, num_of_records=100):\n",
    "    # we need to normalize the question embedding in order to use cosine similarity to search \n",
    "    faiss.normalize_L2(query_embedding)\n",
    "\n",
    "    # distance is the correspnding distance\n",
    "    # result_idx is the index of the input array, hence the index of the dataframe (if the dataframe index is reset which starts with 0)\n",
    "    distance, result_idx = faiss_index.search(query_embedding, k=num_of_records)\n",
    "\n",
    "    # use the return index to create the result dataframe\n",
    "    df_result = df.iloc[result_idx.squeeze().tolist()]\n",
    "    # add Distance to the result dataframe\n",
    "    df_result['distance'] = distance.T\n",
    "\n",
    "    df_result = df_result.sort_values(by='distance', ascending=True)\n",
    "    \n",
    "    return df_result, result_idx"
   ]
  },
  {
   "cell_type": "code",
   "execution_count": 11,
   "metadata": {},
   "outputs": [],
   "source": [
    "prompt_rewrite =\"\"\"\n",
    "    You are an English teacher. You need to find every single adjective from the sentences delimited by triple backquotes below.\n",
    "    Then you rewrite the sentences by changing the adjectives in their opposite meaning. \n",
    "    Finally, you only need to output the rewritten sentences.\n",
    "\n",
    "    ```{}```\n",
    "\"\"\"\n",
    "\n",
    "prompt_antonym=\"\"\"\n",
    "    You are an English teacher. You need to find every single ADJECTIVE from the sentences delimited by triple backquotes below.\n",
    "    Then, you transform every adjective into its antonym.\n",
    "    Finally, give the dictionary meaning for each antonym.\n",
    "    Below are two examples. You need to comlete the third one. \n",
    "    \n",
    "\n",
    "    Text 1: Kids flip flops for girl, cute, good fit, comfortable and durable, low price\n",
    "    Output 1: Artless means without guile or deception. Unsuited means not proper or fitting for something. Uncomfortable means causing discomfort.  Fragile means easily broken. Costly means expensive.\n",
    "    ## \n",
    "    Text 2: Long sleeve shirts for men. Wrinkle-free, thick but breathable and slim fit\n",
    "    Output 2: Short means having little length. Crinkle means to form many short bends or ripples. Thin means measuring little in cross section or diameter. Airtight means impermeable to air or nearly so. Wide means having a greater than usual measure across\n",
    "    ##\n",
    "    Text 3:  ```{}```\n",
    "    Output 3:\n",
    "\"\"\""
   ]
  },
  {
   "cell_type": "code",
   "execution_count": 12,
   "metadata": {},
   "outputs": [],
   "source": [
    "def generate_opposite_query(orignal_query='', prompt=''):\n",
    "\n",
    "    response = openai.Completion.create(\n",
    "        model=\"text-davinci-003\",\n",
    "        prompt=prompt.format(orignal_query),\n",
    "        temperature=0,\n",
    "        max_tokens=1000,\n",
    "        top_p=1.0,\n",
    "        frequency_penalty=0.0,\n",
    "        presence_penalty=0.0\n",
    "    )\n",
    "\n",
    "    return response['choices'][0]['text']"
   ]
  },
  {
   "cell_type": "code",
   "execution_count": 13,
   "metadata": {},
   "outputs": [],
   "source": [
    "def search_with_opposite_query(df, faiss_index, opposite_query_embedding, original_query_result_index, num_of_records=100):\n",
    "\n",
    "    faiss.normalize_L2(opposite_query_embedding)\n",
    "\n",
    "    # we want to make sure the opposite query only compare against the texts found by the original query \n",
    "    id_selector = faiss.IDSelectorArray(original_query_result_index.shape[1], faiss.swig_ptr(original_query_result_index))\n",
    "    filtered_distances, filtered_indices = faiss_index.search(opposite_query_embedding, k=num_of_records, params=faiss.SearchParametersIVF(sel=id_selector))\n",
    "\n",
    "    df_opposite_result = df.iloc[filtered_indices.squeeze().tolist()]\n",
    "    df_opposite_result['distance'] = filtered_distances.T\n",
    "\n",
    "    df_opposite_result = df_opposite_result.sort_values(by='distance', ascending=False)\n",
    "\n",
    "    return df_opposite_result"
   ]
  },
  {
   "cell_type": "code",
   "execution_count": 14,
   "metadata": {},
   "outputs": [],
   "source": [
    "def get_reconcile_result(df_result_original, df_result_opposite):\n",
    "\n",
    "    df_reconcile_result = df_result_original.merge(df_result_opposite[['review_id', 'distance']], \n",
    "                            left_on='review_id', right_on='review_id', how='left', suffixes=('_original', '_opposite'))\n",
    "    \n",
    "    # Using Dot Product FAISS Index with L2 normaliztion, the returning result is Cosine Similiarty, rather than Distance.\n",
    "    # There will turn the Cosine Similarity to Distance \n",
    "    df_reconcile_result['distance_original'] = 1 - df_reconcile_result['distance_original']\n",
    "    df_reconcile_result['distance_opposite'] = 1 - df_reconcile_result['distance_opposite']\n",
    "\n",
    "    df_reconcile_result = df_reconcile_result.sort_values(by='distance_original', ascending=True).reset_index(drop=True)\n",
    "\n",
    "    return df_reconcile_result"
   ]
  },
  {
   "cell_type": "code",
   "execution_count": 15,
   "metadata": {},
   "outputs": [],
   "source": [
    "# Helper function to clip the distance_opposite\n",
    "\n",
    "def clip_distance_opposite(df, clipping=0.5):\n",
    "    df = df.sort_values(by='distance_opposite', ascending=False).reset_index(drop=True)\n",
    "    # Flatten the first n% with distance_opposite sorted in descending order  \n",
    "    quantile_value = df['distance_opposite'].quantile(q=(1-clipping))\n",
    "    df.loc[0:(clipping * len(df)), ['distance_opposite']] = quantile_value\n",
    "\n",
    "    return df"
   ]
  },
  {
   "cell_type": "code",
   "execution_count": 16,
   "metadata": {},
   "outputs": [],
   "source": [
    "# Helper function to calculate adjsuted distance using the distance_oppsite as a penalty term\n",
    "\n",
    "def cal_adjusted_distance(df, k=0.5):\n",
    "    df['distance_adjusted'] = df.apply(lambda row: row['distance_original'] + (k * 1/row['distance_opposite']), axis='columns')\n",
    "    \n",
    "    return df \n"
   ]
  },
  {
   "cell_type": "code",
   "execution_count": 17,
   "metadata": {},
   "outputs": [],
   "source": [
    "# Helper function to calculate review level similarity scores\n",
    "\n",
    "def cal_review_similarity_score(df):\n",
    "    # find max of distance_adjusted  \n",
    "    max_distance_adjusted  = df['distance_adjusted'].max()\n",
    "    # normalized adjusted distance then subtract from 1 to calculate the similarity score \n",
    "    df['similarity_score'] = df['distance_adjusted'].apply(lambda x: 1 - x / max_distance_adjusted)\n",
    "\n",
    "    return df "
   ]
  },
  {
   "cell_type": "code",
   "execution_count": 18,
   "metadata": {},
   "outputs": [],
   "source": [
    "# Helper function to calculate the product level similarity scores \n",
    "\n",
    "def cal_product_similarity_score(df, method='discount_reward'):\n",
    "\n",
    "    if method == 'average':\n",
    "        df_temp = df.groupby('product_id')['similarity_score'].mean()\n",
    "        df_temp = df_temp.to_frame(name='product_similarity_score').reset_index()\n",
    "        df = pd.merge(df, df_temp, left_on='product_id', right_on='product_id')\n",
    "    else:\n",
    "        df_grouped = df.groupby(by='product_id')\n",
    "\n",
    "        for name, data in df_grouped:\n",
    "            data = data.sort_values('similarity_score', ascending=False)\n",
    "            scores = []\n",
    "            for cnt, (index, row) in enumerate(data.iterrows()):\n",
    "                discounted_score = row['similarity_score'] / pow(2, cnt)\n",
    "                scores.append(discounted_score)\n",
    "            df.loc[data.index, 'product_similarity_score'] = sum(scores)\n",
    "        \n",
    "    df = df.sort_values(by=['product_similarity_score', 'similarity_score'], ascending=[False, False])\n",
    "\n",
    "    return df"
   ]
  },
  {
   "cell_type": "code",
   "execution_count": 19,
   "metadata": {},
   "outputs": [],
   "source": [
    "def get_final_search_result(df_reconcile_result, clipping=0, weight=0, method='discount_reward'):\n",
    "    \"\"\"\n",
    "    Method 1:   Calculate product level similarity score by Average\n",
    "                clipping=0, weight=0, method='average'\n",
    "\n",
    "    Method 2:   Calculate product level similarity score by Discount Reward\n",
    "                clipping=0, weight=0, method='discount_reward' \n",
    "\n",
    "    Method 3:   Calcuate product level similarity score by Discount Reward with Adjustment by Opposite Query \n",
    "                clipping=0.1, weight=0.5, method='discount_reward\n",
    "    \"\"\"\n",
    "\n",
    "    df_copy = df_reconcile_result.copy()\n",
    "\n",
    "    df_copy = clip_distance_opposite(df_copy, clipping=clipping)\n",
    "    df_copy = cal_adjusted_distance(df_copy, k=weight)\n",
    "    df_copy = cal_review_similarity_score(df_copy)\n",
    "    df_copy = cal_product_similarity_score(df_copy, method=method)\n",
    "\n",
    "    # re-arrange columns for output\n",
    "    cols = ['product_id', 'review_id', 'star_rating', 'distance_original', 'distance_opposite',\n",
    "            'distance_adjusted', 'similarity_score', 'product_similarity_score', 'product_title', 'review_body']\n",
    "\n",
    "    df_copy = df_copy[cols]\n",
    "\n",
    "    return df_copy"
   ]
  },
  {
   "cell_type": "markdown",
   "metadata": {},
   "source": [
    "### Geneate results"
   ]
  },
  {
   "cell_type": "code",
   "execution_count": 20,
   "metadata": {},
   "outputs": [],
   "source": [
    "query = \"Long thin cotton socks for men, need to be breathable, even feeling cool for summer time.\"\n",
    "#query = \"Wrinkle free chiffon blouse, sleek style, long sleeve, slim fit, with comfortable inside layer\""
   ]
  },
  {
   "cell_type": "code",
   "execution_count": 21,
   "metadata": {},
   "outputs": [
    {
     "name": "stdout",
     "output_type": "stream",
     "text": [
      "Original Query === Long thin cotton socks for men, need to be breathable, even feeling cool for summer time.\n",
      "Opposite Query (Rewrite)=== \n",
      "Short thick wool socks for men, need to be stuffy, even feeling warm for summer time.\n",
      "Opposite Query (Antonym)=== Short means having little length. Thick means having a greater than usual measure across. Unbreathable means not allowing air to pass through. Hot means having or giving out a great deal of heat.\n"
     ]
    }
   ],
   "source": [
    "\n",
    "\n",
    "# 1) create the embedding for orignal query \n",
    "query_embedding = get_embedding(query)\n",
    "print(f\"Original Query === {query}\")\n",
    "\n",
    "# 2) search the FAISS index with orignal query embedding \n",
    "df_result_original, result_idx = search_with_original_query(df_apparel, faiss_index, query_embedding, num_of_records=100)\n",
    "\n",
    "# 3) generate opposite query rewrite\n",
    "opposite_query_rewrite = generate_opposite_query(query, prompt_rewrite)\n",
    "print(f\"Opposite Query (Rewrite)=== {opposite_query_rewrite}\")\n",
    "\n",
    "# 4) generate opposite query antonym\n",
    "opposite_query_antonym = generate_opposite_query(query, prompt_antonym)\n",
    "print(f\"Opposite Query (Antonym)=== {opposite_query_antonym}\")\n",
    "\n",
    "# 5) get the embedding for the opposite query rewrite\n",
    "opposite_query_embedding_rewrite = get_embedding(opposite_query_rewrite)\n",
    "\n",
    "# 6) get the embedding for the opposite query antonym\n",
    "opposite_query_embedding_antonym = get_embedding(opposite_query_antonym)\n",
    "\n",
    "# 5) search the FAISS index with the opposite query. We need to pass the result_idx from the orignal query in order to limit the seach scope \n",
    "#df_result_opposite = search_with_opposite_query(df_apparel, faiss_index, opposite_query_embedding, result_idx, num_of_records=100)\n",
    "\n",
    "# 6) generate the reconsile result \n",
    "#df_reconcile_result = get_reconcile_result(df_result_original, df_result_opposite)\n",
    "\n"
   ]
  },
  {
   "cell_type": "markdown",
   "metadata": {},
   "source": [
    "### UAMP"
   ]
  },
  {
   "cell_type": "code",
   "execution_count": 22,
   "metadata": {},
   "outputs": [],
   "source": [
    "# make a func to handle the mixed- type data and return the final UMAP embeddings\n",
    "def umap_embed(df, n_components=2,  n_neighbors= 15, random_state=42):\n",
    "    #reducer = umap.UMAP(random_state=RAMDOM_STATE, n_components=2, metric='cosine', n_neighbors=10)\n",
    "    reducer = umap.UMAP(random_state=random_state, n_components=n_components, n_neighbors=n_neighbors, metric='cosine')\n",
    "    reducer.fit(df)\n",
    "    umap_embedding = reducer.transform(df)\n",
    "   \n",
    "    return reducer, umap_embedding"
   ]
  },
  {
   "cell_type": "code",
   "execution_count": 23,
   "metadata": {},
   "outputs": [],
   "source": [
    "def gen_dataframe_for_vis(umap_embedding):\n",
    "\n",
    "    df = pd.DataFrame(umap_embedding)\n",
    "    df.index.name='Review'\n",
    "    df = df.reset_index()\n",
    "    df.columns = [str(c) for c in df.columns]\n",
    "    df = df.melt(id_vars=['Review'])\n",
    "    df['variable'] = df['variable'].astype('int64')\n",
    "\n",
    "    return df\n"
   ]
  },
  {
   "cell_type": "code",
   "execution_count": 24,
   "metadata": {},
   "outputs": [],
   "source": [
    "df_apparel = pd.read_pickle('../resources/data/apparel_10to14_embedding.pkl')"
   ]
  },
  {
   "cell_type": "code",
   "execution_count": 25,
   "metadata": {},
   "outputs": [
    {
     "data": {
      "text/html": [
       "<div>\n",
       "<style scoped>\n",
       "    .dataframe tbody tr th:only-of-type {\n",
       "        vertical-align: middle;\n",
       "    }\n",
       "\n",
       "    .dataframe tbody tr th {\n",
       "        vertical-align: top;\n",
       "    }\n",
       "\n",
       "    .dataframe thead th {\n",
       "        text-align: right;\n",
       "    }\n",
       "</style>\n",
       "<table border=\"1\" class=\"dataframe\">\n",
       "  <thead>\n",
       "    <tr style=\"text-align: right;\">\n",
       "      <th></th>\n",
       "      <th>product_id</th>\n",
       "      <th>review_id</th>\n",
       "      <th>star_rating</th>\n",
       "      <th>product_title</th>\n",
       "      <th>review_body</th>\n",
       "      <th>distance</th>\n",
       "    </tr>\n",
       "  </thead>\n",
       "  <tbody>\n",
       "    <tr>\n",
       "      <th>64675</th>\n",
       "      <td>B00M1Y8BDG</td>\n",
       "      <td>R1D0JUBZ3UQYW6</td>\n",
       "      <td>5.0</td>\n",
       "      <td>Hanes Men's Comfortsoft Cotton Printed Lounge ...</td>\n",
       "      <td>These are nice, light-weight lounge pants. The...</td>\n",
       "      <td>0.863644</td>\n",
       "    </tr>\n",
       "    <tr>\n",
       "      <th>26327</th>\n",
       "      <td>B009FG8EYE</td>\n",
       "      <td>RO1TGDIWMUXNW</td>\n",
       "      <td>5.0</td>\n",
       "      <td>Mens 100% Cotton Plain Work/Casual Socks (Pack...</td>\n",
       "      <td>These were amazing super absorbent and h elope...</td>\n",
       "      <td>0.863667</td>\n",
       "    </tr>\n",
       "    <tr>\n",
       "      <th>1963</th>\n",
       "      <td>B000G7WC80</td>\n",
       "      <td>R37IPWNRJ74FE3</td>\n",
       "      <td>5.0</td>\n",
       "      <td>Wigwam Men's Cool-Lite Mid Hiker Pro Quarter L...</td>\n",
       "      <td>Love these socks.  Orignally got them for summ...</td>\n",
       "      <td>0.863759</td>\n",
       "    </tr>\n",
       "  </tbody>\n",
       "</table>\n",
       "</div>"
      ],
      "text/plain": [
       "       product_id       review_id  star_rating  \\\n",
       "64675  B00M1Y8BDG  R1D0JUBZ3UQYW6          5.0   \n",
       "26327  B009FG8EYE   RO1TGDIWMUXNW          5.0   \n",
       "1963   B000G7WC80  R37IPWNRJ74FE3          5.0   \n",
       "\n",
       "                                           product_title  \\\n",
       "64675  Hanes Men's Comfortsoft Cotton Printed Lounge ...   \n",
       "26327  Mens 100% Cotton Plain Work/Casual Socks (Pack...   \n",
       "1963   Wigwam Men's Cool-Lite Mid Hiker Pro Quarter L...   \n",
       "\n",
       "                                             review_body  distance  \n",
       "64675  These are nice, light-weight lounge pants. The...  0.863644  \n",
       "26327  These were amazing super absorbent and h elope...  0.863667  \n",
       "1963   Love these socks.  Orignally got them for summ...  0.863759  "
      ]
     },
     "execution_count": 25,
     "metadata": {},
     "output_type": "execute_result"
    }
   ],
   "source": [
    "df_result_original.head(3)"
   ]
  },
  {
   "cell_type": "code",
   "execution_count": 26,
   "metadata": {},
   "outputs": [],
   "source": [
    "df_result_original = df_result_original.merge(df_apparel[['review_id', 'embedding']], left_on='review_id', right_on='review_id', how='inner')"
   ]
  },
  {
   "cell_type": "code",
   "execution_count": 27,
   "metadata": {},
   "outputs": [],
   "source": [
    "df_search_result_vector = pd.DataFrame(df_result_original['embedding'].values.tolist()).add_prefix('data')"
   ]
  },
  {
   "cell_type": "code",
   "execution_count": 28,
   "metadata": {},
   "outputs": [],
   "source": [
    "#df_search_result_vector = pd.concat([df_search_result_vector.head(10), df_search_result_vector.tail(10)], axis=0)"
   ]
  },
  {
   "cell_type": "code",
   "execution_count": 29,
   "metadata": {},
   "outputs": [],
   "source": [
    "reducer, umap_search_result = umap_embed(df_search_result_vector, n_components=10, n_neighbors=10)\n",
    "df_search_result_plot = gen_dataframe_for_vis(umap_search_result[:20])"
   ]
  },
  {
   "cell_type": "code",
   "execution_count": 30,
   "metadata": {},
   "outputs": [
    {
     "data": {
      "text/plain": [
       "(100, 10)"
      ]
     },
     "execution_count": 30,
     "metadata": {},
     "output_type": "execute_result"
    }
   ],
   "source": [
    "umap_search_result.shape"
   ]
  },
  {
   "cell_type": "code",
   "execution_count": 31,
   "metadata": {},
   "outputs": [],
   "source": [
    "#np.vstack((umap_search_result[:10], umap_search_result[90:])).shape"
   ]
  },
  {
   "cell_type": "code",
   "execution_count": 32,
   "metadata": {},
   "outputs": [],
   "source": [
    "df_query_vector  = pd.DataFrame(query_embedding).add_prefix('data')\n",
    "umap_query = reducer.transform(df_query_vector)\n",
    "df_query_plot = gen_dataframe_for_vis(umap_query)"
   ]
  },
  {
   "cell_type": "code",
   "execution_count": 33,
   "metadata": {},
   "outputs": [],
   "source": [
    "df_opposite_query_vector_rewrite  = pd.DataFrame(opposite_query_embedding_rewrite).add_prefix('data')\n",
    "umap_opposite_query_rewrite = reducer.transform(df_opposite_query_vector_rewrite)\n",
    "df_opposite_query_plot_rewrite = gen_dataframe_for_vis(umap_opposite_query_rewrite)"
   ]
  },
  {
   "cell_type": "code",
   "execution_count": 34,
   "metadata": {},
   "outputs": [],
   "source": [
    "df_opposite_query_vector_antonym  = pd.DataFrame(opposite_query_embedding_antonym).add_prefix('data')\n",
    "umap_opposite_query_antonym  = reducer.transform(df_opposite_query_vector_antonym)\n",
    "df_opposite_query_plot_antonym  = gen_dataframe_for_vis(umap_opposite_query_antonym)"
   ]
  },
  {
   "cell_type": "code",
   "execution_count": 36,
   "metadata": {},
   "outputs": [],
   "source": [
    "#df_query_plot.to_csv('../resources/data/temp/df_query_plot.csv', index=False)\n",
    "#df_opposite_query_plot_rewrite.to_csv('../resources/data/temp/df_opposite_query_plot_rewrite.csv', index=False)\n",
    "#df_opposite_query_plot_antonym.to_csv('../resources/data/temp/df_opposite_query_plot_antonym.csv', index=False)"
   ]
  },
  {
   "cell_type": "code",
   "execution_count": 39,
   "metadata": {},
   "outputs": [],
   "source": [
    "df_query_plot = pd.read_csv('../resources/data/temp/df_query_plot.csv')\n",
    "df_opposite_query_plot_rewrite = pd.read_csv('../resources/data/temp/df_opposite_query_plot_rewrite.csv')\n",
    "df_opposite_query_plot_antonym = pd.read_csv('../resources/data/temp/df_opposite_query_plot_antonym.csv')"
   ]
  },
  {
   "cell_type": "code",
   "execution_count": null,
   "metadata": {},
   "outputs": [],
   "source": []
  },
  {
   "cell_type": "code",
   "execution_count": 40,
   "metadata": {},
   "outputs": [
    {
     "data": {
      "text/html": [
       "\n",
       "<style>\n",
       "  #altair-viz-b650122903a94e7b812c83d6efb77bd9.vega-embed {\n",
       "    width: 100%;\n",
       "    display: flex;\n",
       "  }\n",
       "\n",
       "  #altair-viz-b650122903a94e7b812c83d6efb77bd9.vega-embed details,\n",
       "  #altair-viz-b650122903a94e7b812c83d6efb77bd9.vega-embed details summary {\n",
       "    position: relative;\n",
       "  }\n",
       "</style>\n",
       "<div id=\"altair-viz-b650122903a94e7b812c83d6efb77bd9\"></div>\n",
       "<script type=\"text/javascript\">\n",
       "  var VEGA_DEBUG = (typeof VEGA_DEBUG == \"undefined\") ? {} : VEGA_DEBUG;\n",
       "  (function(spec, embedOpt){\n",
       "    let outputDiv = document.currentScript.previousElementSibling;\n",
       "    if (outputDiv.id !== \"altair-viz-b650122903a94e7b812c83d6efb77bd9\") {\n",
       "      outputDiv = document.getElementById(\"altair-viz-b650122903a94e7b812c83d6efb77bd9\");\n",
       "    }\n",
       "    const paths = {\n",
       "      \"vega\": \"https://cdn.jsdelivr.net/npm/vega@5?noext\",\n",
       "      \"vega-lib\": \"https://cdn.jsdelivr.net/npm/vega-lib?noext\",\n",
       "      \"vega-lite\": \"https://cdn.jsdelivr.net/npm/vega-lite@5.8.0?noext\",\n",
       "      \"vega-embed\": \"https://cdn.jsdelivr.net/npm/vega-embed@6?noext\",\n",
       "    };\n",
       "\n",
       "    function maybeLoadScript(lib, version) {\n",
       "      var key = `${lib.replace(\"-\", \"\")}_version`;\n",
       "      return (VEGA_DEBUG[key] == version) ?\n",
       "        Promise.resolve(paths[lib]) :\n",
       "        new Promise(function(resolve, reject) {\n",
       "          var s = document.createElement('script');\n",
       "          document.getElementsByTagName(\"head\")[0].appendChild(s);\n",
       "          s.async = true;\n",
       "          s.onload = () => {\n",
       "            VEGA_DEBUG[key] = version;\n",
       "            return resolve(paths[lib]);\n",
       "          };\n",
       "          s.onerror = () => reject(`Error loading script: ${paths[lib]}`);\n",
       "          s.src = paths[lib];\n",
       "        });\n",
       "    }\n",
       "\n",
       "    function showError(err) {\n",
       "      outputDiv.innerHTML = `<div class=\"error\" style=\"color:red;\">${err}</div>`;\n",
       "      throw err;\n",
       "    }\n",
       "\n",
       "    function displayChart(vegaEmbed) {\n",
       "      vegaEmbed(outputDiv, spec, embedOpt)\n",
       "        .catch(err => showError(`Javascript Error: ${err.message}<br>This usually means there's a typo in your chart specification. See the javascript console for the full traceback.`));\n",
       "    }\n",
       "\n",
       "    if(typeof define === \"function\" && define.amd) {\n",
       "      requirejs.config({paths});\n",
       "      require([\"vega-embed\"], displayChart, err => showError(`Error loading script: ${err.message}`));\n",
       "    } else {\n",
       "      maybeLoadScript(\"vega\", \"5\")\n",
       "        .then(() => maybeLoadScript(\"vega-lite\", \"5.8.0\"))\n",
       "        .then(() => maybeLoadScript(\"vega-embed\", \"6\"))\n",
       "        .catch(showError)\n",
       "        .then(() => displayChart(vegaEmbed));\n",
       "    }\n",
       "  })({\"config\": {\"view\": {\"continuousWidth\": 300, \"continuousHeight\": 300}}, \"hconcat\": [{\"data\": {\"name\": \"data-0c095e94c9d6612f2f49de4150908abe\"}, \"mark\": {\"type\": \"rect\"}, \"encoding\": {\"color\": {\"field\": \"value\", \"legend\": null, \"scale\": {\"range\": [\"#feebe2\", \"#7a0177\"]}, \"title\": \"Value\", \"type\": \"quantitative\"}, \"x\": {\"field\": \"Review\", \"title\": \"Ori. Q.\", \"type\": \"nominal\"}, \"y\": {\"field\": \"variable\", \"title\": \"Component\", \"type\": \"ordinal\"}}}, {\"data\": {\"name\": \"data-c6d5655f39b179dcd9083f5250170201\"}, \"mark\": {\"type\": \"rect\"}, \"encoding\": {\"color\": {\"field\": \"value\", \"legend\": null, \"scale\": {\"range\": [\"#feebe2\", \"#7a0177\"]}, \"title\": \"Value\", \"type\": \"quantitative\"}, \"x\": {\"field\": \"Review\", \"title\": \"Opp. Q. Rewrite\", \"type\": \"nominal\"}, \"y\": {\"field\": \"variable\", \"title\": \"\", \"type\": \"ordinal\"}}}, {\"data\": {\"name\": \"data-8ac9496cd719e7fab3ed8b672df6043d\"}, \"mark\": {\"type\": \"rect\"}, \"encoding\": {\"color\": {\"field\": \"value\", \"legend\": null, \"scale\": {\"range\": [\"#feebe2\", \"#7a0177\"]}, \"title\": \"Value\", \"type\": \"quantitative\"}, \"x\": {\"field\": \"Review\", \"title\": \"Opp. Q. Antonym\", \"type\": \"nominal\"}, \"y\": {\"field\": \"variable\", \"title\": \"\", \"type\": \"ordinal\"}}}, {\"data\": {\"name\": \"data-f610642bb9e34400f5505d91fd3192b8\"}, \"mark\": {\"type\": \"rect\"}, \"encoding\": {\"color\": {\"field\": \"value\", \"scale\": {\"range\": [\"#feebe2\", \"#7a0177\"]}, \"title\": \"Value\", \"type\": \"quantitative\"}, \"x\": {\"field\": \"Review\", \"title\": \"Search Result (0-19)\", \"type\": \"nominal\"}, \"y\": {\"field\": \"variable\", \"title\": \"\", \"type\": \"ordinal\"}}}], \"$schema\": \"https://vega.github.io/schema/vega-lite/v5.8.0.json\", \"datasets\": {\"data-0c095e94c9d6612f2f49de4150908abe\": [{\"Review\": 0, \"variable\": 0, \"value\": 3.7457776}, {\"Review\": 0, \"variable\": 1, \"value\": 7.6785846}, {\"Review\": 0, \"variable\": 2, \"value\": 4.223627}, {\"Review\": 0, \"variable\": 3, \"value\": 2.8733988}, {\"Review\": 0, \"variable\": 4, \"value\": 3.1956296}, {\"Review\": 0, \"variable\": 5, \"value\": 3.5979555}, {\"Review\": 0, \"variable\": 6, \"value\": 3.3534713}, {\"Review\": 0, \"variable\": 7, \"value\": 6.409217}, {\"Review\": 0, \"variable\": 8, \"value\": 6.1153946}, {\"Review\": 0, \"variable\": 9, \"value\": -0.0881557}], \"data-c6d5655f39b179dcd9083f5250170201\": [{\"Review\": 0, \"variable\": 0, \"value\": 2.2681737}, {\"Review\": 0, \"variable\": 1, \"value\": 6.997407}, {\"Review\": 0, \"variable\": 2, \"value\": 4.511585}, {\"Review\": 0, \"variable\": 3, \"value\": 2.1005478}, {\"Review\": 0, \"variable\": 4, \"value\": 2.091194}, {\"Review\": 0, \"variable\": 5, \"value\": 3.8201396}, {\"Review\": 0, \"variable\": 6, \"value\": 3.9592166}, {\"Review\": 0, \"variable\": 7, \"value\": 4.673819}, {\"Review\": 0, \"variable\": 8, \"value\": 5.0962987}, {\"Review\": 0, \"variable\": 9, \"value\": 0.20753579}], \"data-8ac9496cd719e7fab3ed8b672df6043d\": [{\"Review\": 0, \"variable\": 0, \"value\": 4.416418}, {\"Review\": 0, \"variable\": 1, \"value\": 8.536959}, {\"Review\": 0, \"variable\": 2, \"value\": 3.5351484}, {\"Review\": 0, \"variable\": 3, \"value\": 3.2426558}, {\"Review\": 0, \"variable\": 4, \"value\": 2.4643147}, {\"Review\": 0, \"variable\": 5, \"value\": 5.6154437}, {\"Review\": 0, \"variable\": 6, \"value\": 3.9473445}, {\"Review\": 0, \"variable\": 7, \"value\": 6.0002146}, {\"Review\": 0, \"variable\": 8, \"value\": 5.0280046}, {\"Review\": 0, \"variable\": 9, \"value\": 1.9405286}], \"data-f610642bb9e34400f5505d91fd3192b8\": [{\"Review\": 0, \"variable\": 0, \"value\": 4.993271827697754}, {\"Review\": 1, \"variable\": 0, \"value\": 3.8209173679351807}, {\"Review\": 2, \"variable\": 0, \"value\": 1.9252451658248901}, {\"Review\": 3, \"variable\": 0, \"value\": 4.000892639160156}, {\"Review\": 4, \"variable\": 0, \"value\": 2.590153932571411}, {\"Review\": 5, \"variable\": 0, \"value\": 4.097480773925781}, {\"Review\": 6, \"variable\": 0, \"value\": 2.1462771892547607}, {\"Review\": 7, \"variable\": 0, \"value\": 3.980853796005249}, {\"Review\": 8, \"variable\": 0, \"value\": 4.044534683227539}, {\"Review\": 9, \"variable\": 0, \"value\": 3.6859397888183594}, {\"Review\": 10, \"variable\": 0, \"value\": 2.5864737033843994}, {\"Review\": 11, \"variable\": 0, \"value\": 4.1040568351745605}, {\"Review\": 12, \"variable\": 0, \"value\": 3.95641827583313}, {\"Review\": 13, \"variable\": 0, \"value\": 3.668321132659912}, {\"Review\": 14, \"variable\": 0, \"value\": 4.863710403442383}, {\"Review\": 15, \"variable\": 0, \"value\": 4.149351596832275}, {\"Review\": 16, \"variable\": 0, \"value\": 3.6932120323181152}, {\"Review\": 17, \"variable\": 0, \"value\": 5.014131546020508}, {\"Review\": 18, \"variable\": 0, \"value\": 2.4400360584259033}, {\"Review\": 19, \"variable\": 0, \"value\": 2.9458320140838623}, {\"Review\": 0, \"variable\": 1, \"value\": 8.854557991027832}, {\"Review\": 1, \"variable\": 1, \"value\": 7.286130905151367}, {\"Review\": 2, \"variable\": 1, \"value\": 6.457801818847656}, {\"Review\": 3, \"variable\": 1, \"value\": 6.288835048675537}, {\"Review\": 4, \"variable\": 1, \"value\": 7.478698253631592}, {\"Review\": 5, \"variable\": 1, \"value\": 6.359498023986816}, {\"Review\": 6, \"variable\": 1, \"value\": 6.597185134887695}, {\"Review\": 7, \"variable\": 1, \"value\": 8.34267520904541}, {\"Review\": 8, \"variable\": 1, \"value\": 8.563048362731934}, {\"Review\": 9, \"variable\": 1, \"value\": 7.9461669921875}, {\"Review\": 10, \"variable\": 1, \"value\": 6.845824241638184}, {\"Review\": 11, \"variable\": 1, \"value\": 7.748601913452148}, {\"Review\": 12, \"variable\": 1, \"value\": 6.339390277862549}, {\"Review\": 13, \"variable\": 1, \"value\": 8.241410255432129}, {\"Review\": 14, \"variable\": 1, \"value\": 8.698705673217773}, {\"Review\": 15, \"variable\": 1, \"value\": 6.413018226623535}, {\"Review\": 16, \"variable\": 1, \"value\": 8.35533618927002}, {\"Review\": 17, \"variable\": 1, \"value\": 8.89245319366455}, {\"Review\": 18, \"variable\": 1, \"value\": 6.5495710372924805}, {\"Review\": 19, \"variable\": 1, \"value\": 7.6719841957092285}, {\"Review\": 0, \"variable\": 2, \"value\": 3.5204246044158936}, {\"Review\": 1, \"variable\": 2, \"value\": 4.162505149841309}, {\"Review\": 2, \"variable\": 2, \"value\": 4.642462730407715}, {\"Review\": 3, \"variable\": 2, \"value\": 4.463565826416016}, {\"Review\": 4, \"variable\": 2, \"value\": 4.465688705444336}, {\"Review\": 5, \"variable\": 2, \"value\": 4.579709053039551}, {\"Review\": 6, \"variable\": 2, \"value\": 4.623655319213867}, {\"Review\": 7, \"variable\": 2, \"value\": 4.353116512298584}, {\"Review\": 8, \"variable\": 2, \"value\": 3.6560580730438232}, {\"Review\": 9, \"variable\": 2, \"value\": 3.951475143432617}, {\"Review\": 10, \"variable\": 2, \"value\": 3.916727066040039}, {\"Review\": 11, \"variable\": 2, \"value\": 4.1729536056518555}, {\"Review\": 12, \"variable\": 2, \"value\": 4.595853805541992}, {\"Review\": 13, \"variable\": 2, \"value\": 3.9505975246429443}, {\"Review\": 14, \"variable\": 2, \"value\": 3.555065870285034}, {\"Review\": 15, \"variable\": 2, \"value\": 4.746674060821533}, {\"Review\": 16, \"variable\": 2, \"value\": 4.18554162979126}, {\"Review\": 17, \"variable\": 2, \"value\": 3.6514997482299805}, {\"Review\": 18, \"variable\": 2, \"value\": 3.912132978439331}, {\"Review\": 19, \"variable\": 2, \"value\": 4.42850923538208}, {\"Review\": 0, \"variable\": 3, \"value\": 3.7540369033813477}, {\"Review\": 1, \"variable\": 3, \"value\": 3.0525267124176025}, {\"Review\": 2, \"variable\": 3, \"value\": 1.9336940050125122}, {\"Review\": 3, \"variable\": 3, \"value\": 3.5782864093780518}, {\"Review\": 4, \"variable\": 3, \"value\": 1.691169023513794}, {\"Review\": 5, \"variable\": 3, \"value\": 3.4522314071655273}, {\"Review\": 6, \"variable\": 3, \"value\": 2.112204074859619}, {\"Review\": 7, \"variable\": 3, \"value\": 2.7434120178222656}, {\"Review\": 8, \"variable\": 3, \"value\": 3.4221973419189453}, {\"Review\": 9, \"variable\": 3, \"value\": 2.921372413635254}, {\"Review\": 10, \"variable\": 3, \"value\": 2.089714288711548}, {\"Review\": 11, \"variable\": 3, \"value\": 2.824373960494995}, {\"Review\": 12, \"variable\": 3, \"value\": 3.28364634513855}, {\"Review\": 13, \"variable\": 3, \"value\": 3.171910047531128}, {\"Review\": 14, \"variable\": 3, \"value\": 3.6241953372955322}, {\"Review\": 15, \"variable\": 3, \"value\": 3.2448318004608154}, {\"Review\": 16, \"variable\": 3, \"value\": 3.142833709716797}, {\"Review\": 17, \"variable\": 3, \"value\": 3.8080737590789795}, {\"Review\": 18, \"variable\": 3, \"value\": 1.7290093898773193}, {\"Review\": 19, \"variable\": 3, \"value\": 1.7312471866607666}, {\"Review\": 0, \"variable\": 4, \"value\": 2.8163671493530273}, {\"Review\": 1, \"variable\": 4, \"value\": 3.7047786712646484}, {\"Review\": 2, \"variable\": 4, \"value\": 1.593965768814087}, {\"Review\": 3, \"variable\": 4, \"value\": 3.548672676086426}, {\"Review\": 4, \"variable\": 4, \"value\": 2.941506862640381}, {\"Review\": 5, \"variable\": 4, \"value\": 3.518817663192749}, {\"Review\": 6, \"variable\": 4, \"value\": 1.925478219985962}, {\"Review\": 7, \"variable\": 4, \"value\": 3.210528612136841}, {\"Review\": 8, \"variable\": 4, \"value\": 3.5580620765686035}, {\"Review\": 9, \"variable\": 4, \"value\": 3.355367660522461}, {\"Review\": 10, \"variable\": 4, \"value\": 1.3604480028152466}, {\"Review\": 11, \"variable\": 4, \"value\": 3.5155060291290283}, {\"Review\": 12, \"variable\": 4, \"value\": 3.398306131362915}, {\"Review\": 13, \"variable\": 4, \"value\": 3.4575588703155518}, {\"Review\": 14, \"variable\": 4, \"value\": 2.7248716354370117}, {\"Review\": 15, \"variable\": 4, \"value\": 3.429050922393799}, {\"Review\": 16, \"variable\": 4, \"value\": 3.4519546031951904}, {\"Review\": 17, \"variable\": 4, \"value\": 2.8335659503936768}, {\"Review\": 18, \"variable\": 4, \"value\": 1.2507829666137695}, {\"Review\": 19, \"variable\": 4, \"value\": 3.0721933841705322}, {\"Review\": 0, \"variable\": 5, \"value\": 5.941381454467773}, {\"Review\": 1, \"variable\": 5, \"value\": 4.059089183807373}, {\"Review\": 2, \"variable\": 5, \"value\": 3.6625893115997314}, {\"Review\": 3, \"variable\": 5, \"value\": 3.559039831161499}, {\"Review\": 4, \"variable\": 5, \"value\": 3.39931583404541}, {\"Review\": 5, \"variable\": 5, \"value\": 3.4069883823394775}, {\"Review\": 6, \"variable\": 5, \"value\": 3.6324806213378906}, {\"Review\": 7, \"variable\": 5, \"value\": 4.081674575805664}, {\"Review\": 8, \"variable\": 5, \"value\": 5.048654556274414}, {\"Review\": 9, \"variable\": 5, \"value\": 4.765604019165039}, {\"Review\": 10, \"variable\": 5, \"value\": 4.469156265258789}, {\"Review\": 11, \"variable\": 5, \"value\": 4.174646854400635}, {\"Review\": 12, \"variable\": 5, \"value\": 3.382284641265869}, {\"Review\": 13, \"variable\": 5, \"value\": 4.696090221405029}, {\"Review\": 14, \"variable\": 5, \"value\": 5.760654926300049}, {\"Review\": 15, \"variable\": 5, \"value\": 3.5585434436798096}, {\"Review\": 16, \"variable\": 5, \"value\": 4.309535026550293}, {\"Review\": 17, \"variable\": 5, \"value\": 5.8050127029418945}, {\"Review\": 18, \"variable\": 5, \"value\": 4.594242572784424}, {\"Review\": 19, \"variable\": 5, \"value\": 3.527710199356079}, {\"Review\": 0, \"variable\": 6, \"value\": 4.004473686218262}, {\"Review\": 1, \"variable\": 6, \"value\": 2.791182518005371}, {\"Review\": 2, \"variable\": 6, \"value\": 3.7465856075286865}, {\"Review\": 3, \"variable\": 6, \"value\": 2.0542609691619873}, {\"Review\": 4, \"variable\": 6, \"value\": 3.136341094970703}, {\"Review\": 5, \"variable\": 6, \"value\": 1.986063003540039}, {\"Review\": 6, \"variable\": 6, \"value\": 3.568652629852295}, {\"Review\": 7, \"variable\": 6, \"value\": 3.005603551864624}, {\"Review\": 8, \"variable\": 6, \"value\": 3.300830602645874}, {\"Review\": 9, \"variable\": 6, \"value\": 3.247960090637207}, {\"Review\": 10, \"variable\": 6, \"value\": 3.2466299533843994}, {\"Review\": 11, \"variable\": 6, \"value\": 2.9420971870422363}, {\"Review\": 12, \"variable\": 6, \"value\": 1.9638842344284058}, {\"Review\": 13, \"variable\": 6, \"value\": 3.1232948303222656}, {\"Review\": 14, \"variable\": 6, \"value\": 3.9612178802490234}, {\"Review\": 15, \"variable\": 6, \"value\": 1.8859093189239502}, {\"Review\": 16, \"variable\": 6, \"value\": 2.8854432106018066}, {\"Review\": 17, \"variable\": 6, \"value\": 3.991283416748047}, {\"Review\": 18, \"variable\": 6, \"value\": 3.402806043624878}, {\"Review\": 19, \"variable\": 6, \"value\": 2.9517693519592285}, {\"Review\": 0, \"variable\": 7, \"value\": 6.376550674438477}, {\"Review\": 1, \"variable\": 7, \"value\": 5.816815376281738}, {\"Review\": 2, \"variable\": 7, \"value\": 4.531835556030273}, {\"Review\": 3, \"variable\": 7, \"value\": 6.642247200012207}, {\"Review\": 4, \"variable\": 7, \"value\": 5.914437294006348}, {\"Review\": 5, \"variable\": 7, \"value\": 6.496816158294678}, {\"Review\": 6, \"variable\": 7, \"value\": 4.776607513427734}, {\"Review\": 7, \"variable\": 7, \"value\": 6.4969916343688965}, {\"Review\": 8, \"variable\": 7, \"value\": 5.772163391113281}, {\"Review\": 9, \"variable\": 7, \"value\": 5.454853057861328}, {\"Review\": 10, \"variable\": 7, \"value\": 4.31851863861084}, {\"Review\": 11, \"variable\": 7, \"value\": 6.000415802001953}, {\"Review\": 12, \"variable\": 7, \"value\": 6.352927207946777}, {\"Review\": 13, \"variable\": 7, \"value\": 5.77479362487793}, {\"Review\": 14, \"variable\": 7, \"value\": 6.262084007263184}, {\"Review\": 15, \"variable\": 7, \"value\": 6.317762851715088}, {\"Review\": 16, \"variable\": 7, \"value\": 6.256132125854492}, {\"Review\": 17, \"variable\": 7, \"value\": 6.340593338012695}, {\"Review\": 18, \"variable\": 7, \"value\": 4.465880870819092}, {\"Review\": 19, \"variable\": 7, \"value\": 6.029650688171387}, {\"Review\": 0, \"variable\": 8, \"value\": 5.119840621948242}, {\"Review\": 1, \"variable\": 8, \"value\": 5.861443996429443}, {\"Review\": 2, \"variable\": 8, \"value\": 4.635571479797363}, {\"Review\": 3, \"variable\": 8, \"value\": 4.133803367614746}, {\"Review\": 4, \"variable\": 8, \"value\": 6.105949878692627}, {\"Review\": 5, \"variable\": 8, \"value\": 3.9849274158477783}, {\"Review\": 6, \"variable\": 8, \"value\": 4.96524715423584}, {\"Review\": 7, \"variable\": 8, \"value\": 6.883488655090332}, {\"Review\": 8, \"variable\": 8, \"value\": 6.3624982833862305}, {\"Review\": 9, \"variable\": 8, \"value\": 6.251459121704102}, {\"Review\": 10, \"variable\": 8, \"value\": 4.221479892730713}, {\"Review\": 11, \"variable\": 8, \"value\": 6.5011210441589355}, {\"Review\": 12, \"variable\": 8, \"value\": 3.9733715057373047}, {\"Review\": 13, \"variable\": 8, \"value\": 6.36477518081665}, {\"Review\": 14, \"variable\": 8, \"value\": 5.065596103668213}, {\"Review\": 15, \"variable\": 8, \"value\": 4.050234794616699}, {\"Review\": 16, \"variable\": 8, \"value\": 6.5575852394104}, {\"Review\": 17, \"variable\": 8, \"value\": 5.292405605316162}, {\"Review\": 18, \"variable\": 8, \"value\": 4.097167015075684}, {\"Review\": 19, \"variable\": 8, \"value\": 6.4326558113098145}, {\"Review\": 0, \"variable\": 9, \"value\": 2.037431001663208}, {\"Review\": 1, \"variable\": 9, \"value\": 0.11472444981336594}, {\"Review\": 2, \"variable\": 9, \"value\": 0.3916639983654022}, {\"Review\": 3, \"variable\": 9, \"value\": 1.2829691171646118}, {\"Review\": 4, \"variable\": 9, \"value\": 0.23111285269260406}, {\"Review\": 5, \"variable\": 9, \"value\": 1.3187439441680908}, {\"Review\": 6, \"variable\": 9, \"value\": 0.2660001218318939}, {\"Review\": 7, \"variable\": 9, \"value\": -0.15412001311779022}, {\"Review\": 8, \"variable\": 9, \"value\": 0.6741179823875427}, {\"Review\": 9, \"variable\": 9, \"value\": 0.528078019618988}, {\"Review\": 10, \"variable\": 9, \"value\": 1.888780117034912}, {\"Review\": 11, \"variable\": 9, \"value\": -0.1088319644331932}, {\"Review\": 12, \"variable\": 9, \"value\": 1.09658944606781}, {\"Review\": 13, \"variable\": 9, \"value\": 0.4194006025791168}, {\"Review\": 14, \"variable\": 9, \"value\": 1.9246143102645874}, {\"Review\": 15, \"variable\": 9, \"value\": 1.031810998916626}, {\"Review\": 16, \"variable\": 9, \"value\": 0.052182745188474655}, {\"Review\": 17, \"variable\": 9, \"value\": 1.8494884967803955}, {\"Review\": 18, \"variable\": 9, \"value\": 1.7579302787780762}, {\"Review\": 19, \"variable\": 9, \"value\": 0.1264231652021408}]}}, {\"mode\": \"vega-lite\"});\n",
       "</script>"
      ],
      "text/plain": [
       "alt.HConcatChart(...)"
      ]
     },
     "execution_count": 40,
     "metadata": {},
     "output_type": "execute_result"
    }
   ],
   "source": [
    "#color_range = [\"#FFF33B\", \"#E93E3A\"]\n",
    "\n",
    "color_range = [\"#feebe2\", \"#7a0177\"]\n",
    "\n",
    "query_chart = alt.Chart(data=df_query_plot).mark_rect().encode(\n",
    "    x = alt.X('Review:N', title=\"Ori. Q.\"),\n",
    "    y = alt.Y('variable:O', title=\"Component\"),\n",
    "    color=alt.Color('value:Q', title=\"Value\", scale=alt.Scale(range=color_range), legend=None)\n",
    ")\n",
    "\n",
    "rewrite_chart = alt.Chart(data=df_opposite_query_plot_rewrite).mark_rect().encode(\n",
    "    x = alt.X('Review:N', title=\"Opp. Q. Rewrite\"),\n",
    "    y = alt.Y('variable:O', title=\"\"),\n",
    "    color=alt.Color('value:Q', title=\"Value\", scale=alt.Scale(range=color_range), legend=None)\n",
    ")\n",
    "\n",
    "antonym_chart = alt.Chart(data=df_opposite_query_plot_antonym).mark_rect().encode(\n",
    "    x = alt.X('Review:N', title=\"Opp. Q. Antonym\"),\n",
    "    y = alt.Y('variable:O', title=\"\"),\n",
    "    color=alt.Color('value:Q', title=\"Value\", scale=alt.Scale(range=color_range), legend=None)\n",
    ")\n",
    "\n",
    "search_result_chart = alt.Chart(data=df_search_result_plot).mark_rect().encode(\n",
    "    x = alt.X('Review:N', title=\"Search Result (0-19)\"),\n",
    "    y = alt.Y('variable:O', title=\"\"),\n",
    "    color=alt.Color('value:Q', title=\"Value\", scale=alt.Scale(range=color_range))\n",
    ")\n",
    "\n",
    "query_chart | rewrite_chart | antonym_chart | search_result_chart"
   ]
  },
  {
   "cell_type": "code",
   "execution_count": null,
   "metadata": {},
   "outputs": [],
   "source": []
  },
  {
   "cell_type": "code",
   "execution_count": null,
   "metadata": {},
   "outputs": [],
   "source": []
  },
  {
   "cell_type": "code",
   "execution_count": null,
   "metadata": {},
   "outputs": [],
   "source": []
  },
  {
   "cell_type": "code",
   "execution_count": null,
   "metadata": {},
   "outputs": [],
   "source": []
  },
  {
   "cell_type": "code",
   "execution_count": null,
   "metadata": {},
   "outputs": [],
   "source": []
  },
  {
   "cell_type": "code",
   "execution_count": null,
   "metadata": {},
   "outputs": [],
   "source": []
  }
 ],
 "metadata": {
  "kernelspec": {
   "display_name": "Python 3.9.16",
   "language": "python",
   "name": "python3"
  },
  "language_info": {
   "codemirror_mode": {
    "name": "ipython",
    "version": 3
   },
   "file_extension": ".py",
   "mimetype": "text/x-python",
   "name": "python",
   "nbconvert_exporter": "python",
   "pygments_lexer": "ipython3",
   "version": "3.9.16"
  },
  "orig_nbformat": 4,
  "vscode": {
   "interpreter": {
    "hash": "47c21ec07182bd7b8a7046c05381eb5ae64d2b190ea0743ff4dd83b9ddde1114"
   }
  }
 },
 "nbformat": 4,
 "nbformat_minor": 2
}
