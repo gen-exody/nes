{
 "cells": [
  {
   "cell_type": "markdown",
   "metadata": {},
   "source": [
    "## Step 3: Create FAISS indexes\n",
    "\n",
    "In this notebook, we are going to use FAISS to create indexes for our searching engine.  \n",
    "There are 2 ouputs for this notebook:\n",
    "- *apparel_15to25_review_cosine.faissindex*, the index for the development dataset\n",
    "- *apparel_10to14_review_cosine.faissindex*, the index for the evaluation dataset"
   ]
  },
  {
   "cell_type": "code",
   "execution_count": 1,
   "metadata": {},
   "outputs": [],
   "source": [
    "# install the faiss-cpu when new env is provisioned\n",
    "#!pip install faiss-cpu\n",
    "#conda install -c pytorch faiss-cpu=1.7.4 mkl=2021"
   ]
  },
  {
   "cell_type": "code",
   "execution_count": 2,
   "metadata": {},
   "outputs": [],
   "source": [
    "import faiss\n",
    "import pandas as pd\n",
    "import numpy as np"
   ]
  },
  {
   "cell_type": "markdown",
   "metadata": {},
   "source": [
    "## Load the dataframe pickle files \n"
   ]
  },
  {
   "cell_type": "code",
   "execution_count": 3,
   "metadata": {},
   "outputs": [],
   "source": [
    "df_development = pd.read_pickle('../resources/data/apparel_15to25_embedding.pkl')\n",
    "df_evaluation = pd.read_pickle('../resources/data/apparel_10to14_embedding.pkl')"
   ]
  },
  {
   "cell_type": "markdown",
   "metadata": {},
   "source": [
    "## Create the FAISS index\n",
    "We'll create the IndexFlatIP. IP stands for \"inner product\". If we have normalized vectors, then the inner product becomes cosine similarity.\n",
    "\n",
    "Refernce:  \n",
    "https://www.pinecone.io/learn/faiss-tutorial/\n",
    "https://github.com/facebookresearch/faiss/wiki/Getting-started  \n",
    "https://ai.plainenglish.io/speeding-up-similarity-search-in-recommender-systems-using-faiss-basics-part-i-ec1b5e92c92d\n"
   ]
  },
  {
   "cell_type": "markdown",
   "metadata": {},
   "source": [
    "### Create the index for the development dataset"
   ]
  },
  {
   "cell_type": "code",
   "execution_count": 4,
   "metadata": {},
   "outputs": [
    {
     "data": {
      "text/plain": [
       "True"
      ]
     },
     "execution_count": 4,
     "metadata": {},
     "output_type": "execute_result"
    }
   ],
   "source": [
    "# initialize the IndexFlatIP with the embedding dimension \n",
    "index_dev = faiss.IndexFlatIP(len(df_development['embedding'][0]))\n",
    "index_dev.is_trained"
   ]
  },
  {
   "cell_type": "code",
   "execution_count": 5,
   "metadata": {},
   "outputs": [
    {
     "data": {
      "text/plain": [
       "(89103, 1536)"
      ]
     },
     "execution_count": 5,
     "metadata": {},
     "output_type": "execute_result"
    }
   ],
   "source": [
    "# create the embeddings array\n",
    "# this array is required by faiss to be float32 \n",
    "embeddings_dev = np.array(df_development['embedding'].to_list(), dtype='float32')\n",
    "embeddings_dev.shape"
   ]
  },
  {
   "cell_type": "code",
   "execution_count": 6,
   "metadata": {},
   "outputs": [
    {
     "data": {
      "text/plain": [
       "89103"
      ]
     },
     "execution_count": 6,
     "metadata": {},
     "output_type": "execute_result"
    }
   ],
   "source": [
    "# Normalize the embeddings and add to to the index\n",
    "faiss.normalize_L2(embeddings_dev)\n",
    "index_dev.add(embeddings_dev)\n",
    "index_dev.ntotal"
   ]
  },
  {
   "cell_type": "code",
   "execution_count": 7,
   "metadata": {},
   "outputs": [],
   "source": [
    "# Save the index \n",
    "# uncomment below line to save the index\n",
    "#faiss.write_index(index_dev, '../resources/binary/apparel_15to25_review_cosine.faissindex')"
   ]
  },
  {
   "cell_type": "markdown",
   "metadata": {},
   "source": [
    "### Create the index for the evaluation dataset"
   ]
  },
  {
   "cell_type": "code",
   "execution_count": 8,
   "metadata": {},
   "outputs": [
    {
     "data": {
      "text/plain": [
       "True"
      ]
     },
     "execution_count": 8,
     "metadata": {},
     "output_type": "execute_result"
    }
   ],
   "source": [
    "# initialize the IndexFlatIP with the embedding dimension \n",
    "index_eva = faiss.IndexFlatIP(len(df_evaluation['embedding'][0]))\n",
    "index_eva.is_trained"
   ]
  },
  {
   "cell_type": "code",
   "execution_count": 9,
   "metadata": {},
   "outputs": [
    {
     "data": {
      "text/plain": [
       "(88918, 1536)"
      ]
     },
     "execution_count": 9,
     "metadata": {},
     "output_type": "execute_result"
    }
   ],
   "source": [
    "# create the embeddings array\n",
    "# this array is required by faiss to be float32 \n",
    "embeddings_eva = np.array(df_evaluation['embedding'].to_list(), dtype='float32')\n",
    "embeddings_eva.shape"
   ]
  },
  {
   "cell_type": "code",
   "execution_count": 10,
   "metadata": {},
   "outputs": [
    {
     "data": {
      "text/plain": [
       "88918"
      ]
     },
     "execution_count": 10,
     "metadata": {},
     "output_type": "execute_result"
    }
   ],
   "source": [
    "# Normalize the embeddings and add to to the index\n",
    "faiss.normalize_L2(embeddings_eva)\n",
    "index_eva.add(embeddings_eva)\n",
    "index_eva.ntotal"
   ]
  },
  {
   "cell_type": "code",
   "execution_count": 11,
   "metadata": {},
   "outputs": [],
   "source": [
    "# Save the index \n",
    "# uncomment below line to save the index\n",
    "#faiss.write_index(index_eva, '../resources/binary/apparel_10to14_review_cosine.faissindex')"
   ]
  },
  {
   "cell_type": "code",
   "execution_count": null,
   "metadata": {},
   "outputs": [],
   "source": []
  }
 ],
 "metadata": {
  "kernelspec": {
   "display_name": "Python 3.9.16",
   "language": "python",
   "name": "python3"
  },
  "language_info": {
   "codemirror_mode": {
    "name": "ipython",
    "version": 3
   },
   "file_extension": ".py",
   "mimetype": "text/x-python",
   "name": "python",
   "nbconvert_exporter": "python",
   "pygments_lexer": "ipython3",
   "version": "3.9.16"
  },
  "orig_nbformat": 4,
  "vscode": {
   "interpreter": {
    "hash": "47c21ec07182bd7b8a7046c05381eb5ae64d2b190ea0743ff4dd83b9ddde1114"
   }
  }
 },
 "nbformat": 4,
 "nbformat_minor": 2
}
