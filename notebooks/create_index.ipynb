{
 "cells": [
  {
   "cell_type": "markdown",
   "metadata": {},
   "source": [
    "Please use the Local ./Dockerfile environment "
   ]
  },
  {
   "cell_type": "code",
   "execution_count": null,
   "metadata": {},
   "outputs": [],
   "source": [
    "# install the faiss-cpu when new env is provisioned\n",
    "#!pip install faiss-cpu"
   ]
  },
  {
   "cell_type": "code",
   "execution_count": null,
   "metadata": {},
   "outputs": [],
   "source": [
    "# install the openai when new env is provisioned\n",
    "#!pip install openai"
   ]
  },
  {
   "cell_type": "code",
   "execution_count": 1,
   "metadata": {},
   "outputs": [],
   "source": [
    "import faiss\n",
    "import openai\n",
    "import pandas as pd\n",
    "import numpy as np"
   ]
  },
  {
   "cell_type": "code",
   "execution_count": 2,
   "metadata": {},
   "outputs": [
    {
     "data": {
      "text/plain": [
       "'1.5.3'"
      ]
     },
     "execution_count": 2,
     "metadata": {},
     "output_type": "execute_result"
    }
   ],
   "source": [
    "pd.__version__"
   ]
  },
  {
   "cell_type": "markdown",
   "metadata": {},
   "source": [
    "### Load the dataframe pickle\n",
    "\n",
    "This dataframe is created with the amazon_reviews_us_Apparel_v1_00.tsv.gz dataset with following filtering criteria:\n",
    "1. Year 2015\n",
    "2. Products with 30 - 40 reviews\n",
    "3. review_lenght > 10\n",
    "\n",
    "The embedding is created with OpenAI, model=\"text-embedding-ada-002\""
   ]
  },
  {
   "cell_type": "code",
   "execution_count": 4,
   "metadata": {},
   "outputs": [],
   "source": [
    "df_apparel = pd.read_pickle('../resources/data/apparel_10to14_embedding.pkl')"
   ]
  },
  {
   "cell_type": "code",
   "execution_count": 5,
   "metadata": {},
   "outputs": [
    {
     "data": {
      "text/html": [
       "<div>\n",
       "<style scoped>\n",
       "    .dataframe tbody tr th:only-of-type {\n",
       "        vertical-align: middle;\n",
       "    }\n",
       "\n",
       "    .dataframe tbody tr th {\n",
       "        vertical-align: top;\n",
       "    }\n",
       "\n",
       "    .dataframe thead th {\n",
       "        text-align: right;\n",
       "    }\n",
       "</style>\n",
       "<table border=\"1\" class=\"dataframe\">\n",
       "  <thead>\n",
       "    <tr style=\"text-align: right;\">\n",
       "      <th></th>\n",
       "      <th>product_id</th>\n",
       "      <th>product_title</th>\n",
       "      <th>product_category</th>\n",
       "      <th>star_rating</th>\n",
       "      <th>review_id</th>\n",
       "      <th>review_headline</th>\n",
       "      <th>review_body</th>\n",
       "      <th>review_length</th>\n",
       "      <th>review_count</th>\n",
       "      <th>text</th>\n",
       "      <th>embedding</th>\n",
       "    </tr>\n",
       "  </thead>\n",
       "  <tbody>\n",
       "    <tr>\n",
       "      <th>0</th>\n",
       "      <td>B00001QHXX</td>\n",
       "      <td>Richard Nixon Mask</td>\n",
       "      <td>Apparel</td>\n",
       "      <td>3.0</td>\n",
       "      <td>R2HBUQ97RV5JVR</td>\n",
       "      <td>Only get this if you want to freak people out....</td>\n",
       "      <td>I got this mask for a company party and it fre...</td>\n",
       "      <td>43</td>\n",
       "      <td>10</td>\n",
       "      <td>Richard Nixon Mask. I got this mask for a comp...</td>\n",
       "      <td>[-0.03131880611181259, 0.0008081794367171824, ...</td>\n",
       "    </tr>\n",
       "    <tr>\n",
       "      <th>1</th>\n",
       "      <td>B00001QHXX</td>\n",
       "      <td>Richard Nixon Mask</td>\n",
       "      <td>Apparel</td>\n",
       "      <td>4.0</td>\n",
       "      <td>RHCH92YNAS282</td>\n",
       "      <td>Four Stars</td>\n",
       "      <td>Nice mask, will have to do some fitting work. ...</td>\n",
       "      <td>18</td>\n",
       "      <td>10</td>\n",
       "      <td>Richard Nixon Mask. Nice mask, will have to do...</td>\n",
       "      <td>[-0.029398588463664055, 0.00031407203641720116...</td>\n",
       "    </tr>\n",
       "    <tr>\n",
       "      <th>2</th>\n",
       "      <td>B00001QHXX</td>\n",
       "      <td>Richard Nixon Mask</td>\n",
       "      <td>Apparel</td>\n",
       "      <td>5.0</td>\n",
       "      <td>R1OHYB07D0WE35</td>\n",
       "      <td>Bargain</td>\n",
       "      <td>Even though its a bit large, I can't help but ...</td>\n",
       "      <td>28</td>\n",
       "      <td>10</td>\n",
       "      <td>Richard Nixon Mask. Even though its a bit larg...</td>\n",
       "      <td>[-0.022034794092178345, -0.008237365633249283,...</td>\n",
       "    </tr>\n",
       "  </tbody>\n",
       "</table>\n",
       "</div>"
      ],
      "text/plain": [
       "   product_id       product_title product_category  star_rating  \\\n",
       "0  B00001QHXX  Richard Nixon Mask          Apparel          3.0   \n",
       "1  B00001QHXX  Richard Nixon Mask          Apparel          4.0   \n",
       "2  B00001QHXX  Richard Nixon Mask          Apparel          5.0   \n",
       "\n",
       "        review_id                                    review_headline  \\\n",
       "0  R2HBUQ97RV5JVR  Only get this if you want to freak people out....   \n",
       "1   RHCH92YNAS282                                         Four Stars   \n",
       "2  R1OHYB07D0WE35                                            Bargain   \n",
       "\n",
       "                                         review_body  review_length  \\\n",
       "0  I got this mask for a company party and it fre...             43   \n",
       "1  Nice mask, will have to do some fitting work. ...             18   \n",
       "2  Even though its a bit large, I can't help but ...             28   \n",
       "\n",
       "   review_count                                               text  \\\n",
       "0            10  Richard Nixon Mask. I got this mask for a comp...   \n",
       "1            10  Richard Nixon Mask. Nice mask, will have to do...   \n",
       "2            10  Richard Nixon Mask. Even though its a bit larg...   \n",
       "\n",
       "                                           embedding  \n",
       "0  [-0.03131880611181259, 0.0008081794367171824, ...  \n",
       "1  [-0.029398588463664055, 0.00031407203641720116...  \n",
       "2  [-0.022034794092178345, -0.008237365633249283,...  "
      ]
     },
     "execution_count": 5,
     "metadata": {},
     "output_type": "execute_result"
    }
   ],
   "source": [
    "df_apparel.head(3)"
   ]
  },
  {
   "cell_type": "markdown",
   "metadata": {},
   "source": [
    "### Create the FAISS index\n",
    "We'll create the IndexFlatL2. This is the basic Euclidean distance for similarity measurement  \n",
    "\n",
    "Refernce:  \n",
    "https://www.pinecone.io/learn/faiss-tutorial/\n",
    "https://github.com/facebookresearch/faiss/wiki/Getting-started  \n",
    "https://ai.plainenglish.io/speeding-up-similarity-search-in-recommender-systems-using-faiss-basics-part-i-ec1b5e92c92d\n"
   ]
  },
  {
   "cell_type": "code",
   "execution_count": 6,
   "metadata": {},
   "outputs": [
    {
     "data": {
      "text/plain": [
       "True"
      ]
     },
     "execution_count": 6,
     "metadata": {},
     "output_type": "execute_result"
    }
   ],
   "source": [
    "# initialize the IndexFlatIP with the embedding dimension \n",
    "index = faiss.IndexFlatIP(len(df_apparel['embedding'][0]))\n",
    "index.is_trained"
   ]
  },
  {
   "cell_type": "code",
   "execution_count": 7,
   "metadata": {},
   "outputs": [
    {
     "data": {
      "text/plain": [
       "(88918, 1536)"
      ]
     },
     "execution_count": 7,
     "metadata": {},
     "output_type": "execute_result"
    }
   ],
   "source": [
    "# create the embeddings array\n",
    "# this array is required by faiss to be float32 \n",
    "embeddings = np.array(df_apparel['embedding'].to_list(), dtype='float32')\n",
    "embeddings.shape"
   ]
  },
  {
   "cell_type": "code",
   "execution_count": 8,
   "metadata": {},
   "outputs": [
    {
     "data": {
      "text/plain": [
       "array([-0.03131881,  0.00080818,  0.01593621, ..., -0.00513083,\n",
       "       -0.00486061, -0.01712253], dtype=float32)"
      ]
     },
     "execution_count": 8,
     "metadata": {},
     "output_type": "execute_result"
    }
   ],
   "source": [
    "embeddings[0]"
   ]
  },
  {
   "cell_type": "code",
   "execution_count": 9,
   "metadata": {},
   "outputs": [
    {
     "data": {
      "text/plain": [
       "88918"
      ]
     },
     "execution_count": 9,
     "metadata": {},
     "output_type": "execute_result"
    }
   ],
   "source": [
    "# Normalize the embeddings and add to to the index\n",
    "faiss.normalize_L2(embeddings)\n",
    "index.add(embeddings)\n",
    "index.ntotal"
   ]
  },
  {
   "cell_type": "code",
   "execution_count": 10,
   "metadata": {},
   "outputs": [
    {
     "data": {
      "text/plain": [
       "array([-0.0313188 ,  0.00080818,  0.01593621, ..., -0.00513083,\n",
       "       -0.00486061, -0.01712253], dtype=float32)"
      ]
     },
     "execution_count": 10,
     "metadata": {},
     "output_type": "execute_result"
    }
   ],
   "source": [
    "embeddings[0]"
   ]
  },
  {
   "cell_type": "code",
   "execution_count": 11,
   "metadata": {},
   "outputs": [],
   "source": [
    "# Save the index \n",
    "faiss.write_index(index, '../resources/binary/apparel_10to14_review_cosine.faissindex')"
   ]
  },
  {
   "cell_type": "code",
   "execution_count": null,
   "metadata": {},
   "outputs": [],
   "source": []
  },
  {
   "cell_type": "code",
   "execution_count": null,
   "metadata": {},
   "outputs": [],
   "source": []
  },
  {
   "cell_type": "code",
   "execution_count": null,
   "metadata": {},
   "outputs": [],
   "source": []
  },
  {
   "cell_type": "code",
   "execution_count": null,
   "metadata": {},
   "outputs": [],
   "source": []
  },
  {
   "cell_type": "code",
   "execution_count": null,
   "metadata": {},
   "outputs": [],
   "source": []
  }
 ],
 "metadata": {
  "kernelspec": {
   "display_name": "Python 3.9.16",
   "language": "python",
   "name": "python3"
  },
  "language_info": {
   "codemirror_mode": {
    "name": "ipython",
    "version": 3
   },
   "file_extension": ".py",
   "mimetype": "text/x-python",
   "name": "python",
   "nbconvert_exporter": "python",
   "pygments_lexer": "ipython3",
   "version": "3.9.16"
  },
  "orig_nbformat": 4,
  "vscode": {
   "interpreter": {
    "hash": "47c21ec07182bd7b8a7046c05381eb5ae64d2b190ea0743ff4dd83b9ddde1114"
   }
  }
 },
 "nbformat": 4,
 "nbformat_minor": 2
}
