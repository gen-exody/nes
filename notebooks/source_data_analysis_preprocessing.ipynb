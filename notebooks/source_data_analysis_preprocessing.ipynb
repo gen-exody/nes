{
 "cells": [
  {
   "cell_type": "markdown",
   "metadata": {},
   "source": [
    "# Step 1: Source Data Analysis and Preprocessing\n",
    "\n",
    "In this notebook, we explore the Amazon Customer Review dataset in order to define the data scope for building and evaluating our product search engine"
   ]
  },
  {
   "cell_type": "code",
   "execution_count": 51,
   "metadata": {},
   "outputs": [],
   "source": [
    "import warnings\n",
    "warnings.filterwarnings('ignore')\n",
    "\n",
    "import pandas as pd\n",
    "import numpy as np\n",
    "from bs4 import BeautifulSoup\n",
    "\n",
    "pd.set_option('display.float_format', lambda x: '%.3f' % x)"
   ]
  },
  {
   "cell_type": "code",
   "execution_count": 2,
   "metadata": {},
   "outputs": [
    {
     "name": "stdout",
     "output_type": "stream",
     "text": [
      "<class 'pandas.core.frame.DataFrame'>\n",
      "RangeIndex: 2355721 entries, 0 to 2355720\n",
      "Data columns (total 15 columns):\n",
      " #   Column             Dtype  \n",
      "---  ------             -----  \n",
      " 0   marketplace        object \n",
      " 1   customer_id        int64  \n",
      " 2   review_id          object \n",
      " 3   product_id         object \n",
      " 4   product_parent     int64  \n",
      " 5   product_title      object \n",
      " 6   product_category   object \n",
      " 7   star_rating        float64\n",
      " 8   helpful_votes      float64\n",
      " 9   total_votes        float64\n",
      " 10  vine               object \n",
      " 11  verified_purchase  object \n",
      " 12  review_headline    object \n",
      " 13  review_body        object \n",
      " 14  review_date        object \n",
      "dtypes: float64(3), int64(2), object(10)\n",
      "memory usage: 269.6+ MB\n"
     ]
    }
   ],
   "source": [
    "df_apparel_2015 = pd.read_csv('../resources/data/apparel_2015.tsv', sep='\\t')\n",
    "df_apparel_2015.info()"
   ]
  },
  {
   "cell_type": "code",
   "execution_count": 8,
   "metadata": {},
   "outputs": [
    {
     "data": {
      "text/plain": [
       "(2355721, 15)"
      ]
     },
     "execution_count": 8,
     "metadata": {},
     "output_type": "execute_result"
    }
   ],
   "source": [
    "df_apparel_2015.shape"
   ]
  },
  {
   "cell_type": "code",
   "execution_count": 3,
   "metadata": {},
   "outputs": [
    {
     "data": {
      "text/html": [
       "<div>\n",
       "<style scoped>\n",
       "    .dataframe tbody tr th:only-of-type {\n",
       "        vertical-align: middle;\n",
       "    }\n",
       "\n",
       "    .dataframe tbody tr th {\n",
       "        vertical-align: top;\n",
       "    }\n",
       "\n",
       "    .dataframe thead th {\n",
       "        text-align: right;\n",
       "    }\n",
       "</style>\n",
       "<table border=\"1\" class=\"dataframe\">\n",
       "  <thead>\n",
       "    <tr style=\"text-align: right;\">\n",
       "      <th></th>\n",
       "      <th>marketplace</th>\n",
       "      <th>customer_id</th>\n",
       "      <th>review_id</th>\n",
       "      <th>product_id</th>\n",
       "      <th>product_parent</th>\n",
       "      <th>product_title</th>\n",
       "      <th>product_category</th>\n",
       "      <th>star_rating</th>\n",
       "      <th>helpful_votes</th>\n",
       "      <th>total_votes</th>\n",
       "      <th>vine</th>\n",
       "      <th>verified_purchase</th>\n",
       "      <th>review_headline</th>\n",
       "      <th>review_body</th>\n",
       "      <th>review_date</th>\n",
       "    </tr>\n",
       "  </thead>\n",
       "  <tbody>\n",
       "    <tr>\n",
       "      <th>0</th>\n",
       "      <td>US</td>\n",
       "      <td>12608825</td>\n",
       "      <td>RWQEDYAX373I1</td>\n",
       "      <td>B01I497BGY</td>\n",
       "      <td>811958549</td>\n",
       "      <td>James Fiallo Men's 12-Pairs Low Cut Athletic S...</td>\n",
       "      <td>Apparel</td>\n",
       "      <td>5.000</td>\n",
       "      <td>0.000</td>\n",
       "      <td>0.000</td>\n",
       "      <td>N</td>\n",
       "      <td>Y</td>\n",
       "      <td>Great Socks for the money.</td>\n",
       "      <td>Nice socks, great colors, just enough support ...</td>\n",
       "      <td>2015-07-12</td>\n",
       "    </tr>\n",
       "    <tr>\n",
       "      <th>1</th>\n",
       "      <td>US</td>\n",
       "      <td>25482800</td>\n",
       "      <td>R231YI7R4GPF6J</td>\n",
       "      <td>B01HDXFZK6</td>\n",
       "      <td>692205728</td>\n",
       "      <td>Belfry Gangster 100% Wool Stain-Resistant Crus...</td>\n",
       "      <td>Apparel</td>\n",
       "      <td>5.000</td>\n",
       "      <td>0.000</td>\n",
       "      <td>0.000</td>\n",
       "      <td>N</td>\n",
       "      <td>Y</td>\n",
       "      <td>Slick hat!</td>\n",
       "      <td>I bought this for my husband and WOW, this is ...</td>\n",
       "      <td>2015-06-03</td>\n",
       "    </tr>\n",
       "    <tr>\n",
       "      <th>2</th>\n",
       "      <td>US</td>\n",
       "      <td>9310286</td>\n",
       "      <td>R3KO3W45DD0L1K</td>\n",
       "      <td>B01G6MBEBY</td>\n",
       "      <td>431150422</td>\n",
       "      <td>JAEDEN Women's Beaded Spaghetti Straps Sexy Lo...</td>\n",
       "      <td>Apparel</td>\n",
       "      <td>5.000</td>\n",
       "      <td>0.000</td>\n",
       "      <td>0.000</td>\n",
       "      <td>N</td>\n",
       "      <td>Y</td>\n",
       "      <td>I would do it again!</td>\n",
       "      <td>Perfect dress and the customer service was awe...</td>\n",
       "      <td>2015-06-12</td>\n",
       "    </tr>\n",
       "  </tbody>\n",
       "</table>\n",
       "</div>"
      ],
      "text/plain": [
       "  marketplace  customer_id       review_id  product_id  product_parent  \\\n",
       "0          US     12608825   RWQEDYAX373I1  B01I497BGY       811958549   \n",
       "1          US     25482800  R231YI7R4GPF6J  B01HDXFZK6       692205728   \n",
       "2          US      9310286  R3KO3W45DD0L1K  B01G6MBEBY       431150422   \n",
       "\n",
       "                                       product_title product_category  \\\n",
       "0  James Fiallo Men's 12-Pairs Low Cut Athletic S...          Apparel   \n",
       "1  Belfry Gangster 100% Wool Stain-Resistant Crus...          Apparel   \n",
       "2  JAEDEN Women's Beaded Spaghetti Straps Sexy Lo...          Apparel   \n",
       "\n",
       "   star_rating  helpful_votes  total_votes vine verified_purchase  \\\n",
       "0        5.000          0.000        0.000    N                 Y   \n",
       "1        5.000          0.000        0.000    N                 Y   \n",
       "2        5.000          0.000        0.000    N                 Y   \n",
       "\n",
       "              review_headline  \\\n",
       "0  Great Socks for the money.   \n",
       "1                  Slick hat!   \n",
       "2        I would do it again!   \n",
       "\n",
       "                                         review_body review_date  \n",
       "0  Nice socks, great colors, just enough support ...  2015-07-12  \n",
       "1  I bought this for my husband and WOW, this is ...  2015-06-03  \n",
       "2  Perfect dress and the customer service was awe...  2015-06-12  "
      ]
     },
     "execution_count": 3,
     "metadata": {},
     "output_type": "execute_result"
    }
   ],
   "source": [
    "df_apparel_2015.head(3)"
   ]
  },
  {
   "cell_type": "code",
   "execution_count": null,
   "metadata": {},
   "outputs": [],
   "source": []
  },
  {
   "cell_type": "markdown",
   "metadata": {},
   "source": [
    "## Check the distribution for number of reviews per product\n",
    "\n",
    "We grouped the dataset by product, seeing the distibution on number of reviews per product. "
   ]
  },
  {
   "cell_type": "code",
   "execution_count": 7,
   "metadata": {},
   "outputs": [],
   "source": [
    "df_product_review_count = df_apparel_2015.groupby(by='product_id')['product_id'].count()\n",
    "df_product_review_count = df_product_review_count.to_frame('review_count').reset_index()"
   ]
  },
  {
   "cell_type": "code",
   "execution_count": 12,
   "metadata": {},
   "outputs": [
    {
     "data": {
      "text/html": [
       "<div>\n",
       "<style scoped>\n",
       "    .dataframe tbody tr th:only-of-type {\n",
       "        vertical-align: middle;\n",
       "    }\n",
       "\n",
       "    .dataframe tbody tr th {\n",
       "        vertical-align: top;\n",
       "    }\n",
       "\n",
       "    .dataframe thead th {\n",
       "        text-align: right;\n",
       "    }\n",
       "</style>\n",
       "<table border=\"1\" class=\"dataframe\">\n",
       "  <thead>\n",
       "    <tr style=\"text-align: right;\">\n",
       "      <th></th>\n",
       "      <th>product_id</th>\n",
       "      <th>review_count</th>\n",
       "    </tr>\n",
       "  </thead>\n",
       "  <tbody>\n",
       "    <tr>\n",
       "      <th>0</th>\n",
       "      <td>0000032034</td>\n",
       "      <td>7</td>\n",
       "    </tr>\n",
       "    <tr>\n",
       "      <th>1</th>\n",
       "      <td>0000032050</td>\n",
       "      <td>7</td>\n",
       "    </tr>\n",
       "    <tr>\n",
       "      <th>2</th>\n",
       "      <td>0000032069</td>\n",
       "      <td>1</td>\n",
       "    </tr>\n",
       "  </tbody>\n",
       "</table>\n",
       "</div>"
      ],
      "text/plain": [
       "   product_id  review_count\n",
       "0  0000032034             7\n",
       "1  0000032050             7\n",
       "2  0000032069             1"
      ]
     },
     "execution_count": 12,
     "metadata": {},
     "output_type": "execute_result"
    }
   ],
   "source": [
    "df_product_review_count.head(3)"
   ]
  },
  {
   "cell_type": "code",
   "execution_count": 10,
   "metadata": {},
   "outputs": [
    {
     "data": {
      "text/plain": [
       "count   1119057.000\n",
       "mean          2.105\n",
       "std           4.912\n",
       "min           1.000\n",
       "25%           1.000\n",
       "50%           1.000\n",
       "75%           2.000\n",
       "max         646.000\n",
       "Name: review_count, dtype: float64"
      ]
     },
     "execution_count": 10,
     "metadata": {},
     "output_type": "execute_result"
    }
   ],
   "source": [
    "df_product_review_count['review_count'].describe()"
   ]
  },
  {
   "cell_type": "code",
   "execution_count": 11,
   "metadata": {},
   "outputs": [
    {
     "data": {
      "text/plain": [
       "(0.354, 7.45]      1080749\n",
       "(7.45, 13.9]         23362\n",
       "(13.9, 20.35]         7539\n",
       "(20.35, 26.8]         2576\n",
       "(26.8, 33.25]         1682\n",
       "                    ...   \n",
       "(497.65, 504.1]          0\n",
       "(504.1, 510.55]          0\n",
       "(510.55, 517.0]          0\n",
       "(394.45, 400.9]          0\n",
       "(517.0, 523.45]          0\n",
       "Name: review_count, Length: 100, dtype: int64"
      ]
     },
     "execution_count": 11,
     "metadata": {},
     "output_type": "execute_result"
    }
   ],
   "source": [
    "df_product_review_count['review_count'].value_counts(bins=100)"
   ]
  },
  {
   "cell_type": "code",
   "execution_count": 23,
   "metadata": {},
   "outputs": [
    {
     "data": {
      "text/plain": [
       "array([[<Axes: title={'center': 'review_count'}>]], dtype=object)"
      ]
     },
     "execution_count": 23,
     "metadata": {},
     "output_type": "execute_result"
    },
    {
     "data": {
      "image/png": "[encoded data removed]",
      "text/plain": [
       "<Figure size 640x480 with 1 Axes>"
      ]
     },
     "metadata": {},
     "output_type": "display_data"
    }
   ],
   "source": [
    "df_product_review_count[df_product_review_count['review_count'] <= 50].hist()"
   ]
  },
  {
   "cell_type": "code",
   "execution_count": 32,
   "metadata": {},
   "outputs": [
    {
     "data": {
      "text/plain": [
       "array([[<Axes: title={'center': 'review_count'}>]], dtype=object)"
      ]
     },
     "execution_count": 32,
     "metadata": {},
     "output_type": "execute_result"
    },
    {
     "data": {
      "image/png": "[encoded data removed]",
      "text/plain": [
       "<Figure size 640x480 with 1 Axes>"
      ]
     },
     "metadata": {},
     "output_type": "display_data"
    }
   ],
   "source": [
    "df_product_review_count[(df_product_review_count['review_count'] >=10) & (df_product_review_count['review_count'] <=50)].hist()"
   ]
  },
  {
   "cell_type": "markdown",
   "metadata": {},
   "source": [
    "#### Observeration \n",
    "1. Majority of the products (~1M+) has reviews between 1 to 5\n",
    "2. ~11.5k products has reviews between 10 to 14\n",
    "3. ~10k products has reviews between 15 to 25\n",
    "\n",
    "We decided to use products with 15 to 25 reviews as our development dataset, and use products with 10 to 14 reviews as our evaluation set"
   ]
  },
  {
   "cell_type": "markdown",
   "metadata": {},
   "source": [
    "## Clean the product reviews and save the development and evaluation datasets"
   ]
  },
  {
   "cell_type": "markdown",
   "metadata": {},
   "source": [
    "### Prepare the development dataset\n",
    "Product with 15 to 25 number of reviews"
   ]
  },
  {
   "cell_type": "code",
   "execution_count": 42,
   "metadata": {},
   "outputs": [],
   "source": [
    "df_product_review_count_15to25 = df_product_review_count[df_product_review_count['review_count'].between(15, 25,  inclusive='both')]\n",
    "df_apparel_15to25 = df_apparel_2015.merge(right=df_product_review_count_15to25, how='right', left_on='product_id', right_on='product_id')"
   ]
  },
  {
   "cell_type": "code",
   "execution_count": 43,
   "metadata": {},
   "outputs": [],
   "source": [
    "# remove records with reviews less than 10 words since those review are too short to much useful information  \n",
    "df_apparel_15to25 = df_apparel_15to25[df_apparel_15to25['review_length'] > 10]"
   ]
  },
  {
   "cell_type": "code",
   "execution_count": 44,
   "metadata": {},
   "outputs": [],
   "source": [
    "#We noticed some of the product titles and product reviews data contain HTML. We will use BeautifulSoup to clean the data before save. \n",
    "df_apparel_15to25['product_title'] = df_apparel_15to25['product_title'].apply(lambda x: BeautifulSoup(x).get_text())\n",
    "df_apparel_15to25['review_body'] = df_apparel_15to25['review_body'].apply(lambda x: BeautifulSoup(x).get_text())"
   ]
  },
  {
   "cell_type": "code",
   "execution_count": 49,
   "metadata": {},
   "outputs": [
    {
     "data": {
      "text/plain": [
       "(89103, 17)"
      ]
     },
     "execution_count": 49,
     "metadata": {},
     "output_type": "execute_result"
    }
   ],
   "source": [
    "df_apparel_15to25.shape"
   ]
  },
  {
   "cell_type": "code",
   "execution_count": null,
   "metadata": {},
   "outputs": [],
   "source": [
    "# uncomment below line in order to save the resultset\n",
    "# df_apparel_15to25.to_csv('../resources/data/apparel_15to25.tsv.gz', sep='\\t', index=False, compression=\"gzip\")"
   ]
  },
  {
   "cell_type": "markdown",
   "metadata": {},
   "source": [
    "### Prepare the evaluation dataset\n",
    "Product with 10 to 14 number of reviews"
   ]
  },
  {
   "cell_type": "code",
   "execution_count": 46,
   "metadata": {},
   "outputs": [],
   "source": [
    "df_product_review_count_10to14 = df_product_review_count[df_product_review_count['review_count'].between(10, 14,  inclusive='both')]\n",
    "df_apparel_10to14 = df_apparel_2015.merge(right=df_product_review_count_10to14, how='right', left_on='product_id', right_on='product_id')"
   ]
  },
  {
   "cell_type": "code",
   "execution_count": 47,
   "metadata": {},
   "outputs": [],
   "source": [
    "# remove records with reviews less than 10 words since those review are too short to much useful information  \n",
    "df_apparel_10to14 = df_apparel_10to14[df_apparel_10to14['review_length'] > 10]"
   ]
  },
  {
   "cell_type": "code",
   "execution_count": 48,
   "metadata": {},
   "outputs": [],
   "source": [
    "#We noticed some of the product titles and product reviews data contain HTML. We will use BeautifulSoup to clean the data before save. \n",
    "df_apparel_10to14['product_title'] = df_apparel_10to14['product_title'].apply(lambda x: BeautifulSoup(x).get_text())\n",
    "df_apparel_10to14['review_body'] = df_apparel_10to14['review_body'].apply(lambda x: BeautifulSoup(x).get_text())"
   ]
  },
  {
   "cell_type": "code",
   "execution_count": 50,
   "metadata": {},
   "outputs": [
    {
     "data": {
      "text/plain": [
       "(88918, 17)"
      ]
     },
     "execution_count": 50,
     "metadata": {},
     "output_type": "execute_result"
    }
   ],
   "source": [
    "df_apparel_10to14.shape"
   ]
  },
  {
   "cell_type": "code",
   "execution_count": null,
   "metadata": {},
   "outputs": [],
   "source": [
    "# uncomment below line in order to save the resultset\n",
    "#df_apparel_10to14.to_csv('../resources/data/apparel_10to14.tsv.gz', sep='\\t', index=False, compression=\"gzip\")"
   ]
  },
  {
   "cell_type": "code",
   "execution_count": null,
   "metadata": {},
   "outputs": [],
   "source": []
  }
 ],
 "metadata": {
  "kernelspec": {
   "display_name": "Python 3.9.16",
   "language": "python",
   "name": "python3"
  },
  "language_info": {
   "codemirror_mode": {
    "name": "ipython",
    "version": 3
   },
   "file_extension": ".py",
   "mimetype": "text/x-python",
   "name": "python",
   "nbconvert_exporter": "python",
   "pygments_lexer": "ipython3",
   "version": "3.9.16"
  },
  "orig_nbformat": 4,
  "vscode": {
   "interpreter": {
    "hash": "47c21ec07182bd7b8a7046c05381eb5ae64d2b190ea0743ff4dd83b9ddde1114"
   }
  }
 },
 "nbformat": 4,
 "nbformat_minor": 2
}
