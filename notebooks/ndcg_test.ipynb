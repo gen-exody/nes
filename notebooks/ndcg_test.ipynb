{
 "cells": [
  {
   "cell_type": "code",
   "execution_count": 2,
   "metadata": {},
   "outputs": [],
   "source": [
    "import numpy as np\n",
    "from sklearn.metrics import ndcg_score"
   ]
  },
  {
   "cell_type": "markdown",
   "metadata": {},
   "source": [
    "#### Q1 for U2"
   ]
  },
  {
   "cell_type": "code",
   "execution_count": 3,
   "metadata": {},
   "outputs": [],
   "source": [
    "K=10"
   ]
  },
  {
   "cell_type": "code",
   "execution_count": 4,
   "metadata": {},
   "outputs": [],
   "source": [
    "m1 = [4,2,3,2,4,2,2,2,2,2]\n",
    "m2 = [2,4,3,4,2,2,3,3,2,2]\n",
    "m3 = [5,2,2,4,3,2,2,4,2,3]\n",
    "\n"
   ]
  },
  {
   "cell_type": "code",
   "execution_count": 6,
   "metadata": {},
   "outputs": [
    {
     "data": {
      "text/plain": [
       "(1, 10)"
      ]
     },
     "execution_count": 6,
     "metadata": {},
     "output_type": "execute_result"
    }
   ],
   "source": [
    "np.asarray([m1]).shape"
   ]
  },
  {
   "cell_type": "code",
   "execution_count": 21,
   "metadata": {},
   "outputs": [
    {
     "name": "stdout",
     "output_type": "stream",
     "text": [
      "ndgc@10 is 0.9267173621354229 for Average\n",
      "ndgc@10 is 0.9460902755993695 for Discounted Reward\n",
      "ndgc@10 is 0.9453348679657619 for Discounted Reward with Adjustment\n"
     ]
    }
   ],
   "source": [
    "m1_true = np.sort(m1)[::-1]\n",
    "m2_true = np.sort(m2)[::-1]\n",
    "m3_true = np.sort(m3)[::-1]\n",
    "\n",
    "r1 = ndcg_score(np.asarray([m1_true]), np.asarray([m1]), k=K)\n",
    "r2 = ndcg_score(np.asarray([m2_true]), np.asarray([m2]), k=K)\n",
    "r3 = ndcg_score(np.asarray([m3_true]), np.asarray([m3]), k=K)\n",
    "\n",
    "print(f\"ndgc@{K} is {r1} for Average\")\n",
    "print(f\"ndgc@{K} is {r2} for Discounted Reward\")\n",
    "print(f\"ndgc@{K} is {r3} for Discounted Reward with Adjustment\")\n"
   ]
  },
  {
   "cell_type": "markdown",
   "metadata": {},
   "source": [
    "#### Q2 for U2"
   ]
  },
  {
   "cell_type": "code",
   "execution_count": 5,
   "metadata": {},
   "outputs": [],
   "source": [
    "m1 = [4,4,2,2,3,2,3,2,2,4]\n",
    "m2 = [2,4,4,2,3,2,4,3,2,2]\n",
    "m3 = [4,4,2,2,3,2,4,3,2,3]"
   ]
  },
  {
   "cell_type": "code",
   "execution_count": 6,
   "metadata": {},
   "outputs": [
    {
     "name": "stdout",
     "output_type": "stream",
     "text": [
      "ndgc@10 is 0.9384234693096669 for Average\n",
      "ndgc@10 is 0.9384234693096669 for Discounted Reward\n",
      "ndgc@10 is 0.9336062261014654 for Discounted Reward with Adjustment\n"
     ]
    }
   ],
   "source": [
    "m1_true = np.sort(m1)[::-1]\n",
    "m2_true = np.sort(m2)[::-1]\n",
    "m3_true = np.sort(m3)[::-1]\n",
    "\n",
    "r1 = ndcg_score(np.asarray([m1_true]), np.asarray([m1]), k=K)\n",
    "r2 = ndcg_score(np.asarray([m2_true]), np.asarray([m2]), k=K)\n",
    "r3 = ndcg_score(np.asarray([m3_true]), np.asarray([m3]), k=K)\n",
    "\n",
    "print(f\"ndgc@{K} is {r1} for Average\")\n",
    "print(f\"ndgc@{K} is {r2} for Discounted Reward\")\n",
    "print(f\"ndgc@{K} is {r3} for Discounted Reward with Adjustment\")"
   ]
  },
  {
   "cell_type": "markdown",
   "metadata": {},
   "source": [
    "### Q3 for U2"
   ]
  },
  {
   "cell_type": "code",
   "execution_count": 7,
   "metadata": {},
   "outputs": [],
   "source": [
    "m1 = [4,3,3,4,2,3,2,3,2,2]\n",
    "m2 = [4,3,3,2,4,2,3,3,3,3]\n",
    "m3 = [4,3,3,2,3,4,2,2,3,3]"
   ]
  },
  {
   "cell_type": "code",
   "execution_count": 8,
   "metadata": {},
   "outputs": [
    {
     "name": "stdout",
     "output_type": "stream",
     "text": [
      "ndgc@10 is 0.9639341148777946 for Average\n",
      "ndgc@10 is 0.9582552130681194 for Discounted Reward\n",
      "ndgc@10 is 0.9572882185166512 for Discounted Reward with Adjustment\n"
     ]
    }
   ],
   "source": [
    "m1_true = np.sort(m1)[::-1]\n",
    "m2_true = np.sort(m2)[::-1]\n",
    "m3_true = np.sort(m3)[::-1]\n",
    "\n",
    "r1 = ndcg_score(np.asarray([m1_true]), np.asarray([m1]), k=K)\n",
    "r2 = ndcg_score(np.asarray([m2_true]), np.asarray([m2]), k=K)\n",
    "r3 = ndcg_score(np.asarray([m3_true]), np.asarray([m3]), k=K)\n",
    "\n",
    "print(f\"ndgc@{K} is {r1} for Average\")\n",
    "print(f\"ndgc@{K} is {r2} for Discounted Reward\")\n",
    "print(f\"ndgc@{K} is {r3} for Discounted Reward with Adjustment\")"
   ]
  },
  {
   "cell_type": "markdown",
   "metadata": {},
   "source": [
    "#### Q4 for U2"
   ]
  },
  {
   "cell_type": "code",
   "execution_count": 9,
   "metadata": {},
   "outputs": [],
   "source": [
    "m1 = [2,2,4,3,2,1,3,2,1,2]\n",
    "m2 = [2,4,3,3,2,2,1,1,3,1]\n",
    "m3 = [2,4,5,4,4,1,4,3,4,3]"
   ]
  },
  {
   "cell_type": "code",
   "execution_count": 10,
   "metadata": {},
   "outputs": [
    {
     "name": "stdout",
     "output_type": "stream",
     "text": [
      "ndgc@10 is 0.9048096961078997 for Average\n",
      "ndgc@10 is 0.9130028348765803 for Discounted Reward\n",
      "ndgc@10 is 0.9260494916052346 for Discounted Reward with Adjustment\n"
     ]
    }
   ],
   "source": [
    "m1_true = np.sort(m1)[::-1]\n",
    "m2_true = np.sort(m2)[::-1]\n",
    "m3_true = np.sort(m3)[::-1]\n",
    "\n",
    "r1 = ndcg_score(np.asarray([m1_true]), np.asarray([m1]), k=K)\n",
    "r2 = ndcg_score(np.asarray([m2_true]), np.asarray([m2]), k=K)\n",
    "r3 = ndcg_score(np.asarray([m3_true]), np.asarray([m3]), k=K)\n",
    "\n",
    "print(f\"ndgc@{K} is {r1} for Average\")\n",
    "print(f\"ndgc@{K} is {r2} for Discounted Reward\")\n",
    "print(f\"ndgc@{K} is {r3} for Discounted Reward with Adjustment\")"
   ]
  },
  {
   "cell_type": "code",
   "execution_count": 15,
   "metadata": {},
   "outputs": [
    {
     "data": {
      "text/plain": [
       "10"
      ]
     },
     "execution_count": 15,
     "metadata": {},
     "output_type": "execute_result"
    }
   ],
   "source": [
    "np.asarray([m1_true]).shape[1]"
   ]
  },
  {
   "cell_type": "code",
   "execution_count": null,
   "metadata": {},
   "outputs": [],
   "source": [
    "# discount = 1 / (np.log(np.arange(y_true.shape[1]) + 2) / np.log(log_base))"
   ]
  },
  {
   "cell_type": "code",
   "execution_count": 17,
   "metadata": {},
   "outputs": [
    {
     "data": {
      "text/plain": [
       "3.5849625007211565"
      ]
     },
     "execution_count": 17,
     "metadata": {},
     "output_type": "execute_result"
    }
   ],
   "source": [
    "np.log(10 + 2) / np.log(2)"
   ]
  },
  {
   "cell_type": "code",
   "execution_count": null,
   "metadata": {},
   "outputs": [],
   "source": []
  }
 ],
 "metadata": {
  "kernelspec": {
   "display_name": "Python 3.7.13 ('py37')",
   "language": "python",
   "name": "python3"
  },
  "language_info": {
   "codemirror_mode": {
    "name": "ipython",
    "version": 3
   },
   "file_extension": ".py",
   "mimetype": "text/x-python",
   "name": "python",
   "nbconvert_exporter": "python",
   "pygments_lexer": "ipython3",
   "version": "3.7.13"
  },
  "orig_nbformat": 4,
  "vscode": {
   "interpreter": {
    "hash": "dcb8dec5de4f903c075d54d99872f7bf50837ad7ca0b5da4880119383e1aa639"
   }
  }
 },
 "nbformat": 4,
 "nbformat_minor": 2
}
