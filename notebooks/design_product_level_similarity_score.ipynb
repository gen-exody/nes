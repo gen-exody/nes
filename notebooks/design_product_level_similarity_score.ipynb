{
 "cells": [
  {
   "cell_type": "markdown",
   "metadata": {},
   "source": [
    "# 6: Design the Product Level Similarity Score\n",
    "\n",
    "In this notebook, we are going to design the algorithm for the Product Level Similariy Score\n",
    "\n",
    "This is part of the ranking algorithm design....."
   ]
  },
  {
   "cell_type": "code",
   "execution_count": 1,
   "metadata": {},
   "outputs": [],
   "source": [
    "# install the faiss-cpu when new env is provisioned\n",
    "#!pip install faiss-cpu\n",
    "#conda install -c pytorch faiss-cpu=1.7.4 mkl=2021"
   ]
  },
  {
   "cell_type": "code",
   "execution_count": 2,
   "metadata": {},
   "outputs": [],
   "source": [
    "# install the openai when new env is provisioned\n",
    "#!pip install openai\n",
    "\n",
    "#conda install -c conda-forge openai"
   ]
  },
  {
   "cell_type": "code",
   "execution_count": 3,
   "metadata": {},
   "outputs": [],
   "source": [
    "import warnings\n",
    "warnings.filterwarnings('ignore')\n",
    "\n",
    "import os\n",
    "import umap\n",
    "import faiss\n",
    "import openai\n",
    "import pandas as pd\n",
    "import numpy as np\n",
    "import altair as alt\n",
    "import configparser\n",
    "from PIL import Image\n"
   ]
  },
  {
   "cell_type": "markdown",
   "metadata": {},
   "source": [
    "## Prepare required resources"
   ]
  },
  {
   "cell_type": "code",
   "execution_count": 4,
   "metadata": {},
   "outputs": [
    {
     "data": {
      "text/html": [
       "<div>\n",
       "<style scoped>\n",
       "    .dataframe tbody tr th:only-of-type {\n",
       "        vertical-align: middle;\n",
       "    }\n",
       "\n",
       "    .dataframe tbody tr th {\n",
       "        vertical-align: top;\n",
       "    }\n",
       "\n",
       "    .dataframe thead th {\n",
       "        text-align: right;\n",
       "    }\n",
       "</style>\n",
       "<table border=\"1\" class=\"dataframe\">\n",
       "  <thead>\n",
       "    <tr style=\"text-align: right;\">\n",
       "      <th></th>\n",
       "      <th>product_id</th>\n",
       "      <th>review_id</th>\n",
       "      <th>star_rating</th>\n",
       "      <th>product_title</th>\n",
       "      <th>review_body</th>\n",
       "    </tr>\n",
       "  </thead>\n",
       "  <tbody>\n",
       "    <tr>\n",
       "      <th>0</th>\n",
       "      <td>245600258X</td>\n",
       "      <td>RZER3NRRB523C</td>\n",
       "      <td>4.0</td>\n",
       "      <td>La Leela Hawaiian Shirt For Men Short Sleeve F...</td>\n",
       "      <td>Quickly tore on one side.  A very nice and com...</td>\n",
       "    </tr>\n",
       "    <tr>\n",
       "      <th>1</th>\n",
       "      <td>245600258X</td>\n",
       "      <td>RDNDYIC6MH3Q5</td>\n",
       "      <td>4.0</td>\n",
       "      <td>La Leela Hawaiian Shirt For Men Short Sleeve F...</td>\n",
       "      <td>One size smaller would have been fine.  I had ...</td>\n",
       "    </tr>\n",
       "    <tr>\n",
       "      <th>2</th>\n",
       "      <td>245600258X</td>\n",
       "      <td>R1Z0YOWJGWESSD</td>\n",
       "      <td>5.0</td>\n",
       "      <td>La Leela Hawaiian Shirt For Men Short Sleeve F...</td>\n",
       "      <td>Great Hawaiian shirt.  Very comfortable, loose...</td>\n",
       "    </tr>\n",
       "  </tbody>\n",
       "</table>\n",
       "</div>"
      ],
      "text/plain": [
       "   product_id       review_id  star_rating  \\\n",
       "0  245600258X   RZER3NRRB523C          4.0   \n",
       "1  245600258X   RDNDYIC6MH3Q5          4.0   \n",
       "2  245600258X  R1Z0YOWJGWESSD          5.0   \n",
       "\n",
       "                                       product_title  \\\n",
       "0  La Leela Hawaiian Shirt For Men Short Sleeve F...   \n",
       "1  La Leela Hawaiian Shirt For Men Short Sleeve F...   \n",
       "2  La Leela Hawaiian Shirt For Men Short Sleeve F...   \n",
       "\n",
       "                                         review_body  \n",
       "0  Quickly tore on one side.  A very nice and com...  \n",
       "1  One size smaller would have been fine.  I had ...  \n",
       "2  Great Hawaiian shirt.  Very comfortable, loose...  "
      ]
     },
     "execution_count": 4,
     "metadata": {},
     "output_type": "execute_result"
    }
   ],
   "source": [
    "df_apparel = pd.read_csv('../resources/data/apparel_15to25.tsv.gz', sep='\\t', compression='gzip')\n",
    "cols = ['product_id', 'review_id', 'star_rating', 'product_title', 'review_body']\n",
    "df_apparel = df_apparel[cols]\n",
    "df_apparel.head(3)"
   ]
  },
  {
   "cell_type": "code",
   "execution_count": 5,
   "metadata": {},
   "outputs": [],
   "source": [
    "# Load the pre-created FAISS index\n",
    "faiss_index = faiss.read_index('../resources/binary/apparel_15to25_review_cosine.faissindex')"
   ]
  },
  {
   "cell_type": "code",
   "execution_count": 6,
   "metadata": {},
   "outputs": [],
   "source": [
    "# Load your API key from an environment variable or secret management service\n",
    "config = configparser.ConfigParser()\n",
    "config.read('nes.ini')\n",
    "openai.api_key = config['OpenAI']['api_key']"
   ]
  },
  {
   "cell_type": "markdown",
   "metadata": {},
   "source": [
    "## Define helper functions"
   ]
  },
  {
   "cell_type": "code",
   "execution_count": 7,
   "metadata": {},
   "outputs": [],
   "source": [
    "# Helper function to create the query embedding. Make sure to use the same model as what we used to created the product embedding\n",
    "def get_embedding(text, model=\"text-embedding-ada-002\"):\n",
    "   text = text.replace(\"\\n\", \" \")\n",
    "   \n",
    "   return np.array(openai.Embedding.create(input = [text], model=model)['data'][0]['embedding'], dtype='float32').reshape(1, -1)"
   ]
  },
  {
   "cell_type": "code",
   "execution_count": 8,
   "metadata": {},
   "outputs": [],
   "source": [
    "def search_with_original_query(df, faiss_index, query_embedding, num_of_records=100):\n",
    "    # we need to normalize the question embedding in order to use cosine similarity to search \n",
    "    faiss.normalize_L2(query_embedding)\n",
    "\n",
    "    # distance is the correspnding distance\n",
    "    # result_idx is the index of the input array, hence the index of the dataframe (if the dataframe index is reset which starts with 0)\n",
    "    distance, result_idx = faiss_index.search(query_embedding, k=num_of_records)\n",
    "\n",
    "    # use the return index to create the result dataframe\n",
    "    df_result = df.iloc[result_idx.squeeze().tolist()]\n",
    "    # add Distance to the result dataframe\n",
    "    df_result['distance'] = distance.T\n",
    "\n",
    "    df_result = df_result.sort_values(by='distance', ascending=True)\n",
    "    \n",
    "    return df_result, result_idx"
   ]
  },
  {
   "cell_type": "code",
   "execution_count": 9,
   "metadata": {},
   "outputs": [],
   "source": [
    "def generate_opposite_query(orignal_query='', prompt=''):\n",
    "\n",
    "    response = openai.Completion.create(\n",
    "        model=\"text-davinci-003\",\n",
    "        prompt=prompt.format(orignal_query),\n",
    "        temperature=0,\n",
    "        max_tokens=1000,\n",
    "        top_p=1.0,\n",
    "        frequency_penalty=0.0,\n",
    "        presence_penalty=0.0\n",
    "    )\n",
    "\n",
    "    return response['choices'][0]['text']"
   ]
  },
  {
   "cell_type": "code",
   "execution_count": 10,
   "metadata": {},
   "outputs": [],
   "source": [
    "def search_with_opposite_query(df, faiss_index, opposite_query_embedding, original_query_result_index, num_of_records=100):\n",
    "\n",
    "    faiss.normalize_L2(opposite_query_embedding)\n",
    "\n",
    "    # we want to make sure the opposite query only compare against the texts found by the original query \n",
    "    id_selector = faiss.IDSelectorArray(original_query_result_index.shape[1], faiss.swig_ptr(original_query_result_index))\n",
    "    filtered_distances, filtered_indices = faiss_index.search(opposite_query_embedding, k=num_of_records, params=faiss.SearchParametersIVF(sel=id_selector))\n",
    "\n",
    "    df_opposite_result = df.iloc[filtered_indices.squeeze().tolist()]\n",
    "    df_opposite_result['distance'] = filtered_distances.T\n",
    "\n",
    "    df_opposite_result = df_opposite_result.sort_values(by='distance', ascending=False)\n",
    "\n",
    "    return df_opposite_result"
   ]
  },
  {
   "cell_type": "code",
   "execution_count": 11,
   "metadata": {},
   "outputs": [],
   "source": [
    "def get_reconcile_result(df_result_original, df_result_opposite):\n",
    "\n",
    "    df_reconcile_result = df_result_original.merge(df_result_opposite[['review_id', 'distance']], \n",
    "                            left_on='review_id', right_on='review_id', how='left', suffixes=('_original', '_opposite'))\n",
    "    \n",
    "    # Using Dot Product FAISS Index with L2 normaliztion, the returning result is Cosine Similiarty, rather than Distance.\n",
    "    # There will turn the Cosine Similarity to Distance \n",
    "    df_reconcile_result['distance_original'] = 1 - df_reconcile_result['distance_original']\n",
    "    df_reconcile_result['distance_opposite'] = 1 - df_reconcile_result['distance_opposite']\n",
    "\n",
    "    df_reconcile_result = df_reconcile_result.sort_values(by='distance_original', ascending=True).reset_index(drop=True)\n",
    "\n",
    "    return df_reconcile_result"
   ]
  },
  {
   "cell_type": "code",
   "execution_count": 12,
   "metadata": {},
   "outputs": [],
   "source": [
    "# Helper function to clip the distance_opposite\n",
    "\n",
    "def clip_distance_opposite(df, clipping=0.5):\n",
    "    df = df.sort_values(by='distance_opposite', ascending=False).reset_index(drop=True)\n",
    "    # Flatten the first n% with distance_opposite sorted in descending order  \n",
    "    quantile_value = df['distance_opposite'].quantile(q=(1-clipping))\n",
    "    df.loc[0:(clipping * len(df)), ['distance_opposite']] = quantile_value\n",
    "\n",
    "    return df"
   ]
  },
  {
   "cell_type": "code",
   "execution_count": 13,
   "metadata": {},
   "outputs": [],
   "source": [
    "# Helper function to calculate adjsuted distance using the distance_oppsite as a penalty term\n",
    "\n",
    "def cal_adjusted_distance(df, k=0.5):\n",
    "    df['distance_adjusted'] = df.apply(lambda row: row['distance_original'] + (k * 1/row['distance_opposite']), axis='columns')\n",
    "    \n",
    "    return df "
   ]
  },
  {
   "cell_type": "code",
   "execution_count": 14,
   "metadata": {},
   "outputs": [],
   "source": [
    "# Helper function to calculate review level similarity scores\n",
    "\n",
    "def cal_review_similarity_score(df):\n",
    "    # find max of distance_adjusted  \n",
    "    max_distance_adjusted  = df['distance_adjusted'].max()\n",
    "    # normalized adjusted distance then subtract from 1 to calculate the similarity score \n",
    "    df['similarity_score'] = df['distance_adjusted'].apply(lambda x: 1 - x / max_distance_adjusted)\n",
    "\n",
    "    return df "
   ]
  },
  {
   "cell_type": "code",
   "execution_count": 15,
   "metadata": {},
   "outputs": [],
   "source": [
    "# Helper function to calculate the product level similarity scores \n",
    "\n",
    "def cal_product_similarity_score(df, method='discount_reward'):\n",
    "\n",
    "    if method == 'average':\n",
    "        df_temp = df.groupby('product_id')['similarity_score'].mean()\n",
    "        df_temp = df_temp.to_frame(name='product_similarity_score').reset_index()\n",
    "        df = pd.merge(df, df_temp, left_on='product_id', right_on='product_id')\n",
    "    else:\n",
    "        df_grouped = df.groupby(by='product_id')\n",
    "\n",
    "        for name, data in df_grouped:\n",
    "            data = data.sort_values('similarity_score', ascending=False)\n",
    "            scores = []\n",
    "            for cnt, (index, row) in enumerate(data.iterrows()):\n",
    "                discounted_score = row['similarity_score'] / pow(2, cnt)\n",
    "                scores.append(discounted_score)\n",
    "            df.loc[data.index, 'product_similarity_score'] = sum(scores)\n",
    "        \n",
    "    df = df.sort_values(by=['product_similarity_score', 'similarity_score'], ascending=[False, False])\n",
    "\n",
    "    return df"
   ]
  },
  {
   "cell_type": "code",
   "execution_count": 16,
   "metadata": {},
   "outputs": [],
   "source": [
    "def plot_distances(df_input, title=''):\n",
    "    df = df_input.copy()\n",
    "    df = df[['distance_original', 'distance_opposite']]\n",
    "    df['distance_original'] = df['distance_original'].astype('float64')\n",
    "    df['distance_opposite'] = df['distance_opposite'].astype('float64')\n",
    "    df = df.reset_index(drop=True).reset_index()\n",
    "    df.columns=['index', 'original_query', 'opposite_query']\n",
    "    df = df.melt(id_vars=['index'])\n",
    "\n",
    "    domain = ['opposite_query']\n",
    "    range_ = ['coral']\n",
    "\n",
    "    chart = alt.Chart(data=df).mark_line().encode(\n",
    "            x=alt.X('index:Q').title('Record Index'),\n",
    "            y=alt.Y(\"value:Q\").scale(domain=(0,0.4)).title('Cosine Distance'),\n",
    "            color=alt.Color(\"variable:N\").scale(domain=domain, range=range_)\n",
    "        ).properties(\n",
    "            width=400,\n",
    "            height=200,\n",
    "            title=title\n",
    "        )\n",
    "    \n",
    "    return chart"
   ]
  },
  {
   "cell_type": "markdown",
   "metadata": {},
   "source": [
    "## Analysis on the Cosine Distance for for both the original query and the opposite query against the search result  "
   ]
  },
  {
   "cell_type": "markdown",
   "metadata": {},
   "source": [
    "### Define the original query and get the corresponding search result"
   ]
  },
  {
   "cell_type": "code",
   "execution_count": 17,
   "metadata": {},
   "outputs": [],
   "source": [
    "query = \"Long thin cotton socks for men, need to be breathable, even feeling cool for summer time.\"\n",
    "#query = \"Wrinkle free chiffon blouse, sleek style, long sleeve, slim fit, with comfortable inside layer\"\n",
    "\n",
    "# create the embedding for orignal query \n",
    "query_embedding = get_embedding(query)\n",
    "\n",
    "# search the FAISS index with orignal query embedding \n",
    "df_result_original, result_idx = search_with_original_query(df_apparel, faiss_index, query_embedding, num_of_records=100)"
   ]
  },
  {
   "cell_type": "markdown",
   "metadata": {},
   "source": [
    "### Calculate the cosine distance "
   ]
  },
  {
   "cell_type": "code",
   "execution_count": 18,
   "metadata": {},
   "outputs": [],
   "source": [
    "prompt =\"\"\"\n",
    "    You are an English teacher. You need to find every single ADJECTIVE from the sentences delimited by triple backquotes below.\n",
    "    Then, you transform every adjective into its antonym.\n",
    "    Finally, give the dictionary meaning for each antonym.\n",
    "    Below are two examples. You need to comlete the third one. \n",
    "    \n",
    "\n",
    "    Text 1: Kids flip flops for girl, cute, good fit, comfortable and durable, low price\n",
    "    Output 1: Artless means without guile or deception. Unsuited means not proper or fitting for something. Uncomfortable means causing discomfort.  Fragile means easily broken. Costly means expensive.\n",
    "    ## \n",
    "    Text 2: Long sleeve shirts for men. Wrinkle-free, thick but breathable and slim fit\n",
    "    Output 2: Short means having little length. Crinkle means to form many short bends or ripples. Thin means measuring little in cross section or diameter. Airtight means impermeable to air or nearly so. Wide means having a greater than usual measure across\n",
    "    ##\n",
    "    Text 3:  ```{}```\n",
    "    Output 3:\n",
    "\"\"\""
   ]
  },
  {
   "cell_type": "code",
   "execution_count": 19,
   "metadata": {},
   "outputs": [
    {
     "name": "stdout",
     "output_type": "stream",
     "text": [
      "Original Query === Long thin cotton socks for men, need to be breathable, even feeling cool for summer time.\n",
      "Opposite Query === Short means having little length. Thick means having a greater than usual measure across. Stuffy means not allowing air to circulate freely. Hot means having a high degree of heat or a high temperature.\n"
     ]
    }
   ],
   "source": [
    "# generate opposite query rewrite\n",
    "opposite_query = generate_opposite_query(query, prompt)\n",
    "\n",
    "# get the embedding for the opposite query \n",
    "opposite_query_embedding = get_embedding(opposite_query)\n",
    "\n",
    "# search the FAISS index with the opposite query. We need to pass the result_idx from the orignal query in order to limit the seach scope \n",
    "df_result_opposite = search_with_opposite_query(df_apparel, faiss_index, opposite_query_embedding, result_idx, num_of_records=100)\n",
    "\n",
    "# generate the reconsile result \n",
    "df_reconcile_result = get_reconcile_result(df_result_original, df_result_opposite)\n",
    "\n",
    "print(f\"Original Query === {query}\")\n",
    "print(f\"Opposite Query === {opposite_query}\")"
   ]
  },
  {
   "cell_type": "code",
   "execution_count": 20,
   "metadata": {},
   "outputs": [
    {
     "data": {
      "text/html": [
       "<style type=\"text/css\">\n",
       "#T_8040e_row0_col0, #T_8040e_row0_col2, #T_8040e_row0_col3, #T_8040e_row1_col0, #T_8040e_row1_col2, #T_8040e_row1_col3, #T_8040e_row2_col0, #T_8040e_row2_col2, #T_8040e_row2_col3, #T_8040e_row3_col0, #T_8040e_row3_col2, #T_8040e_row3_col3, #T_8040e_row4_col0, #T_8040e_row4_col2, #T_8040e_row4_col3, #T_8040e_row5_col0, #T_8040e_row5_col2, #T_8040e_row5_col3, #T_8040e_row6_col0, #T_8040e_row6_col2, #T_8040e_row6_col3, #T_8040e_row7_col0, #T_8040e_row7_col2, #T_8040e_row7_col3, #T_8040e_row8_col0, #T_8040e_row8_col2, #T_8040e_row8_col3, #T_8040e_row9_col0, #T_8040e_row9_col2, #T_8040e_row9_col3 {\n",
       "  text-align: left;\n",
       "}\n",
       "#T_8040e_row0_col1, #T_8040e_row1_col1, #T_8040e_row2_col1, #T_8040e_row3_col1, #T_8040e_row4_col1, #T_8040e_row5_col1, #T_8040e_row6_col1, #T_8040e_row7_col1, #T_8040e_row8_col1, #T_8040e_row9_col1 {\n",
       "  text-align: left;\n",
       "  width: 600px;\n",
       "}\n",
       "</style>\n",
       "<table id=\"T_8040e\">\n",
       "  <thead>\n",
       "    <tr>\n",
       "      <th class=\"blank level0\" >&nbsp;</th>\n",
       "      <th id=\"T_8040e_level0_col0\" class=\"col_heading level0 col0\" >product_title</th>\n",
       "      <th id=\"T_8040e_level0_col1\" class=\"col_heading level0 col1\" >review_body</th>\n",
       "      <th id=\"T_8040e_level0_col2\" class=\"col_heading level0 col2\" >distance_original</th>\n",
       "      <th id=\"T_8040e_level0_col3\" class=\"col_heading level0 col3\" >distance_opposite</th>\n",
       "    </tr>\n",
       "  </thead>\n",
       "  <tbody>\n",
       "    <tr>\n",
       "      <th id=\"T_8040e_level0_row0\" class=\"row_heading level0 row0\" >0</th>\n",
       "      <td id=\"T_8040e_row0_col0\" class=\"data row0 col0\" >Mens plain 100% cotton socks (Pack of 6)</td>\n",
       "      <td id=\"T_8040e_row0_col1\" class=\"data row0 col1\" >These are perfect - exactly as I'd hoped. Thin, comfortable, high-quality cotton socks that don't make my feet sweat in the AZ heat. Ordering more.</td>\n",
       "      <td id=\"T_8040e_row0_col2\" class=\"data row0 col2\" >0.101515</td>\n",
       "      <td id=\"T_8040e_row0_col3\" class=\"data row0 col3\" >0.245009</td>\n",
       "    </tr>\n",
       "    <tr>\n",
       "      <th id=\"T_8040e_level0_row1\" class=\"row_heading level0 row1\" >1</th>\n",
       "      <td id=\"T_8040e_row1_col0\" class=\"data row1 col0\" >Galiva Men's Cotton Lightweight Fashion Dress Socks</td>\n",
       "      <td id=\"T_8040e_row1_col1\" class=\"data row1 col1\" >Kind of thin if you are used to the fluffies, but a nice sock all round.</td>\n",
       "      <td id=\"T_8040e_row1_col2\" class=\"data row1 col2\" >0.101687</td>\n",
       "      <td id=\"T_8040e_row1_col3\" class=\"data row1 col3\" >0.234178</td>\n",
       "    </tr>\n",
       "    <tr>\n",
       "      <th id=\"T_8040e_level0_row2\" class=\"row_heading level0 row2\" >2</th>\n",
       "      <td id=\"T_8040e_row2_col0\" class=\"data row2 col0\" >Calvin Klein Men's Combed Flat-Knit Socks (3-Pack)</td>\n",
       "      <td id=\"T_8040e_row2_col1\" class=\"data row2 col1\" >In short, these are awesome. Thin enough and cool enough to be worn in the summer, durable and good-looking - and affordable enough I can buy another couple packs and stop playing hide-and-seek with missing socks.</td>\n",
       "      <td id=\"T_8040e_row2_col2\" class=\"data row2 col2\" >0.107604</td>\n",
       "      <td id=\"T_8040e_row2_col3\" class=\"data row2 col3\" >0.256174</td>\n",
       "    </tr>\n",
       "    <tr>\n",
       "      <th id=\"T_8040e_level0_row3\" class=\"row_heading level0 row3\" >3</th>\n",
       "      <td id=\"T_8040e_row3_col0\" class=\"data row3 col0\" >Mens Dress Socks - Colorful Classic Fun (7 5 Pairs Pack) - Business and Casual</td>\n",
       "      <td id=\"T_8040e_row3_col1\" class=\"data row3 col1\" >They are thin sock that keeps my foot cool with a little style.</td>\n",
       "      <td id=\"T_8040e_row3_col2\" class=\"data row3 col2\" >0.110173</td>\n",
       "      <td id=\"T_8040e_row3_col3\" class=\"data row3 col3\" >0.250013</td>\n",
       "    </tr>\n",
       "    <tr>\n",
       "      <th id=\"T_8040e_level0_row4\" class=\"row_heading level0 row4\" >4</th>\n",
       "      <td id=\"T_8040e_row4_col0\" class=\"data row4 col0\" >Boot Doctor Men's Over the Calf Socks (3 Pack)</td>\n",
       "      <td id=\"T_8040e_row4_col1\" class=\"data row4 col1\" >vented enough for summer wear, thin enough to add second pair of socks.</td>\n",
       "      <td id=\"T_8040e_row4_col2\" class=\"data row4 col2\" >0.110207</td>\n",
       "      <td id=\"T_8040e_row4_col3\" class=\"data row4 col3\" >0.245860</td>\n",
       "    </tr>\n",
       "    <tr>\n",
       "      <th id=\"T_8040e_level0_row5\" class=\"row_heading level0 row5\" >5</th>\n",
       "      <td id=\"T_8040e_row5_col0\" class=\"data row5 col0\" >Mens plain 100% cotton socks (Pack of 6)</td>\n",
       "      <td id=\"T_8040e_row5_col1\" class=\"data row5 col1\" >I was a little worried when I saw that these shipped from England.  No worries. My husband LOVES these socks.  He was looking for thin socks because his feet overheat when wearing sneakers and being on his feet all day at his job. They are so soft and nothing like thin socks we were seeing on the store shelves here in the U.S..  I just ordered 3 more sets for him. These would also make great dress socks for a suit wearing businessman.</td>\n",
       "      <td id=\"T_8040e_row5_col2\" class=\"data row5 col2\" >0.114011</td>\n",
       "      <td id=\"T_8040e_row5_col3\" class=\"data row5 col3\" >0.249837</td>\n",
       "    </tr>\n",
       "    <tr>\n",
       "      <th id=\"T_8040e_level0_row6\" class=\"row_heading level0 row6\" >6</th>\n",
       "      <td id=\"T_8040e_row6_col0\" class=\"data row6 col0\" >Fruit Of The Loom Men's 6 Pack Cushioned Crew Socks</td>\n",
       "      <td id=\"T_8040e_row6_col1\" class=\"data row6 col1\" >Cotton socks fit well and comfortable. This is what I want in a cotton sock.</td>\n",
       "      <td id=\"T_8040e_row6_col2\" class=\"data row6 col2\" >0.114059</td>\n",
       "      <td id=\"T_8040e_row6_col3\" class=\"data row6 col3\" >0.265373</td>\n",
       "    </tr>\n",
       "    <tr>\n",
       "      <th id=\"T_8040e_level0_row7\" class=\"row_heading level0 row7\" >7</th>\n",
       "      <td id=\"T_8040e_row7_col0\" class=\"data row7 col0\" >Men's - Women's Thin Padded Running Low-Cut Socks</td>\n",
       "      <td id=\"T_8040e_row7_col1\" class=\"data row7 col1\" >Good sock, I neglected to note the lack of cotton which I like to have for breathability. I gave these to my daughter who loves them. They have nice support and are very comfortable and durable.</td>\n",
       "      <td id=\"T_8040e_row7_col2\" class=\"data row7 col2\" >0.114235</td>\n",
       "      <td id=\"T_8040e_row7_col3\" class=\"data row7 col3\" >0.257491</td>\n",
       "    </tr>\n",
       "    <tr>\n",
       "      <th id=\"T_8040e_level0_row8\" class=\"row_heading level0 row8\" >8</th>\n",
       "      <td id=\"T_8040e_row8_col0\" class=\"data row8 col0\" >Specialist item: Mens Ribbed Non Elastic Top 100% Cotton Socks (Pack of 6)</td>\n",
       "      <td id=\"T_8040e_row8_col1\" class=\"data row8 col1\" >Very comfortable, thin socks.  Great for sleeping/night time use on a cool night.  Not constricting like some socks, so blood can circulate well.</td>\n",
       "      <td id=\"T_8040e_row8_col2\" class=\"data row8 col2\" >0.114448</td>\n",
       "      <td id=\"T_8040e_row8_col3\" class=\"data row8 col3\" >0.251318</td>\n",
       "    </tr>\n",
       "    <tr>\n",
       "      <th id=\"T_8040e_level0_row9\" class=\"row_heading level0 row9\" >9</th>\n",
       "      <td id=\"T_8040e_row9_col0\" class=\"data row9 col0\" >Galiva Men's Cotton Lightweight Fashion Dress Socks</td>\n",
       "      <td id=\"T_8040e_row9_col1\" class=\"data row9 col1\" >Being a construction worker I really face days that encounters to be for long hours under the boiling sun, this triggers I should be more exposed to sweating. I had searched for years socks that will be thin yet comfortable without sweating but I never had found the ideal sock, after hearing about your wonderful black, white and grey socks I was so surprised and amazed after using this socks that THIS IS THE SOCKS that I was searching for so long! Its not just the quality that lasts, its also the fit and fine texture. I would recommend anyone to buy it, you would definable  not regret your purchase.</td>\n",
       "      <td id=\"T_8040e_row9_col2\" class=\"data row9 col2\" >0.114575</td>\n",
       "      <td id=\"T_8040e_row9_col3\" class=\"data row9 col3\" >0.257628</td>\n",
       "    </tr>\n",
       "  </tbody>\n",
       "</table>\n"
      ],
      "text/plain": [
       "<pandas.io.formats.style.Styler at 0x164caf7a3a0>"
      ]
     },
     "execution_count": 20,
     "metadata": {},
     "output_type": "execute_result"
    }
   ],
   "source": [
    "df_reconcile_result[['product_title', 'review_body', 'distance_original', 'distance_opposite']].head(10) \\\n",
    "    .style.set_properties(**{'text-align': 'left'}).set_properties(subset=['review_body'], **{'width': '600px'})"
   ]
  },
  {
   "cell_type": "code",
   "execution_count": 21,
   "metadata": {},
   "outputs": [
    {
     "name": "stdout",
     "output_type": "stream",
     "text": [
      "Short means having little length. Thick means having a greater than usual measure across. Stuffy means not allowing air to circulate freely. Hot means having a high degree of heat or a high temperature.\n"
     ]
    }
   ],
   "source": [
    "print(opposite_query)"
   ]
  },
  {
   "cell_type": "code",
   "execution_count": 22,
   "metadata": {},
   "outputs": [
    {
     "data": {
      "text/html": [
       "<style type=\"text/css\">\n",
       "#T_a08b4_row0_col0, #T_a08b4_row0_col2, #T_a08b4_row0_col3, #T_a08b4_row1_col0, #T_a08b4_row1_col2, #T_a08b4_row1_col3, #T_a08b4_row2_col0, #T_a08b4_row2_col2, #T_a08b4_row2_col3, #T_a08b4_row3_col0, #T_a08b4_row3_col2, #T_a08b4_row3_col3, #T_a08b4_row4_col0, #T_a08b4_row4_col2, #T_a08b4_row4_col3 {\n",
       "  text-align: left;\n",
       "}\n",
       "#T_a08b4_row0_col1, #T_a08b4_row1_col1, #T_a08b4_row2_col1, #T_a08b4_row3_col1, #T_a08b4_row4_col1 {\n",
       "  text-align: left;\n",
       "  width: 600px;\n",
       "}\n",
       "</style>\n",
       "<table id=\"T_a08b4\">\n",
       "  <thead>\n",
       "    <tr>\n",
       "      <th class=\"blank level0\" >&nbsp;</th>\n",
       "      <th id=\"T_a08b4_level0_col0\" class=\"col_heading level0 col0\" >product_title</th>\n",
       "      <th id=\"T_a08b4_level0_col1\" class=\"col_heading level0 col1\" >review_body</th>\n",
       "      <th id=\"T_a08b4_level0_col2\" class=\"col_heading level0 col2\" >distance_original</th>\n",
       "      <th id=\"T_a08b4_level0_col3\" class=\"col_heading level0 col3\" >distance_opposite</th>\n",
       "    </tr>\n",
       "  </thead>\n",
       "  <tbody>\n",
       "    <tr>\n",
       "      <th id=\"T_a08b4_level0_row0\" class=\"row_heading level0 row0\" >70</th>\n",
       "      <td id=\"T_a08b4_row0_col0\" class=\"data row0 col0\" >Galiva Men's Cotton Lightweight Fashion Dress Socks</td>\n",
       "      <td id=\"T_a08b4_row0_col1\" class=\"data row0 col1\" >If someone is looking for classic comfortable socks, I would recommend Galiva, I've bought them accidentally and finally I found the sock I've always looked for.</td>\n",
       "      <td id=\"T_a08b4_row0_col2\" class=\"data row0 col2\" >0.131178</td>\n",
       "      <td id=\"T_a08b4_row0_col3\" class=\"data row0 col3\" >0.285449</td>\n",
       "    </tr>\n",
       "    <tr>\n",
       "      <th id=\"T_a08b4_level0_row1\" class=\"row_heading level0 row1\" >74</th>\n",
       "      <td id=\"T_a08b4_row1_col0\" class=\"data row1 col0\" >Men's Performance CoolMax® Cushioned Running Socks by Iyzer for Cool & Dry Feet</td>\n",
       "      <td id=\"T_a08b4_row1_col1\" class=\"data row1 col1\" >Bought these for hubby! He is big into running and he loves that they are breathable. He said they help his feet to breath which helps his running.</td>\n",
       "      <td id=\"T_a08b4_row1_col2\" class=\"data row1 col2\" >0.131689</td>\n",
       "      <td id=\"T_a08b4_row1_col3\" class=\"data row1 col3\" >0.280890</td>\n",
       "    </tr>\n",
       "    <tr>\n",
       "      <th id=\"T_a08b4_level0_row2\" class=\"row_heading level0 row2\" >46</th>\n",
       "      <td id=\"T_a08b4_row2_col0\" class=\"data row2 col0\" >Calvin Klein Men's Egyptian Cotton Dress Socks</td>\n",
       "      <td id=\"T_a08b4_row2_col1\" class=\"data row2 col1\" >These are the only socks I've worn this past year or so. Really comfortable without excessive elastic. Very soft Egyptian cotton absorbs sweat and keeps your feet dry. That's also a slight drawback because they will wear out quicker than a blend but I'm ok with that. Price for this quality is very good.</td>\n",
       "      <td id=\"T_a08b4_row2_col2\" class=\"data row2 col2\" >0.127495</td>\n",
       "      <td id=\"T_a08b4_row2_col3\" class=\"data row2 col3\" >0.279869</td>\n",
       "    </tr>\n",
       "    <tr>\n",
       "      <th id=\"T_a08b4_level0_row3\" class=\"row_heading level0 row3\" >57</th>\n",
       "      <td id=\"T_a08b4_row3_col0\" class=\"data row3 col0\" >Wrightsock Men's Coolmesh II Quarter Single Pack Socks</td>\n",
       "      <td id=\"T_a08b4_row3_col1\" class=\"data row3 col1\" >If you are a runner or a cross-fitter, you will love these! Your feet will stay dry, your feet and sneakers won't smell, reduced chance of athlete's foot, and virtually eliminates blister issues. What more could you want out of a sock? Oh and comfy too!</td>\n",
       "      <td id=\"T_a08b4_row3_col2\" class=\"data row3 col2\" >0.129302</td>\n",
       "      <td id=\"T_a08b4_row3_col3\" class=\"data row3 col3\" >0.279506</td>\n",
       "    </tr>\n",
       "    <tr>\n",
       "      <th id=\"T_a08b4_level0_row4\" class=\"row_heading level0 row4\" >56</th>\n",
       "      <td id=\"T_a08b4_row4_col0\" class=\"data row4 col0\" >Wrightsock Men's Coolmesh II Quarter Single Pack Socks</td>\n",
       "      <td id=\"T_a08b4_row4_col1\" class=\"data row4 col1\" >I love these socks.  I wish  they made more colors but have used them for marathons the last 10 years.  Thin and double layer works for me.  They wear out fairly quickly but fit and feel great.</td>\n",
       "      <td id=\"T_a08b4_row4_col2\" class=\"data row4 col2\" >0.129242</td>\n",
       "      <td id=\"T_a08b4_row4_col3\" class=\"data row4 col3\" >0.279422</td>\n",
       "    </tr>\n",
       "  </tbody>\n",
       "</table>\n"
      ],
      "text/plain": [
       "<pandas.io.formats.style.Styler at 0x164cc7ba9a0>"
      ]
     },
     "execution_count": 22,
     "metadata": {},
     "output_type": "execute_result"
    }
   ],
   "source": [
    "df_reconcile_result.sort_values(by='distance_opposite', ascending=False) \\\n",
    "    [['product_title', 'review_body', 'distance_original', 'distance_opposite']].head(5) \\\n",
    "    .style.set_properties(**{'text-align': 'left'}).set_properties(subset=['review_body'], **{'width': '600px'})"
   ]
  },
  {
   "cell_type": "code",
   "execution_count": 23,
   "metadata": {},
   "outputs": [
    {
     "data": {
      "text/html": [
       "<style type=\"text/css\">\n",
       "#T_2616d_row0_col0, #T_2616d_row0_col2, #T_2616d_row0_col3, #T_2616d_row1_col0, #T_2616d_row1_col2, #T_2616d_row1_col3, #T_2616d_row2_col0, #T_2616d_row2_col2, #T_2616d_row2_col3, #T_2616d_row3_col0, #T_2616d_row3_col2, #T_2616d_row3_col3, #T_2616d_row4_col0, #T_2616d_row4_col2, #T_2616d_row4_col3, #T_2616d_row5_col0, #T_2616d_row5_col2, #T_2616d_row5_col3, #T_2616d_row6_col0, #T_2616d_row6_col2, #T_2616d_row6_col3, #T_2616d_row7_col0, #T_2616d_row7_col2, #T_2616d_row7_col3, #T_2616d_row8_col0, #T_2616d_row8_col2, #T_2616d_row8_col3, #T_2616d_row9_col0, #T_2616d_row9_col2, #T_2616d_row9_col3 {\n",
       "  text-align: left;\n",
       "}\n",
       "#T_2616d_row0_col1, #T_2616d_row1_col1, #T_2616d_row2_col1, #T_2616d_row3_col1, #T_2616d_row4_col1, #T_2616d_row5_col1, #T_2616d_row6_col1, #T_2616d_row7_col1, #T_2616d_row8_col1, #T_2616d_row9_col1 {\n",
       "  text-align: left;\n",
       "  width: 700px;\n",
       "}\n",
       "</style>\n",
       "<table id=\"T_2616d\">\n",
       "  <thead>\n",
       "    <tr>\n",
       "      <th class=\"blank level0\" >&nbsp;</th>\n",
       "      <th id=\"T_2616d_level0_col0\" class=\"col_heading level0 col0\" >product_title</th>\n",
       "      <th id=\"T_2616d_level0_col1\" class=\"col_heading level0 col1\" >review_body</th>\n",
       "      <th id=\"T_2616d_level0_col2\" class=\"col_heading level0 col2\" >distance_original</th>\n",
       "      <th id=\"T_2616d_level0_col3\" class=\"col_heading level0 col3\" >distance_opposite</th>\n",
       "    </tr>\n",
       "  </thead>\n",
       "  <tbody>\n",
       "    <tr>\n",
       "      <th id=\"T_2616d_level0_row0\" class=\"row_heading level0 row0\" >81</th>\n",
       "      <td id=\"T_2616d_row0_col0\" class=\"data row0 col0\" >Soffe Men's Classic Cotton Pocket Short</td>\n",
       "      <td id=\"T_2616d_row0_col1\" class=\"data row0 col1\" >Well designed and well made 100% cotton shorts. It's hard to be lyrical about something as prosaic as summer shorts,yet these are the best I've been able to find on line at a reasonable price . Comfortable and well styled.</td>\n",
       "      <td id=\"T_2616d_row0_col2\" class=\"data row0 col2\" >0.132447</td>\n",
       "      <td id=\"T_2616d_row0_col3\" class=\"data row0 col3\" >0.245765</td>\n",
       "    </tr>\n",
       "    <tr>\n",
       "      <th id=\"T_2616d_level0_row1\" class=\"row_heading level0 row1\" >93</th>\n",
       "      <td id=\"T_2616d_row1_col0\" class=\"data row1 col0\" >Soffe Men's Classic Cotton Pocket Short</td>\n",
       "      <td id=\"T_2616d_row1_col1\" class=\"data row1 col1\" >Material feels a bit rough on the outside, but is comfortable wearing at home.</td>\n",
       "      <td id=\"T_2616d_row1_col2\" class=\"data row1 col2\" >0.133169</td>\n",
       "      <td id=\"T_2616d_row1_col3\" class=\"data row1 col3\" >0.245185</td>\n",
       "    </tr>\n",
       "    <tr>\n",
       "      <th id=\"T_2616d_level0_row2\" class=\"row_heading level0 row2\" >0</th>\n",
       "      <td id=\"T_2616d_row2_col0\" class=\"data row2 col0\" >Mens plain 100% cotton socks (Pack of 6)</td>\n",
       "      <td id=\"T_2616d_row2_col1\" class=\"data row2 col1\" >These are perfect - exactly as I'd hoped. Thin, comfortable, high-quality cotton socks that don't make my feet sweat in the AZ heat. Ordering more.</td>\n",
       "      <td id=\"T_2616d_row2_col2\" class=\"data row2 col2\" >0.101515</td>\n",
       "      <td id=\"T_2616d_row2_col3\" class=\"data row2 col3\" >0.245009</td>\n",
       "    </tr>\n",
       "    <tr>\n",
       "      <th id=\"T_2616d_level0_row3\" class=\"row_heading level0 row3\" >77</th>\n",
       "      <td id=\"T_2616d_row3_col0\" class=\"data row3 col0\" >Champion Men's 6 Pack Crew Socks</td>\n",
       "      <td id=\"T_2616d_row3_col1\" class=\"data row3 col1\" >They fit tight, as some mentioned in their reviews. Thick enough to meet my needs. (Super skinny, long feet.)</td>\n",
       "      <td id=\"T_2616d_row3_col2\" class=\"data row3 col2\" >0.131906</td>\n",
       "      <td id=\"T_2616d_row3_col3\" class=\"data row3 col3\" >0.244685</td>\n",
       "    </tr>\n",
       "    <tr>\n",
       "      <th id=\"T_2616d_level0_row4\" class=\"row_heading level0 row4\" >49</th>\n",
       "      <td id=\"T_2616d_row4_col0\" class=\"data row4 col0\" >Dickies Men's 2 Pack Steel Toe Crew Socks - Big & Tall</td>\n",
       "      <td id=\"T_2616d_row4_col1\" class=\"data row4 col1\" >Perfect for winter.  Socks are thick for summer. Husband loved them either way.</td>\n",
       "      <td id=\"T_2616d_row4_col2\" class=\"data row4 col2\" >0.128032</td>\n",
       "      <td id=\"T_2616d_row4_col3\" class=\"data row4 col3\" >0.242857</td>\n",
       "    </tr>\n",
       "    <tr>\n",
       "      <th id=\"T_2616d_level0_row5\" class=\"row_heading level0 row5\" >65</th>\n",
       "      <td id=\"T_2616d_row5_col0\" class=\"data row5 col0\" >Wigwam Men's Merino Airlite Pro Socks</td>\n",
       "      <td id=\"T_2616d_row5_col1\" class=\"data row5 col1\" >These socks are medium thickness. They feel very comfortable bit I was expecting a much thinner sock.</td>\n",
       "      <td id=\"T_2616d_row5_col2\" class=\"data row5 col2\" >0.130381</td>\n",
       "      <td id=\"T_2616d_row5_col3\" class=\"data row5 col3\" >0.239453</td>\n",
       "    </tr>\n",
       "    <tr>\n",
       "      <th id=\"T_2616d_level0_row6\" class=\"row_heading level0 row6\" >71</th>\n",
       "      <td id=\"T_2616d_row6_col0\" class=\"data row6 col0\" >Hanes Men's 10 Pack X-Temp No Show Socks, White/Red, 10-13/Shoe Size 6-12</td>\n",
       "      <td id=\"T_2616d_row6_col1\" class=\"data row6 col1\" >Comfy. A little thick for a running sock (in my opinion).</td>\n",
       "      <td id=\"T_2616d_row6_col2\" class=\"data row6 col2\" >0.131208</td>\n",
       "      <td id=\"T_2616d_row6_col3\" class=\"data row6 col3\" >0.239133</td>\n",
       "    </tr>\n",
       "    <tr>\n",
       "      <th id=\"T_2616d_level0_row7\" class=\"row_heading level0 row7\" >10</th>\n",
       "      <td id=\"T_2616d_row7_col0\" class=\"data row7 col0\" >MeMoi Men's Colored Tips Half Cushioned 6 Pair Low Cut Socks</td>\n",
       "      <td id=\"T_2616d_row7_col1\" class=\"data row7 col1\" >These socks are a bit on the thin side. They'd be better for summer than winter.</td>\n",
       "      <td id=\"T_2616d_row7_col2\" class=\"data row7 col2\" >0.115118</td>\n",
       "      <td id=\"T_2616d_row7_col3\" class=\"data row7 col3\" >0.237768</td>\n",
       "    </tr>\n",
       "    <tr>\n",
       "      <th id=\"T_2616d_level0_row8\" class=\"row_heading level0 row8\" >69</th>\n",
       "      <td id=\"T_2616d_row8_col0\" class=\"data row8 col0\" >Soffe Men's Classic Cotton Pocket Short</td>\n",
       "      <td id=\"T_2616d_row8_col1\" class=\"data row8 col1\" >Good quality heavy-cotton short. Great for cooler spring & summer days either for walking or working outside. Very pleased with this purchase.</td>\n",
       "      <td id=\"T_2616d_row8_col2\" class=\"data row8 col2\" >0.131138</td>\n",
       "      <td id=\"T_2616d_row8_col3\" class=\"data row8 col3\" >0.236298</td>\n",
       "    </tr>\n",
       "    <tr>\n",
       "      <th id=\"T_2616d_level0_row9\" class=\"row_heading level0 row9\" >1</th>\n",
       "      <td id=\"T_2616d_row9_col0\" class=\"data row9 col0\" >Galiva Men's Cotton Lightweight Fashion Dress Socks</td>\n",
       "      <td id=\"T_2616d_row9_col1\" class=\"data row9 col1\" >Kind of thin if you are used to the fluffies, but a nice sock all round.</td>\n",
       "      <td id=\"T_2616d_row9_col2\" class=\"data row9 col2\" >0.101687</td>\n",
       "      <td id=\"T_2616d_row9_col3\" class=\"data row9 col3\" >0.234178</td>\n",
       "    </tr>\n",
       "  </tbody>\n",
       "</table>\n"
      ],
      "text/plain": [
       "<pandas.io.formats.style.Styler at 0x164cc7fc5e0>"
      ]
     },
     "execution_count": 23,
     "metadata": {},
     "output_type": "execute_result"
    }
   ],
   "source": [
    "df_reconcile_result.sort_values(by='distance_opposite', ascending=False) \\\n",
    "    [['product_title', 'review_body', 'distance_original', 'distance_opposite']].tail(10) \\\n",
    "    .style.set_properties(**{'text-align': 'left'}).set_properties(subset=['review_body'], **{'width': '700px'})"
   ]
  },
  {
   "cell_type": "code",
   "execution_count": 24,
   "metadata": {},
   "outputs": [],
   "source": [
    "df_temp = df_reconcile_result.sort_values(by='distance_opposite', ascending=False).reset_index(drop=True)"
   ]
  },
  {
   "cell_type": "code",
   "execution_count": 25,
   "metadata": {},
   "outputs": [
    {
     "data": {
      "image/png": "[encoded data removed]",
      "text/plain": [
       "<PIL.PngImagePlugin.PngImageFile image mode=RGBA size=549x264>"
      ]
     },
     "execution_count": 25,
     "metadata": {},
     "output_type": "execute_result"
    }
   ],
   "source": [
    "chart = plot_distances(df_input=df_temp, title='Distance before Clipping')\n",
    "#chart.save('../resources/img/distance_before_clipping.png')\n",
    "Image.open('../resources/img/distance_before_clipping.png')"
   ]
  },
  {
   "cell_type": "markdown",
   "metadata": {},
   "source": [
    "We don't want to overboost those product_title + review_body that are actually not relevant to the product search "
   ]
  },
  {
   "cell_type": "code",
   "execution_count": 26,
   "metadata": {},
   "outputs": [],
   "source": [
    "df_copy = df_reconcile_result.copy()"
   ]
  },
  {
   "cell_type": "code",
   "execution_count": 27,
   "metadata": {},
   "outputs": [],
   "source": [
    "df_copy = clip_distance_opposite(df_copy, clipping=0.1)"
   ]
  },
  {
   "cell_type": "code",
   "execution_count": 28,
   "metadata": {},
   "outputs": [
    {
     "data": {
      "image/png": "[encoded data removed]",
      "text/plain": [
       "<PIL.PngImagePlugin.PngImageFile image mode=RGBA size=549x264>"
      ]
     },
     "execution_count": 28,
     "metadata": {},
     "output_type": "execute_result"
    }
   ],
   "source": [
    "chart = plot_distances(df_input=df_copy, title='Distance after Clipping')\n",
    "#chart.save('../resources/img/distance_after_clipping.png')\n",
    "Image.open('../resources/img/distance_after_clipping.png')"
   ]
  },
  {
   "cell_type": "code",
   "execution_count": null,
   "metadata": {},
   "outputs": [],
   "source": []
  },
  {
   "cell_type": "code",
   "execution_count": null,
   "metadata": {},
   "outputs": [],
   "source": []
  }
 ],
 "metadata": {
  "kernelspec": {
   "display_name": "Python 3.9.16",
   "language": "python",
   "name": "python3"
  },
  "language_info": {
   "codemirror_mode": {
    "name": "ipython",
    "version": 3
   },
   "file_extension": ".py",
   "mimetype": "text/x-python",
   "name": "python",
   "nbconvert_exporter": "python",
   "pygments_lexer": "ipython3",
   "version": "3.9.16"
  },
  "orig_nbformat": 4,
  "vscode": {
   "interpreter": {
    "hash": "47c21ec07182bd7b8a7046c05381eb5ae64d2b190ea0743ff4dd83b9ddde1114"
   }
  }
 },
 "nbformat": 4,
 "nbformat_minor": 2
}
