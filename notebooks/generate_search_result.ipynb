{
 "cells": [
  {
   "cell_type": "markdown",
   "metadata": {},
   "source": [
    "## Generate Search Result"
   ]
  },
  {
   "cell_type": "code",
   "execution_count": 1,
   "metadata": {},
   "outputs": [],
   "source": [
    "# install the faiss-cpu when new env is provisioned\n",
    "#conda install -c pytorch faiss-cpu=1.7.4 mkl=2021"
   ]
  },
  {
   "cell_type": "code",
   "execution_count": 2,
   "metadata": {},
   "outputs": [],
   "source": [
    "# install the openai when new env is provisioned\n",
    "#conda install -c conda-forge openai"
   ]
  },
  {
   "cell_type": "code",
   "execution_count": 3,
   "metadata": {},
   "outputs": [],
   "source": [
    "import os\n",
    "import faiss\n",
    "import openai\n",
    "import pandas as pd\n",
    "import numpy as np\n",
    "import altair as alt\n",
    "import configparser\n",
    "\n",
    "import warnings\n",
    "warnings.filterwarnings('ignore')"
   ]
  },
  {
   "cell_type": "code",
   "execution_count": 4,
   "metadata": {},
   "outputs": [
    {
     "data": {
      "text/plain": [
       "'1.5.3'"
      ]
     },
     "execution_count": 4,
     "metadata": {},
     "output_type": "execute_result"
    }
   ],
   "source": [
    "pd.__version__"
   ]
  },
  {
   "cell_type": "code",
   "execution_count": 5,
   "metadata": {},
   "outputs": [
    {
     "data": {
      "text/plain": [
       "'1.7.4'"
      ]
     },
     "execution_count": 5,
     "metadata": {},
     "output_type": "execute_result"
    }
   ],
   "source": [
    "# make sure we are using FAISS version 1.7.4 \n",
    "faiss.__version__"
   ]
  },
  {
   "cell_type": "markdown",
   "metadata": {},
   "source": [
    "### Prepare required resources"
   ]
  },
  {
   "cell_type": "code",
   "execution_count": 6,
   "metadata": {},
   "outputs": [
    {
     "data": {
      "text/html": [
       "<div>\n",
       "<style scoped>\n",
       "    .dataframe tbody tr th:only-of-type {\n",
       "        vertical-align: middle;\n",
       "    }\n",
       "\n",
       "    .dataframe tbody tr th {\n",
       "        vertical-align: top;\n",
       "    }\n",
       "\n",
       "    .dataframe thead th {\n",
       "        text-align: right;\n",
       "    }\n",
       "</style>\n",
       "<table border=\"1\" class=\"dataframe\">\n",
       "  <thead>\n",
       "    <tr style=\"text-align: right;\">\n",
       "      <th></th>\n",
       "      <th>product_id</th>\n",
       "      <th>review_id</th>\n",
       "      <th>star_rating</th>\n",
       "      <th>product_title</th>\n",
       "      <th>review_body</th>\n",
       "    </tr>\n",
       "  </thead>\n",
       "  <tbody>\n",
       "    <tr>\n",
       "      <th>0</th>\n",
       "      <td>B00001QHXX</td>\n",
       "      <td>R2HBUQ97RV5JVR</td>\n",
       "      <td>3.0</td>\n",
       "      <td>Richard Nixon Mask</td>\n",
       "      <td>I got this mask for a company party and it fre...</td>\n",
       "    </tr>\n",
       "    <tr>\n",
       "      <th>1</th>\n",
       "      <td>B00001QHXX</td>\n",
       "      <td>RHCH92YNAS282</td>\n",
       "      <td>4.0</td>\n",
       "      <td>Richard Nixon Mask</td>\n",
       "      <td>Nice mask, will have to do some fitting work. ...</td>\n",
       "    </tr>\n",
       "    <tr>\n",
       "      <th>2</th>\n",
       "      <td>B00001QHXX</td>\n",
       "      <td>R1OHYB07D0WE35</td>\n",
       "      <td>5.0</td>\n",
       "      <td>Richard Nixon Mask</td>\n",
       "      <td>Even though its a bit large, I can't help but ...</td>\n",
       "    </tr>\n",
       "  </tbody>\n",
       "</table>\n",
       "</div>"
      ],
      "text/plain": [
       "   product_id       review_id  star_rating       product_title  \\\n",
       "0  B00001QHXX  R2HBUQ97RV5JVR          3.0  Richard Nixon Mask   \n",
       "1  B00001QHXX   RHCH92YNAS282          4.0  Richard Nixon Mask   \n",
       "2  B00001QHXX  R1OHYB07D0WE35          5.0  Richard Nixon Mask   \n",
       "\n",
       "                                         review_body  \n",
       "0  I got this mask for a company party and it fre...  \n",
       "1  Nice mask, will have to do some fitting work. ...  \n",
       "2  Even though its a bit large, I can't help but ...  "
      ]
     },
     "execution_count": 6,
     "metadata": {},
     "output_type": "execute_result"
    }
   ],
   "source": [
    "# This dataframe is created with the amazon_reviews_us_Apparel_v1_00.tsv.gz dataset with following filtering criteria:\n",
    "# 1. Year 2015\n",
    "# 2. Products with 10 - 14 reviews\n",
    "# 3. review_lenght > 10\n",
    "\n",
    "df_apparel = pd.read_csv('../resources/data/apparel_10to14.tsv.gz', sep='\\t', compression='gzip')\n",
    "cols = ['product_id', 'review_id', 'star_rating', 'product_title', 'review_body']\n",
    "df_apparel = df_apparel[cols]\n",
    "df_apparel.head(3)"
   ]
  },
  {
   "cell_type": "code",
   "execution_count": 7,
   "metadata": {},
   "outputs": [],
   "source": [
    "# Load the pre-created FAISS index\n",
    "faiss_index = faiss.read_index('../resources/binary/apparel_10to14_review_cosine.faissindex')"
   ]
  },
  {
   "cell_type": "code",
   "execution_count": 8,
   "metadata": {},
   "outputs": [],
   "source": [
    "# Load your API key from an environment variable or secret management service\n",
    "config = configparser.ConfigParser()\n",
    "config.read('nes.ini')\n",
    "openai.api_key = config['OpenAI']['api_key']"
   ]
  },
  {
   "cell_type": "markdown",
   "metadata": {},
   "source": [
    "### Define helper functions"
   ]
  },
  {
   "cell_type": "code",
   "execution_count": 9,
   "metadata": {},
   "outputs": [],
   "source": [
    "# Helper function to create the query embedding. Make sure to use the same model as what we used to created the product embedding\n",
    "def get_embedding(text, model=\"text-embedding-ada-002\"):\n",
    "   text = text.replace(\"\\n\", \" \")\n",
    "   \n",
    "   return np.array(openai.Embedding.create(input = [text], model=model)['data'][0]['embedding'], dtype='float32').reshape(1, -1)"
   ]
  },
  {
   "cell_type": "code",
   "execution_count": 10,
   "metadata": {},
   "outputs": [],
   "source": [
    "def search_with_original_query(df, faiss_index, query_embedding, num_of_records=100):\n",
    "    # we need to normalize the question embedding in order to use cosine similarity to search \n",
    "    faiss.normalize_L2(query_embedding)\n",
    "\n",
    "    # distance is the correspnding distance\n",
    "    # result_idx is the index of the input array, hence the index of the dataframe (if the dataframe index is reset which starts with 0)\n",
    "    distance, result_idx = faiss_index.search(query_embedding, k=num_of_records)\n",
    "\n",
    "    # use the return index to create the result dataframe\n",
    "    df_result = df.iloc[result_idx.squeeze().tolist()]\n",
    "    # add Distance to the result dataframe\n",
    "    df_result['distance'] = distance.T\n",
    "\n",
    "    df_result = df_result.sort_values(by='distance', ascending=True)\n",
    "    \n",
    "    return df_result, result_idx"
   ]
  },
  {
   "cell_type": "code",
   "execution_count": 11,
   "metadata": {},
   "outputs": [],
   "source": [
    "def generate_opposite_query(orignal_query=''):\n",
    "\n",
    "    prompt=\"\"\"\n",
    "        You are an English teacher. You need to find every single ADJECTIVE from the sentences delimited by triple backquotes below.\n",
    "        Then, you transform every adjective into its antonym.\n",
    "        Finally, give the dictionary meaning for each antonym.\n",
    "        Below are two examples. You need to comlete the third one. \n",
    "        \n",
    "\n",
    "        Text 1: Kids flip flops for girl, cute, good fit, comfortable and durable, low price\n",
    "        Output 1: Artless means without guile or deception. Unsuited means not proper or fitting for something. Uncomfortable means causing discomfort.  Fragile means easily broken. Costly means expensive.\n",
    "        ## \n",
    "        Text 2: Long sleeve shirts for men. Wrinkle-free, thick but breathable and slim fit\n",
    "        Output 2: Short means having little length. Crinkle means to form many short bends or ripples. Thin means measuring little in cross section or diameter. Airtight means impermeable to air or nearly so. Wide means having a greater than usual measure across\n",
    "        ##\n",
    "        Text 3:  ```{}```\n",
    "        Output 3:\n",
    "    \"\"\"\n",
    "\n",
    "    response = openai.Completion.create(\n",
    "        model=\"text-davinci-003\",\n",
    "        prompt=prompt.format(orignal_query),\n",
    "        temperature=0,\n",
    "        max_tokens=1000,\n",
    "        top_p=1.0,\n",
    "        frequency_penalty=0.0,\n",
    "        presence_penalty=0.0\n",
    "    )\n",
    "\n",
    "    return response['choices'][0]['text']"
   ]
  },
  {
   "cell_type": "code",
   "execution_count": 12,
   "metadata": {},
   "outputs": [],
   "source": [
    "def search_with_opposite_query(df, faiss_index, opposite_query_embedding, original_query_result_index, num_of_records=100):\n",
    "\n",
    "    faiss.normalize_L2(opposite_query_embedding)\n",
    "\n",
    "    # we want to make sure the opposite query only compare against the texts found by the original query \n",
    "    id_selector = faiss.IDSelectorArray(original_query_result_index.shape[1], faiss.swig_ptr(original_query_result_index))\n",
    "    filtered_distances, filtered_indices = faiss_index.search(opposite_query_embedding, k=num_of_records, params=faiss.SearchParametersIVF(sel=id_selector))\n",
    "\n",
    "    df_opposite_result = df.iloc[filtered_indices.squeeze().tolist()]\n",
    "    df_opposite_result['distance'] = filtered_distances.T\n",
    "\n",
    "    df_opposite_result = df_opposite_result.sort_values(by='distance', ascending=False)\n",
    "\n",
    "    return df_opposite_result"
   ]
  },
  {
   "cell_type": "code",
   "execution_count": 13,
   "metadata": {},
   "outputs": [],
   "source": [
    "def get_reconcile_result(df_result_original, df_result_opposite):\n",
    "\n",
    "    df_reconcile_result = df_result_original.merge(df_result_opposite[['review_id', 'distance']], \n",
    "                            left_on='review_id', right_on='review_id', how='left', suffixes=('_original', '_opposite'))\n",
    "    \n",
    "    # Using Dot Product FAISS Index with L2 normaliztion, the returning result is Cosine Similiarty, rather than Distance.\n",
    "    # There will turn the Cosine Similarity to Distance \n",
    "    df_reconcile_result['distance_original'] = 1 - df_reconcile_result['distance_original']\n",
    "    df_reconcile_result['distance_opposite'] = 1 - df_reconcile_result['distance_opposite']\n",
    "\n",
    "    df_reconcile_result = df_reconcile_result.sort_values(by='distance_original', ascending=True).reset_index(drop=True)\n",
    "\n",
    "    return df_reconcile_result"
   ]
  },
  {
   "cell_type": "code",
   "execution_count": 14,
   "metadata": {},
   "outputs": [],
   "source": [
    "# Helper function to clip the distance_opposite\n",
    "\n",
    "def clip_distance_opposite(df, clipping=0.5):\n",
    "    df = df.sort_values(by='distance_opposite', ascending=False).reset_index(drop=True)\n",
    "    # Flatten the first n% with distance_opposite sorted in descending order  \n",
    "    quantile_value = df['distance_opposite'].quantile(q=(1-clipping))\n",
    "    df.loc[0:(clipping * len(df)), ['distance_opposite']] = quantile_value\n",
    "\n",
    "    return df"
   ]
  },
  {
   "cell_type": "code",
   "execution_count": 15,
   "metadata": {},
   "outputs": [],
   "source": [
    "# Helper function to calculate adjsuted distance using the distance_oppsite as a penalty term\n",
    "\n",
    "def cal_adjusted_distance(df, k=0.5):\n",
    "    df['distance_adjusted'] = df.apply(lambda row: row['distance_original'] + (k * 1/row['distance_opposite']), axis='columns')\n",
    "    \n",
    "    return df \n"
   ]
  },
  {
   "cell_type": "code",
   "execution_count": 16,
   "metadata": {},
   "outputs": [],
   "source": [
    "# Helper function to calculate review level similarity scores\n",
    "\n",
    "def cal_review_similarity_score(df):\n",
    "    # find max of distance_adjusted  \n",
    "    max_distance_adjusted  = df['distance_adjusted'].max()\n",
    "    # normalized adjusted distance then subtract from 1 to calculate the similarity score \n",
    "    df['similarity_score'] = df['distance_adjusted'].apply(lambda x: 1 - x / max_distance_adjusted)\n",
    "\n",
    "    return df "
   ]
  },
  {
   "cell_type": "code",
   "execution_count": 17,
   "metadata": {},
   "outputs": [],
   "source": [
    "# Helper function to calculate the product level similarity scores \n",
    "\n",
    "def cal_product_similarity_score(df, method='discount_reward'):\n",
    "\n",
    "    if method == 'average':\n",
    "        df_temp = df.groupby('product_id')['similarity_score'].mean()\n",
    "        df_temp = df_temp.to_frame(name='product_similarity_score').reset_index()\n",
    "        df = pd.merge(df, df_temp, left_on='product_id', right_on='product_id')\n",
    "    else:\n",
    "        df_grouped = df.groupby(by='product_id')\n",
    "\n",
    "        for name, data in df_grouped:\n",
    "            data = data.sort_values('similarity_score', ascending=False)\n",
    "            scores = []\n",
    "            for cnt, (index, row) in enumerate(data.iterrows()):\n",
    "                discounted_score = row['similarity_score'] / pow(2, cnt)\n",
    "                scores.append(discounted_score)\n",
    "            df.loc[data.index, 'product_similarity_score'] = sum(scores)\n",
    "        \n",
    "    df = df.sort_values(by=['product_similarity_score', 'similarity_score'], ascending=[False, False])\n",
    "\n",
    "    return df"
   ]
  },
  {
   "cell_type": "code",
   "execution_count": 18,
   "metadata": {},
   "outputs": [],
   "source": [
    "def get_final_search_result(df_reconcile_result, clipping=0, weight=0, method='discount_reward'):\n",
    "    \"\"\"\n",
    "    Method 1:   Calculate product level similarity score by Average\n",
    "                clipping=0, weight=0, method='average'\n",
    "\n",
    "    Method 2:   Calculate product level similarity score by Discount Reward\n",
    "                clipping=0, weight=0, method='discount_reward' \n",
    "\n",
    "    Method 3:   Calcuate product level similarity score by Discount Reward with Adjustment by Opposite Query \n",
    "                clipping=0.1, weight=0.5, method='discount_reward\n",
    "    \"\"\"\n",
    "\n",
    "    df_copy = df_reconcile_result.copy()\n",
    "\n",
    "    df_copy = clip_distance_opposite(df_copy, clipping=clipping)\n",
    "    df_copy = cal_adjusted_distance(df_copy, k=weight)\n",
    "    df_copy = cal_review_similarity_score(df_copy)\n",
    "    df_copy = cal_product_similarity_score(df_copy, method=method)\n",
    "\n",
    "    # re-arrange columns for output\n",
    "    cols = ['product_id', 'review_id', 'star_rating', 'distance_original', 'distance_opposite',\n",
    "            'distance_adjusted', 'similarity_score', 'product_similarity_score', 'product_title', 'review_body']\n",
    "\n",
    "    df_copy = df_copy[cols]\n",
    "\n",
    "    return df_copy"
   ]
  },
  {
   "cell_type": "markdown",
   "metadata": {},
   "source": [
    "### Geneate results"
   ]
  },
  {
   "cell_type": "code",
   "execution_count": 19,
   "metadata": {},
   "outputs": [],
   "source": [
    "queries = {\n",
    "            \"Q1\" : \"Long thin cotton socks for men, need to be breathable, even feeling cool for summer time.\",\n",
    "            \"Q2\" : \"Wrinkle free chiffon blouse, sleek style, long sleeve, slim fit, with comfortable inside layer\",\n",
    "            \"Q3\" : \"DC or Marvel superhero costumes for adults. Comes with a mask.  Deluxe and high quality. Comfortable to wear. Washable and durable.\",\n",
    "            \"Q4\" : \"Baby footed bodysuit, made with soft and comfortable material, keeps the baby snug and warm, washed and dried well without shrinking\", \n",
    "            \"Q5\" : \"Women's knee-length A-line dress, looks cutie, made with high quality and relatively thick material, fits slim body\",\n",
    "            \"Q6\" : \"Men's lightweight packable down jacket, wind-Resistant, quilted design, snug fit, warm but breathable\",\n",
    "            \"Q7\" : \"Women's high-waisted leggings, tummy control for slimmer look, black color, moisture-wicking fabric, non-see-through\",\n",
    "            \"Q8\" : \"Men's skinny fit stretch jeans, tight on legs but fits good on hips, soft, comfortable and durable\",\n",
    "            \"Q9\" : \"Kid's Rain jacket with hood. Made from waterproof material that keeps dry even in heavy rain. Lightweight but able to keep body warm.\",\n",
    "            \"Q10\": \"Men's military style jacket, lightweight, fits asian adults\"\n",
    "        }   "
   ]
  },
  {
   "cell_type": "code",
   "execution_count": 20,
   "metadata": {},
   "outputs": [
    {
     "name": "stdout",
     "output_type": "stream",
     "text": [
      "=== Q1: Original Query === Long thin cotton socks for men, need to be breathable, even feeling cool for summer time.\n",
      "=== Q1: Opposite Query ===  Short means having little length. Thick means having a greater than usual measure across. Unbreathable means not allowing air to pass through. Hot means having or giving out a great deal of heat.\n",
      "=== Q2: Original Query === Wrinkle free chiffon blouse, sleek style, long sleeve, slim fit, with comfortable inside layer\n",
      "=== Q2: Opposite Query === \n",
      "        Wrinkled means having many creases or folds. Clumsy means lacking grace in movement or posture. Short means having little length. Bulky means large and unwieldy. Uncomfortable means causing discomfort.\n",
      "=== Q3: Original Query === DC or Marvel superhero costumes for adults. Comes with a mask.  Deluxe and high quality. Comfortable to wear. Washable and durable.\n",
      "=== Q3: Opposite Query ===  Inferior means of lower quality. Basic means of the simplest kind. Uncomfortable means causing discomfort. Unwashable means not able to be washed. Fragile means easily broken.\n",
      "=== Q4: Original Query === Baby footed bodysuit, made with soft and comfortable material, keeps the baby snug and warm, washed and dried well without shrinking\n",
      "=== Q4: Opposite Query === \n",
      "        Rough means having an uneven or irregular surface. Uncomfortable means causing discomfort. Loose means not firmly or tightly fixed in place. Unwarm means not providing or feeling warmth. Shrinking means becoming smaller in size.\n",
      "=== Q5: Original Query === Women's knee-length A-line dress, looks cutie, made with high quality and relatively thick material, fits slim body\n",
      "=== Q5: Opposite Query ===  Unattractive means not pleasing in appearance. Low quality means inferior in nature. Thin material means having little thickness. Loose-fitting means not fitting closely.\n",
      "=== Q6: Original Query === Men's lightweight packable down jacket, wind-Resistant, quilted design, snug fit, warm but breathable\n",
      "=== Q6: Opposite Query ===  Heavy means having great weight. Unquilted means not having a quilted pattern. Loose means not tight or close. Cold means having a low temperature. Stuffy means not allowing air to circulate freely.\n",
      "=== Q7: Original Query === Women's high-waisted leggings, tummy control for slimmer look, black color, moisture-wicking fabric, non-see-through\n",
      "=== Q7: Opposite Query ===  Low-waisted means having a waistline that is lower than usual. Bulky means large and unwieldy. White means the color of light containing equal amounts of all visible wavelengths. Damp means slightly wet. Transparent means allowing light to pass through so that objects behind can be distinctly seen.\n",
      "=== Q8: Original Query === Men's skinny fit stretch jeans, tight on legs but fits good on hips, soft, comfortable and durable\n",
      "=== Q8: Opposite Query ===  Loose means not tight or confined. Unfitting means not suitable or appropriate. Rough means having an uneven or irregular surface. Uncomfortable means causing discomfort. Fragile means easily broken.\n",
      "=== Q9: Original Query === Kid's Rain jacket with hood. Made from waterproof material that keeps dry even in heavy rain. Lightweight but able to keep body warm.\n",
      "=== Q9: Opposite Query === \n",
      "        Sodden means extremely wet. Non-waterproof means not impermeable to water. Heavy means having great weight. Unwarm means not warm.\n",
      "=== Q10: Original Query === Men's military style jacket, lightweight, fits asian adults\n",
      "=== Q10: Opposite Query ===  Heavy means having great weight. Loose means not fitting closely or tightly. Unsuitable means not appropriate for a particular purpose.\n"
     ]
    }
   ],
   "source": [
    "for key, query in queries.items():\n",
    "\n",
    "    # 1) create the embedding for orignal query \n",
    "    query_embedding = get_embedding(query)\n",
    "    print(f\"=== {key}: Original Query === {query}\")\n",
    "\n",
    "    # 2) search the FAISS index with orignal query embedding \n",
    "    df_result_original, result_idx = search_with_original_query(df_apparel, faiss_index, query_embedding, num_of_records=100)\n",
    "\n",
    "    # 3) generate opposite query \n",
    "    opposite_query = generate_opposite_query(query)\n",
    "    print(f\"=== {key}: Opposite Query === {opposite_query}\")\n",
    "\n",
    "    # 4) get the embedding for the opposite query \n",
    "    opposite_query_embedding = get_embedding(opposite_query)\n",
    "\n",
    "    # 5) search the FAISS index with the opposite query. We need to pass the result_idx from the orignal query in order to limit the seach scope \n",
    "    df_result_opposite = search_with_opposite_query(df_apparel, faiss_index, opposite_query_embedding, result_idx, num_of_records=100)\n",
    "\n",
    "    # 6) generate the reconsile result \n",
    "    df_reconcile_result = get_reconcile_result(df_result_original, df_result_opposite)\n",
    "\n",
    "\n",
    "    # Method 1\n",
    "    df_result_method1 = get_final_search_result(df_reconcile_result, clipping=0, weight=0, method='average')\n",
    "    # Method 2\n",
    "    df_result_method2 = get_final_search_result(df_reconcile_result, clipping=0, weight=0, method='discount_reward')\n",
    "    # Method 3\n",
    "    df_result_method3 = get_final_search_result(df_reconcile_result, clipping=0.1, weight=0.5, method='discount_reward')\n",
    "\n",
    "    # Save results \n",
    "    path = '../resources/output/'\n",
    "\n",
    "    df_result_method1.to_csv(path + key + \"_Method1_Average.tsv\", sep='\\t', index=False)\n",
    "    df_result_method2.to_csv(path + key + \"_Method2_Discount_Reward_Only.tsv\", sep='\\t', index=False)\n",
    "    df_result_method3.to_csv(path + key + \"_Method3_Discount_Reward_with_Adjustment.tsv\", sep='\\t', index=False)\n"
   ]
  },
  {
   "cell_type": "code",
   "execution_count": 21,
   "metadata": {},
   "outputs": [
    {
     "data": {
      "text/html": [
       "<div>\n",
       "<style scoped>\n",
       "    .dataframe tbody tr th:only-of-type {\n",
       "        vertical-align: middle;\n",
       "    }\n",
       "\n",
       "    .dataframe tbody tr th {\n",
       "        vertical-align: top;\n",
       "    }\n",
       "\n",
       "    .dataframe thead th {\n",
       "        text-align: right;\n",
       "    }\n",
       "</style>\n",
       "<table border=\"1\" class=\"dataframe\">\n",
       "  <thead>\n",
       "    <tr style=\"text-align: right;\">\n",
       "      <th></th>\n",
       "      <th>product_id</th>\n",
       "      <th>review_id</th>\n",
       "      <th>star_rating</th>\n",
       "      <th>distance_original</th>\n",
       "      <th>distance_opposite</th>\n",
       "      <th>distance_adjusted</th>\n",
       "      <th>similarity_score</th>\n",
       "      <th>product_similarity_score</th>\n",
       "      <th>product_title</th>\n",
       "      <th>review_body</th>\n",
       "    </tr>\n",
       "  </thead>\n",
       "  <tbody>\n",
       "    <tr>\n",
       "      <th>67</th>\n",
       "      <td>B00GRS3DRG</td>\n",
       "      <td>R155LWJUGTBP3E</td>\n",
       "      <td>5.0</td>\n",
       "      <td>0.125198</td>\n",
       "      <td>0.261329</td>\n",
       "      <td>0.125198</td>\n",
       "      <td>0.152450</td>\n",
       "      <td>0.095919</td>\n",
       "      <td>Uhomedecor Mens Classic Winter Wind Jacket Chi...</td>\n",
       "      <td>If your looking for a big jacket this isn't it...</td>\n",
       "    </tr>\n",
       "    <tr>\n",
       "      <th>63</th>\n",
       "      <td>B00GRS3DRG</td>\n",
       "      <td>R1HWOL8A5KA65K</td>\n",
       "      <td>5.0</td>\n",
       "      <td>0.125431</td>\n",
       "      <td>0.284443</td>\n",
       "      <td>0.125431</td>\n",
       "      <td>0.150877</td>\n",
       "      <td>0.095919</td>\n",
       "      <td>Uhomedecor Mens Classic Winter Wind Jacket Chi...</td>\n",
       "      <td>I'm still getting compliments on this jack and...</td>\n",
       "    </tr>\n",
       "    <tr>\n",
       "      <th>65</th>\n",
       "      <td>B00GRS3DRG</td>\n",
       "      <td>R2EZPNF3UL4PRD</td>\n",
       "      <td>4.0</td>\n",
       "      <td>0.126303</td>\n",
       "      <td>0.282390</td>\n",
       "      <td>0.126303</td>\n",
       "      <td>0.144974</td>\n",
       "      <td>0.095919</td>\n",
       "      <td>Uhomedecor Mens Classic Winter Wind Jacket Chi...</td>\n",
       "      <td>I'm A men's small and I got an xl and it fits ...</td>\n",
       "    </tr>\n",
       "  </tbody>\n",
       "</table>\n",
       "</div>"
      ],
      "text/plain": [
       "    product_id       review_id  star_rating  distance_original  \\\n",
       "67  B00GRS3DRG  R155LWJUGTBP3E          5.0           0.125198   \n",
       "63  B00GRS3DRG  R1HWOL8A5KA65K          5.0           0.125431   \n",
       "65  B00GRS3DRG  R2EZPNF3UL4PRD          4.0           0.126303   \n",
       "\n",
       "    distance_opposite  distance_adjusted  similarity_score  \\\n",
       "67           0.261329           0.125198          0.152450   \n",
       "63           0.284443           0.125431          0.150877   \n",
       "65           0.282390           0.126303          0.144974   \n",
       "\n",
       "    product_similarity_score  \\\n",
       "67                  0.095919   \n",
       "63                  0.095919   \n",
       "65                  0.095919   \n",
       "\n",
       "                                        product_title  \\\n",
       "67  Uhomedecor Mens Classic Winter Wind Jacket Chi...   \n",
       "63  Uhomedecor Mens Classic Winter Wind Jacket Chi...   \n",
       "65  Uhomedecor Mens Classic Winter Wind Jacket Chi...   \n",
       "\n",
       "                                          review_body  \n",
       "67  If your looking for a big jacket this isn't it...  \n",
       "63  I'm still getting compliments on this jack and...  \n",
       "65  I'm A men's small and I got an xl and it fits ...  "
      ]
     },
     "execution_count": 21,
     "metadata": {},
     "output_type": "execute_result"
    }
   ],
   "source": [
    "df_result_method1.head(3)"
   ]
  },
  {
   "cell_type": "code",
   "execution_count": null,
   "metadata": {},
   "outputs": [],
   "source": []
  },
  {
   "cell_type": "code",
   "execution_count": null,
   "metadata": {},
   "outputs": [],
   "source": []
  },
  {
   "cell_type": "code",
   "execution_count": null,
   "metadata": {},
   "outputs": [],
   "source": []
  },
  {
   "cell_type": "code",
   "execution_count": null,
   "metadata": {},
   "outputs": [],
   "source": []
  },
  {
   "cell_type": "code",
   "execution_count": null,
   "metadata": {},
   "outputs": [],
   "source": []
  },
  {
   "cell_type": "code",
   "execution_count": null,
   "metadata": {},
   "outputs": [],
   "source": []
  },
  {
   "cell_type": "code",
   "execution_count": null,
   "metadata": {},
   "outputs": [],
   "source": []
  },
  {
   "cell_type": "code",
   "execution_count": null,
   "metadata": {},
   "outputs": [],
   "source": []
  }
 ],
 "metadata": {
  "kernelspec": {
   "display_name": "Python 3.9.16",
   "language": "python",
   "name": "python3"
  },
  "language_info": {
   "codemirror_mode": {
    "name": "ipython",
    "version": 3
   },
   "file_extension": ".py",
   "mimetype": "text/x-python",
   "name": "python",
   "nbconvert_exporter": "python",
   "pygments_lexer": "ipython3",
   "version": "3.9.16"
  },
  "orig_nbformat": 4,
  "vscode": {
   "interpreter": {
    "hash": "47c21ec07182bd7b8a7046c05381eb5ae64d2b190ea0743ff4dd83b9ddde1114"
   }
  }
 },
 "nbformat": 4,
 "nbformat_minor": 2
}
