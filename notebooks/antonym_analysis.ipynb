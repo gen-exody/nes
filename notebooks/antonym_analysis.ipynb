{
 "cells": [
  {
   "cell_type": "markdown",
   "metadata": {},
   "source": [
    "## Antonym Analysis \n",
    "\n",
    "In this notebook, we are going to study if the embedding of an adjective an its antonym are really far away as what we expected."
   ]
  },
  {
   "cell_type": "code",
   "execution_count": 1,
   "metadata": {},
   "outputs": [],
   "source": [
    "# install the faiss-cpu when new env is provisioned\n",
    "#conda install -c pytorch faiss-cpu=1.7.4 mkl=2021\n",
    "\n",
    "# install the openai when new env is provisioned\n",
    "#conda install -c conda-forge openai"
   ]
  },
  {
   "cell_type": "code",
   "execution_count": 2,
   "metadata": {},
   "outputs": [],
   "source": [
    "import warnings\n",
    "warnings.filterwarnings('ignore')\n",
    "\n",
    "import os\n",
    "import umap\n",
    "import openai\n",
    "import pandas as pd\n",
    "import numpy as np\n",
    "import altair as alt\n",
    "import configparser\n",
    "import session_info\n",
    "from PIL import Image\n",
    "\n",
    "#alt.data_transformers.disable_max_rows()"
   ]
  },
  {
   "cell_type": "markdown",
   "metadata": {},
   "source": [
    "### Prepare required resources"
   ]
  },
  {
   "cell_type": "code",
   "execution_count": 3,
   "metadata": {},
   "outputs": [],
   "source": [
    "# Load your API key from an environment variable or secret management service\n",
    "config = configparser.ConfigParser()\n",
    "config.read('nes.ini')\n",
    "openai.api_key = config['OpenAI']['api_key']"
   ]
  },
  {
   "cell_type": "markdown",
   "metadata": {},
   "source": [
    "### Define helper functions"
   ]
  },
  {
   "cell_type": "code",
   "execution_count": 4,
   "metadata": {},
   "outputs": [],
   "source": [
    "# Helper function to create the query embedding. Make sure to use the same model as what we used to created the product embedding\n",
    "def get_embedding(text, model=\"text-embedding-ada-002\"):\n",
    "   text = text.replace(\"\\n\", \" \")\n",
    "   \n",
    "   return np.array(openai.Embedding.create(input = [text], model=model)['data'][0]['embedding'], dtype='float32').reshape(1, -1)"
   ]
  },
  {
   "cell_type": "code",
   "execution_count": 5,
   "metadata": {},
   "outputs": [],
   "source": [
    "# make a func to handle the mixed- type data and return the final UMAP embeddings\n",
    "def umap_embed(df, n_components=2,  n_neighbors= 15, random_state=42):\n",
    "    reducer = umap.UMAP(random_state=random_state, n_components=n_components, n_neighbors=n_neighbors, metric='cosine')\n",
    "    reducer.fit(df)\n",
    "    umap_embedding = reducer.transform(df)\n",
    "   \n",
    "    return reducer, umap_embedding"
   ]
  },
  {
   "cell_type": "markdown",
   "metadata": {},
   "source": [
    "### Prepare data for the distance analysis"
   ]
  },
  {
   "cell_type": "code",
   "execution_count": 6,
   "metadata": {},
   "outputs": [
    {
     "data": {
      "text/html": [
       "<div>\n",
       "<style scoped>\n",
       "    .dataframe tbody tr th:only-of-type {\n",
       "        vertical-align: middle;\n",
       "    }\n",
       "\n",
       "    .dataframe tbody tr th {\n",
       "        vertical-align: top;\n",
       "    }\n",
       "\n",
       "    .dataframe thead th {\n",
       "        text-align: right;\n",
       "    }\n",
       "</style>\n",
       "<table border=\"1\" class=\"dataframe\">\n",
       "  <thead>\n",
       "    <tr style=\"text-align: right;\">\n",
       "      <th></th>\n",
       "      <th>adjective</th>\n",
       "      <th>embedding</th>\n",
       "    </tr>\n",
       "  </thead>\n",
       "  <tbody>\n",
       "    <tr>\n",
       "      <th>0</th>\n",
       "      <td>Long</td>\n",
       "      <td>[0.0048255734, 0.0027919388, 0.016544823, -0.0...</td>\n",
       "    </tr>\n",
       "    <tr>\n",
       "      <th>1</th>\n",
       "      <td>Short</td>\n",
       "      <td>[-0.01411955, 0.009450202, 0.009687154, -0.007...</td>\n",
       "    </tr>\n",
       "    <tr>\n",
       "      <th>2</th>\n",
       "      <td>Thin</td>\n",
       "      <td>[-0.012029518, -0.005202453, 0.0058670673, 0.0...</td>\n",
       "    </tr>\n",
       "    <tr>\n",
       "      <th>3</th>\n",
       "      <td>Thick</td>\n",
       "      <td>[-0.015147983, -0.008822895, -0.0086416025, -0...</td>\n",
       "    </tr>\n",
       "    <tr>\n",
       "      <th>4</th>\n",
       "      <td>Breathable</td>\n",
       "      <td>[-0.010360341, 0.012756744, -0.011476474, -0.0...</td>\n",
       "    </tr>\n",
       "    <tr>\n",
       "      <th>5</th>\n",
       "      <td>Stuffy</td>\n",
       "      <td>[-0.0042448253, -0.010555807, -0.008107787, -0...</td>\n",
       "    </tr>\n",
       "    <tr>\n",
       "      <th>6</th>\n",
       "      <td>Cool</td>\n",
       "      <td>[-0.009752826, -0.005435001, 0.015460701, -0.0...</td>\n",
       "    </tr>\n",
       "    <tr>\n",
       "      <th>7</th>\n",
       "      <td>Hot</td>\n",
       "      <td>[-0.028340444, -0.0046487427, -0.0106000975, -...</td>\n",
       "    </tr>\n",
       "  </tbody>\n",
       "</table>\n",
       "</div>"
      ],
      "text/plain": [
       "    adjective                                          embedding\n",
       "0        Long  [0.0048255734, 0.0027919388, 0.016544823, -0.0...\n",
       "1       Short  [-0.01411955, 0.009450202, 0.009687154, -0.007...\n",
       "2        Thin  [-0.012029518, -0.005202453, 0.0058670673, 0.0...\n",
       "3       Thick  [-0.015147983, -0.008822895, -0.0086416025, -0...\n",
       "4  Breathable  [-0.010360341, 0.012756744, -0.011476474, -0.0...\n",
       "5      Stuffy  [-0.0042448253, -0.010555807, -0.008107787, -0...\n",
       "6        Cool  [-0.009752826, -0.005435001, 0.015460701, -0.0...\n",
       "7         Hot  [-0.028340444, -0.0046487427, -0.0106000975, -..."
      ]
     },
     "execution_count": 6,
     "metadata": {},
     "output_type": "execute_result"
    }
   ],
   "source": [
    "# Create a dataframe containing the adjectives and their antonyms from one of the testing query \n",
    "df_adj = pd.DataFrame(['Long','Short','Thin','Thick','Breathable','Stuffy','Cool','Hot'], columns=['adjective'])\n",
    "\n",
    "# Create embeddings\n",
    "df_adj['embedding'] = df_adj['adjective'].apply(lambda x: get_embedding(x)[0])\n",
    "\n",
    "df_adj"
   ]
  },
  {
   "cell_type": "markdown",
   "metadata": {},
   "source": [
    "### Create visualization "
   ]
  },
  {
   "cell_type": "code",
   "execution_count": 7,
   "metadata": {},
   "outputs": [],
   "source": [
    "# Reduce the dimension of word embedding to 2\n",
    "df_adj_vector = pd.DataFrame(df_adj['embedding'].values.tolist()).add_prefix('data')\n",
    "_ , umap_adj = umap_embed(df_adj_vector, n_components=2)"
   ]
  },
  {
   "cell_type": "code",
   "execution_count": 8,
   "metadata": {},
   "outputs": [],
   "source": [
    "df_adj['comp1'] = pd.Series(umap_adj[:,0])\n",
    "df_adj['comp2'] = pd.Series(umap_adj[:,1])"
   ]
  },
  {
   "cell_type": "code",
   "execution_count": 9,
   "metadata": {},
   "outputs": [],
   "source": [
    "# In order to create consistent result for the scatter plot, we save the df_adj here\n",
    "# Then we reload \n",
    "#df_adj.to_csv('../resources/data/temp/df_adj.csv', index=False)\n",
    "df_adj = pd.read_csv('../resources/data/temp/df_adj.csv')"
   ]
  },
  {
   "cell_type": "code",
   "execution_count": 10,
   "metadata": {},
   "outputs": [],
   "source": [
    "df_adj = pd.read_csv('../resources/data/temp/df_adj.csv')"
   ]
  },
  {
   "cell_type": "code",
   "execution_count": 11,
   "metadata": {},
   "outputs": [],
   "source": [
    "annotations = [[0.6, 5.5, 'Breathable'],\n",
    "               [1.2, 5.0, 'Stuffy'],\n",
    "               [1.3, 6.3, 'Thick'],\n",
    "               [1.8, 7.0, 'Thin'],\n",
    "               [2.0, 3.5, 'Cool'],\n",
    "               [2.1, 5.5, 'Hot'],\n",
    "               [2.5, 6.5, 'Short'],\n",
    "               [3.0, 6.0, 'Long']]\n",
    "               \n",
    "df_ann = pd.DataFrame(annotations, columns=['comp1', 'comp2', 'adjective'])"
   ]
  },
  {
   "cell_type": "code",
   "execution_count": 12,
   "metadata": {},
   "outputs": [
    {
     "data": {
      "text/html": [
       "\n",
       "<style>\n",
       "  #altair-viz-920e63eb7f3c4a83b6a39e283bb09fda.vega-embed {\n",
       "    width: 100%;\n",
       "    display: flex;\n",
       "  }\n",
       "\n",
       "  #altair-viz-920e63eb7f3c4a83b6a39e283bb09fda.vega-embed details,\n",
       "  #altair-viz-920e63eb7f3c4a83b6a39e283bb09fda.vega-embed details summary {\n",
       "    position: relative;\n",
       "  }\n",
       "</style>\n",
       "<div id=\"altair-viz-920e63eb7f3c4a83b6a39e283bb09fda\"></div>\n",
       "<script type=\"text/javascript\">\n",
       "  var VEGA_DEBUG = (typeof VEGA_DEBUG == \"undefined\") ? {} : VEGA_DEBUG;\n",
       "  (function(spec, embedOpt){\n",
       "    let outputDiv = document.currentScript.previousElementSibling;\n",
       "    if (outputDiv.id !== \"altair-viz-920e63eb7f3c4a83b6a39e283bb09fda\") {\n",
       "      outputDiv = document.getElementById(\"altair-viz-920e63eb7f3c4a83b6a39e283bb09fda\");\n",
       "    }\n",
       "    const paths = {\n",
       "      \"vega\": \"https://cdn.jsdelivr.net/npm/vega@5?noext\",\n",
       "      \"vega-lib\": \"https://cdn.jsdelivr.net/npm/vega-lib?noext\",\n",
       "      \"vega-lite\": \"https://cdn.jsdelivr.net/npm/vega-lite@5.8.0?noext\",\n",
       "      \"vega-embed\": \"https://cdn.jsdelivr.net/npm/vega-embed@6?noext\",\n",
       "    };\n",
       "\n",
       "    function maybeLoadScript(lib, version) {\n",
       "      var key = `${lib.replace(\"-\", \"\")}_version`;\n",
       "      return (VEGA_DEBUG[key] == version) ?\n",
       "        Promise.resolve(paths[lib]) :\n",
       "        new Promise(function(resolve, reject) {\n",
       "          var s = document.createElement('script');\n",
       "          document.getElementsByTagName(\"head\")[0].appendChild(s);\n",
       "          s.async = true;\n",
       "          s.onload = () => {\n",
       "            VEGA_DEBUG[key] = version;\n",
       "            return resolve(paths[lib]);\n",
       "          };\n",
       "          s.onerror = () => reject(`Error loading script: ${paths[lib]}`);\n",
       "          s.src = paths[lib];\n",
       "        });\n",
       "    }\n",
       "\n",
       "    function showError(err) {\n",
       "      outputDiv.innerHTML = `<div class=\"error\" style=\"color:red;\">${err}</div>`;\n",
       "      throw err;\n",
       "    }\n",
       "\n",
       "    function displayChart(vegaEmbed) {\n",
       "      vegaEmbed(outputDiv, spec, embedOpt)\n",
       "        .catch(err => showError(`Javascript Error: ${err.message}<br>This usually means there's a typo in your chart specification. See the javascript console for the full traceback.`));\n",
       "    }\n",
       "\n",
       "    if(typeof define === \"function\" && define.amd) {\n",
       "      requirejs.config({paths});\n",
       "      require([\"vega-embed\"], displayChart, err => showError(`Error loading script: ${err.message}`));\n",
       "    } else {\n",
       "      maybeLoadScript(\"vega\", \"5\")\n",
       "        .then(() => maybeLoadScript(\"vega-lite\", \"5.8.0\"))\n",
       "        .then(() => maybeLoadScript(\"vega-embed\", \"6\"))\n",
       "        .catch(showError)\n",
       "        .then(() => displayChart(vegaEmbed));\n",
       "    }\n",
       "  })({\"config\": {\"view\": {\"continuousWidth\": 300, \"continuousHeight\": 300}}, \"layer\": [{\"data\": {\"name\": \"data-4ab2cd03425d9846628bef8b36716a1a\"}, \"mark\": {\"type\": \"circle\", \"color\": \"orange\", \"size\": 200}, \"encoding\": {\"tooltip\": [{\"field\": \"adjective\", \"type\": \"nominal\"}], \"x\": {\"field\": \"comp1\", \"scale\": {\"domain\": [0, 4]}, \"type\": \"quantitative\"}, \"y\": {\"field\": \"comp2\", \"scale\": {\"domain\": [0, 8]}, \"type\": \"quantitative\"}}}, {\"data\": {\"name\": \"data-e30d79e626132c57a77f8ecb6ad6e9fd\"}, \"mark\": {\"type\": \"text\", \"fontSize\": 15}, \"encoding\": {\"text\": {\"field\": \"adjective\", \"type\": \"nominal\"}, \"x\": {\"field\": \"comp1\", \"type\": \"quantitative\"}, \"y\": {\"field\": \"comp2\", \"type\": \"quantitative\"}}}], \"height\": 400, \"width\": 600, \"$schema\": \"https://vega.github.io/schema/vega-lite/v5.8.0.json\", \"datasets\": {\"data-4ab2cd03425d9846628bef8b36716a1a\": [{\"adjective\": \"Long\", \"embedding\": \"[ 0.00482557  0.00279194  0.01654482 ... -0.00607678  0.00453604\\n -0.0200606 ]\", \"comp1\": 3.1462076, \"comp2\": 5.3619313}, {\"adjective\": \"Short\", \"embedding\": \"[-0.01411955  0.0094502   0.00968715 ... -0.00701447  0.00479479\\n -0.021479  ]\", \"comp1\": 2.667685, \"comp2\": 6.022793}, {\"adjective\": \"Thin\", \"embedding\": \"[-0.01202952 -0.00520245  0.00586707 ... -0.01521228 -0.01871258\\n -0.0251815 ]\", \"comp1\": 1.9551865, \"comp2\": 6.4003024}, {\"adjective\": \"Thick\", \"embedding\": \"[-0.01514798 -0.00882289 -0.0086416  ... -0.01624917 -0.03115543\\n -0.01469139]\", \"comp1\": 1.3549395, \"comp2\": 5.76024}, {\"adjective\": \"Breathable\", \"embedding\": \"[-0.01036034  0.01275674 -0.01147647 ... -0.00705133 -0.0043759\\n -0.00829878]\", \"comp1\": 0.7292193, \"comp2\": 5.00731}, {\"adjective\": \"Stuffy\", \"embedding\": \"[-0.00424483 -0.01055581 -0.00810779 ...  0.00351519 -0.01150365\\n -0.02393468]\", \"comp1\": 1.2707111, \"comp2\": 4.4686117}, {\"adjective\": \"Cool\", \"embedding\": \"[-0.00975283 -0.005435    0.0154607  ... -0.01165331 -0.02215092\\n -0.02956024]\", \"comp1\": 2.2184901, \"comp2\": 4.3910193}, {\"adjective\": \"Hot\", \"embedding\": \"[-0.02834044 -0.00464874 -0.0106001  ...  0.00238468 -0.02136561\\n -0.03134541]\", \"comp1\": 2.2780898, \"comp2\": 5.138867}], \"data-e30d79e626132c57a77f8ecb6ad6e9fd\": [{\"comp1\": 0.6, \"comp2\": 5.5, \"adjective\": \"Breathable\"}, {\"comp1\": 1.2, \"comp2\": 5.0, \"adjective\": \"Stuffy\"}, {\"comp1\": 1.3, \"comp2\": 6.3, \"adjective\": \"Thick\"}, {\"comp1\": 1.8, \"comp2\": 7.0, \"adjective\": \"Thin\"}, {\"comp1\": 2.0, \"comp2\": 3.5, \"adjective\": \"Cool\"}, {\"comp1\": 2.1, \"comp2\": 5.5, \"adjective\": \"Hot\"}, {\"comp1\": 2.5, \"comp2\": 6.5, \"adjective\": \"Short\"}, {\"comp1\": 3.0, \"comp2\": 6.0, \"adjective\": \"Long\"}]}}, {\"mode\": \"vega-lite\"});\n",
       "</script>"
      ],
      "text/plain": [
       "alt.LayerChart(...)"
      ]
     },
     "metadata": {},
     "output_type": "display_data"
    }
   ],
   "source": [
    "scatter_plot = alt.Chart(data=df_adj).mark_circle(size=200, color='orange').encode(\n",
    "        x=alt.X('comp1:Q').scale(domain=(0,4)),\n",
    "        y=alt.Y('comp2:Q').scale(domain=(0,8)),\n",
    "        tooltip=[\n",
    "            'adjective:N'\n",
    "            ]\n",
    ")\n",
    "\n",
    "ann_plot = alt.Chart(data=df_ann).mark_text(fontSize=15).encode(\n",
    "    x=alt.X('comp1:Q'),\n",
    "    y=alt.Y('comp2:Q'),\n",
    "    text=alt.Text('adjective:N')\n",
    ")\n",
    "\n",
    "plot = (scatter_plot + ann_plot).properties(\n",
    "    width=600,\n",
    "    height=400\n",
    ")\n",
    "\n",
    "plot.display()"
   ]
  },
  {
   "cell_type": "code",
   "execution_count": 13,
   "metadata": {},
   "outputs": [],
   "source": [
    "plot.save('img/scatter.png')"
   ]
  },
  {
   "cell_type": "code",
   "execution_count": 14,
   "metadata": {},
   "outputs": [
    {
     "data": {
      "image/png": "[encoded data removed]",
      "text/plain": [
       "<PIL.PngImagePlugin.PngImageFile image mode=RGBA size=639x447>"
      ]
     },
     "execution_count": 14,
     "metadata": {},
     "output_type": "execute_result"
    }
   ],
   "source": [
    "\n",
    "Image.open('img/scatter.png')"
   ]
  },
  {
   "cell_type": "code",
   "execution_count": null,
   "metadata": {},
   "outputs": [],
   "source": []
  },
  {
   "cell_type": "markdown",
   "metadata": {},
   "source": [
    "### List of libraries used"
   ]
  },
  {
   "cell_type": "code",
   "execution_count": 15,
   "metadata": {},
   "outputs": [
    {
     "data": {
      "text/html": [
       "<details>\n",
       "<summary>Click to view session information</summary>\n",
       "<pre>\n",
       "-----\n",
       "PIL                 9.4.0\n",
       "altair              5.0.1\n",
       "numpy               1.24.3\n",
       "openai              0.27.8\n",
       "pandas              1.5.3\n",
       "session_info        1.0.0\n",
       "umap                0.5.3\n",
       "-----\n",
       "</pre>\n",
       "<details>\n",
       "<summary>Click to view modules imported as dependencies</summary>\n",
       "<pre>\n",
       "aiohttp                     3.8.3\n",
       "aiosignal                   1.2.0\n",
       "anyio                       NA\n",
       "asttokens                   NA\n",
       "async_timeout               4.0.2\n",
       "attr                        22.1.0\n",
       "babel                       2.11.0\n",
       "backcall                    0.2.0\n",
       "beta_ufunc                  NA\n",
       "binom_ufunc                 NA\n",
       "bottleneck                  1.3.5\n",
       "brotli                      NA\n",
       "certifi                     2023.07.22\n",
       "cffi                        1.15.1\n",
       "chardet                     4.0.0\n",
       "charset_normalizer          2.0.4\n",
       "cloudpickle                 2.2.1\n",
       "colorama                    0.4.6\n",
       "comm                        0.1.2\n",
       "cython_runtime              NA\n",
       "dateutil                    2.8.2\n",
       "debugpy                     1.5.1\n",
       "decorator                   5.1.1\n",
       "defusedxml                  0.7.1\n",
       "entrypoints                 0.4\n",
       "executing                   0.8.3\n",
       "fastjsonschema              NA\n",
       "frozenlist                  1.3.3\n",
       "google                      NA\n",
       "hypergeom_ufunc             NA\n",
       "idna                        3.4\n",
       "importlib_metadata          NA\n",
       "invgauss_ufunc              NA\n",
       "ipykernel                   6.19.2\n",
       "ipython_genutils            0.2.0\n",
       "ipywidgets                  8.0.4\n",
       "jedi                        0.18.1\n",
       "jinja2                      3.1.2\n",
       "joblib                      1.2.0\n",
       "json5                       NA\n",
       "jsonschema                  4.17.3\n",
       "jupyter_server              1.23.4\n",
       "jupyterlab_server           2.22.0\n",
       "llvmlite                    0.40.0\n",
       "lz4                         4.3.2\n",
       "markupsafe                  2.1.1\n",
       "mkl                         2.4.0\n",
       "mpl_toolkits                NA\n",
       "multidict                   6.0.2\n",
       "nbformat                    5.7.0\n",
       "nbinom_ufunc                NA\n",
       "ncf_ufunc                   NA\n",
       "nct_ufunc                   NA\n",
       "ncx2_ufunc                  NA\n",
       "nt                          NA\n",
       "ntsecuritycon               NA\n",
       "numba                       0.57.0\n",
       "numexpr                     2.8.4\n",
       "packaging                   23.0\n",
       "parso                       0.8.3\n",
       "pickleshare                 0.7.5\n",
       "pkg_resources               NA\n",
       "platformdirs                2.5.2\n",
       "prometheus_client           NA\n",
       "prompt_toolkit              3.0.36\n",
       "psutil                      5.9.0\n",
       "pure_eval                   0.2.2\n",
       "pvectorc                    NA\n",
       "pyarrow                     11.0.0\n",
       "pycparser                   2.21\n",
       "pydev_ipython               NA\n",
       "pydevconsole                NA\n",
       "pydevd                      2.6.0\n",
       "pydevd_concurrency_analyser NA\n",
       "pydevd_file_utils           NA\n",
       "pydevd_plugins              NA\n",
       "pydevd_tracing              NA\n",
       "pygments                    2.15.1\n",
       "pynndescent                 0.5.10\n",
       "pyrsistent                  NA\n",
       "pythoncom                   NA\n",
       "pytz                        2022.7\n",
       "pywintypes                  NA\n",
       "requests                    2.31.0\n",
       "rfc3339_validator           0.1.4\n",
       "rfc3986_validator           0.1.1\n",
       "scipy                       1.10.1\n",
       "send2trash                  NA\n",
       "setuptools                  68.0.0\n",
       "six                         1.16.0\n",
       "skewnorm_ufunc              NA\n",
       "sklearn                     1.2.2\n",
       "sniffio                     1.2.0\n",
       "socks                       1.7.1\n",
       "sphinxcontrib               NA\n",
       "stack_data                  0.2.0\n",
       "terminado                   0.17.1\n",
       "threadpoolctl               2.2.0\n",
       "toolz                       0.12.0\n",
       "tornado                     6.2\n",
       "tqdm                        4.65.0\n",
       "traitlets                   5.7.1\n",
       "typing_extensions           NA\n",
       "urllib3                     1.26.16\n",
       "vl_convert                  0.11.2\n",
       "wcwidth                     0.2.5\n",
       "websocket                   0.58.0\n",
       "win32api                    NA\n",
       "win32com                    NA\n",
       "win32con                    NA\n",
       "win32security               NA\n",
       "win32trace                  NA\n",
       "winerror                    NA\n",
       "winpty                      2.0.10\n",
       "yaml                        6.0\n",
       "yarl                        1.8.1\n",
       "zipp                        NA\n",
       "zmq                         23.2.0\n",
       "zoneinfo                    NA\n",
       "zope                        NA\n",
       "</pre>\n",
       "</details> <!-- seems like this ends pre, so might as well be explicit -->\n",
       "<pre>\n",
       "-----\n",
       "IPython             8.12.0\n",
       "jupyter_client      7.4.9\n",
       "jupyter_core        5.3.0\n",
       "jupyterlab          3.6.3\n",
       "notebook            6.5.4\n",
       "-----\n",
       "Python 3.9.16 (main, Mar  8 2023, 10:39:24) [MSC v.1916 64 bit (AMD64)]\n",
       "Windows-10-10.0.22000-SP0\n",
       "-----\n",
       "Session information updated at 2023-07-28 22:42\n",
       "</pre>\n",
       "</details>"
      ],
      "text/plain": [
       "<IPython.core.display.HTML object>"
      ]
     },
     "execution_count": 15,
     "metadata": {},
     "output_type": "execute_result"
    }
   ],
   "source": [
    "session_info.show()"
   ]
  },
  {
   "cell_type": "code",
   "execution_count": null,
   "metadata": {},
   "outputs": [],
   "source": []
  },
  {
   "cell_type": "code",
   "execution_count": null,
   "metadata": {},
   "outputs": [],
   "source": []
  },
  {
   "cell_type": "code",
   "execution_count": null,
   "metadata": {},
   "outputs": [],
   "source": []
  },
  {
   "cell_type": "code",
   "execution_count": null,
   "metadata": {},
   "outputs": [],
   "source": []
  },
  {
   "cell_type": "code",
   "execution_count": null,
   "metadata": {},
   "outputs": [],
   "source": []
  },
  {
   "cell_type": "code",
   "execution_count": null,
   "metadata": {},
   "outputs": [],
   "source": []
  },
  {
   "cell_type": "code",
   "execution_count": null,
   "metadata": {},
   "outputs": [],
   "source": []
  },
  {
   "cell_type": "code",
   "execution_count": null,
   "metadata": {},
   "outputs": [],
   "source": []
  },
  {
   "cell_type": "code",
   "execution_count": null,
   "metadata": {},
   "outputs": [],
   "source": []
  },
  {
   "cell_type": "code",
   "execution_count": null,
   "metadata": {},
   "outputs": [],
   "source": []
  },
  {
   "cell_type": "code",
   "execution_count": null,
   "metadata": {},
   "outputs": [],
   "source": []
  },
  {
   "cell_type": "code",
   "execution_count": null,
   "metadata": {},
   "outputs": [],
   "source": []
  },
  {
   "cell_type": "code",
   "execution_count": null,
   "metadata": {},
   "outputs": [],
   "source": []
  },
  {
   "cell_type": "code",
   "execution_count": null,
   "metadata": {},
   "outputs": [],
   "source": []
  },
  {
   "cell_type": "code",
   "execution_count": null,
   "metadata": {},
   "outputs": [],
   "source": []
  },
  {
   "cell_type": "code",
   "execution_count": null,
   "metadata": {},
   "outputs": [],
   "source": []
  },
  {
   "cell_type": "code",
   "execution_count": null,
   "metadata": {},
   "outputs": [],
   "source": []
  }
 ],
 "metadata": {
  "kernelspec": {
   "display_name": "Python 3.9.16",
   "language": "python",
   "name": "python3"
  },
  "language_info": {
   "codemirror_mode": {
    "name": "ipython",
    "version": 3
   },
   "file_extension": ".py",
   "mimetype": "text/x-python",
   "name": "python",
   "nbconvert_exporter": "python",
   "pygments_lexer": "ipython3",
   "version": "3.9.16"
  },
  "orig_nbformat": 4,
  "vscode": {
   "interpreter": {
    "hash": "47c21ec07182bd7b8a7046c05381eb5ae64d2b190ea0743ff4dd83b9ddde1114"
   }
  }
 },
 "nbformat": 4,
 "nbformat_minor": 2
}
