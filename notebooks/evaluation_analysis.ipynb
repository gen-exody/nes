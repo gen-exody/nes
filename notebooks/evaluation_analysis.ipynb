{
 "cells": [
  {
   "cell_type": "code",
   "execution_count": 1,
   "metadata": {},
   "outputs": [],
   "source": [
    "import warnings\n",
    "warnings.filterwarnings('ignore')\n",
    "\n",
    "import pandas as pd\n",
    "import numpy as np\n",
    "import altair as alt\n",
    "\n",
    "from PIL import Image"
   ]
  },
  {
   "cell_type": "code",
   "execution_count": 2,
   "metadata": {},
   "outputs": [],
   "source": [
    "df_ndcg = pd.read_csv('../resources/eval/ndcg.csv')"
   ]
  },
  {
   "cell_type": "code",
   "execution_count": 3,
   "metadata": {},
   "outputs": [
    {
     "data": {
      "text/html": [
       "<div>\n",
       "<style scoped>\n",
       "    .dataframe tbody tr th:only-of-type {\n",
       "        vertical-align: middle;\n",
       "    }\n",
       "\n",
       "    .dataframe tbody tr th {\n",
       "        vertical-align: top;\n",
       "    }\n",
       "\n",
       "    .dataframe thead th {\n",
       "        text-align: right;\n",
       "    }\n",
       "</style>\n",
       "<table border=\"1\" class=\"dataframe\">\n",
       "  <thead>\n",
       "    <tr style=\"text-align: right;\">\n",
       "      <th></th>\n",
       "      <th>Query ID</th>\n",
       "      <th>Ranking Method</th>\n",
       "      <th>User ID</th>\n",
       "      <th>NDCG@10</th>\n",
       "      <th>NDCG@5</th>\n",
       "      <th>NDCG@3</th>\n",
       "    </tr>\n",
       "  </thead>\n",
       "  <tbody>\n",
       "    <tr>\n",
       "      <th>0</th>\n",
       "      <td>Q1</td>\n",
       "      <td>Average</td>\n",
       "      <td>U1</td>\n",
       "      <td>0.917250</td>\n",
       "      <td>0.805861</td>\n",
       "      <td>0.750000</td>\n",
       "    </tr>\n",
       "    <tr>\n",
       "      <th>1</th>\n",
       "      <td>Q1</td>\n",
       "      <td>Discounted Reward Only</td>\n",
       "      <td>U1</td>\n",
       "      <td>0.959709</td>\n",
       "      <td>0.860806</td>\n",
       "      <td>0.916667</td>\n",
       "    </tr>\n",
       "    <tr>\n",
       "      <th>2</th>\n",
       "      <td>Q1</td>\n",
       "      <td>Discounted Reward with Adjustment</td>\n",
       "      <td>U1</td>\n",
       "      <td>0.929303</td>\n",
       "      <td>0.797663</td>\n",
       "      <td>0.812500</td>\n",
       "    </tr>\n",
       "  </tbody>\n",
       "</table>\n",
       "</div>"
      ],
      "text/plain": [
       "  Query ID                     Ranking Method User ID   NDCG@10    NDCG@5  \\\n",
       "0       Q1                            Average      U1  0.917250  0.805861   \n",
       "1       Q1             Discounted Reward Only      U1  0.959709  0.860806   \n",
       "2       Q1  Discounted Reward with Adjustment      U1  0.929303  0.797663   \n",
       "\n",
       "     NDCG@3  \n",
       "0  0.750000  \n",
       "1  0.916667  \n",
       "2  0.812500  "
      ]
     },
     "execution_count": 3,
     "metadata": {},
     "output_type": "execute_result"
    }
   ],
   "source": [
    "df_ndcg.head(3)"
   ]
  },
  {
   "cell_type": "code",
   "execution_count": 4,
   "metadata": {},
   "outputs": [],
   "source": [
    "#df_ndcg = df_ndcg[df_ndcg['User ID']!='U2']"
   ]
  },
  {
   "cell_type": "code",
   "execution_count": 5,
   "metadata": {},
   "outputs": [],
   "source": [
    "#df_ndcg = df_ndcg[df_ndcg['Query ID']!='Q10']"
   ]
  },
  {
   "cell_type": "code",
   "execution_count": 6,
   "metadata": {},
   "outputs": [],
   "source": [
    "df_ndcg_avg = df_ndcg.groupby(by=['Query ID', 'Ranking Method']).mean().reset_index()"
   ]
  },
  {
   "cell_type": "code",
   "execution_count": 7,
   "metadata": {},
   "outputs": [
    {
     "data": {
      "text/html": [
       "<div>\n",
       "<style scoped>\n",
       "    .dataframe tbody tr th:only-of-type {\n",
       "        vertical-align: middle;\n",
       "    }\n",
       "\n",
       "    .dataframe tbody tr th {\n",
       "        vertical-align: top;\n",
       "    }\n",
       "\n",
       "    .dataframe thead th {\n",
       "        text-align: right;\n",
       "    }\n",
       "</style>\n",
       "<table border=\"1\" class=\"dataframe\">\n",
       "  <thead>\n",
       "    <tr style=\"text-align: right;\">\n",
       "      <th></th>\n",
       "      <th>Query ID</th>\n",
       "      <th>Ranking Method</th>\n",
       "      <th>NDCG@10</th>\n",
       "      <th>NDCG@5</th>\n",
       "      <th>NDCG@3</th>\n",
       "    </tr>\n",
       "  </thead>\n",
       "  <tbody>\n",
       "    <tr>\n",
       "      <th>0</th>\n",
       "      <td>Q1</td>\n",
       "      <td>Average</td>\n",
       "      <td>0.927088</td>\n",
       "      <td>0.819196</td>\n",
       "      <td>0.794263</td>\n",
       "    </tr>\n",
       "    <tr>\n",
       "      <th>1</th>\n",
       "      <td>Q1</td>\n",
       "      <td>Discounted Reward Only</td>\n",
       "      <td>0.951410</td>\n",
       "      <td>0.852802</td>\n",
       "      <td>0.880234</td>\n",
       "    </tr>\n",
       "    <tr>\n",
       "      <th>2</th>\n",
       "      <td>Q1</td>\n",
       "      <td>Discounted Reward with Adjustment</td>\n",
       "      <td>0.943484</td>\n",
       "      <td>0.836534</td>\n",
       "      <td>0.836459</td>\n",
       "    </tr>\n",
       "    <tr>\n",
       "      <th>3</th>\n",
       "      <td>Q2</td>\n",
       "      <td>Average</td>\n",
       "      <td>0.949599</td>\n",
       "      <td>0.875985</td>\n",
       "      <td>0.851194</td>\n",
       "    </tr>\n",
       "    <tr>\n",
       "      <th>4</th>\n",
       "      <td>Q2</td>\n",
       "      <td>Discounted Reward Only</td>\n",
       "      <td>0.923657</td>\n",
       "      <td>0.805725</td>\n",
       "      <td>0.791626</td>\n",
       "    </tr>\n",
       "    <tr>\n",
       "      <th>5</th>\n",
       "      <td>Q2</td>\n",
       "      <td>Discounted Reward with Adjustment</td>\n",
       "      <td>0.917472</td>\n",
       "      <td>0.802590</td>\n",
       "      <td>0.771102</td>\n",
       "    </tr>\n",
       "    <tr>\n",
       "      <th>6</th>\n",
       "      <td>Q3</td>\n",
       "      <td>Average</td>\n",
       "      <td>0.945217</td>\n",
       "      <td>0.882151</td>\n",
       "      <td>0.857248</td>\n",
       "    </tr>\n",
       "    <tr>\n",
       "      <th>7</th>\n",
       "      <td>Q3</td>\n",
       "      <td>Discounted Reward Only</td>\n",
       "      <td>0.956361</td>\n",
       "      <td>0.897332</td>\n",
       "      <td>0.886685</td>\n",
       "    </tr>\n",
       "    <tr>\n",
       "      <th>8</th>\n",
       "      <td>Q3</td>\n",
       "      <td>Discounted Reward with Adjustment</td>\n",
       "      <td>0.951456</td>\n",
       "      <td>0.872912</td>\n",
       "      <td>0.871350</td>\n",
       "    </tr>\n",
       "    <tr>\n",
       "      <th>9</th>\n",
       "      <td>Q4</td>\n",
       "      <td>Average</td>\n",
       "      <td>0.907678</td>\n",
       "      <td>0.779336</td>\n",
       "      <td>0.749906</td>\n",
       "    </tr>\n",
       "  </tbody>\n",
       "</table>\n",
       "</div>"
      ],
      "text/plain": [
       "  Query ID                     Ranking Method   NDCG@10    NDCG@5    NDCG@3\n",
       "0       Q1                            Average  0.927088  0.819196  0.794263\n",
       "1       Q1             Discounted Reward Only  0.951410  0.852802  0.880234\n",
       "2       Q1  Discounted Reward with Adjustment  0.943484  0.836534  0.836459\n",
       "3       Q2                            Average  0.949599  0.875985  0.851194\n",
       "4       Q2             Discounted Reward Only  0.923657  0.805725  0.791626\n",
       "5       Q2  Discounted Reward with Adjustment  0.917472  0.802590  0.771102\n",
       "6       Q3                            Average  0.945217  0.882151  0.857248\n",
       "7       Q3             Discounted Reward Only  0.956361  0.897332  0.886685\n",
       "8       Q3  Discounted Reward with Adjustment  0.951456  0.872912  0.871350\n",
       "9       Q4                            Average  0.907678  0.779336  0.749906"
      ]
     },
     "execution_count": 7,
     "metadata": {},
     "output_type": "execute_result"
    }
   ],
   "source": [
    "df_ndcg_avg.head(10)"
   ]
  },
  {
   "cell_type": "code",
   "execution_count": 8,
   "metadata": {},
   "outputs": [
    {
     "data": {
      "text/html": [
       "<div>\n",
       "<style scoped>\n",
       "    .dataframe tbody tr th:only-of-type {\n",
       "        vertical-align: middle;\n",
       "    }\n",
       "\n",
       "    .dataframe tbody tr th {\n",
       "        vertical-align: top;\n",
       "    }\n",
       "\n",
       "    .dataframe thead th {\n",
       "        text-align: right;\n",
       "    }\n",
       "</style>\n",
       "<table border=\"1\" class=\"dataframe\">\n",
       "  <thead>\n",
       "    <tr style=\"text-align: right;\">\n",
       "      <th></th>\n",
       "      <th>NDCG@10</th>\n",
       "      <th>NDCG@5</th>\n",
       "      <th>NDCG@3</th>\n",
       "    </tr>\n",
       "    <tr>\n",
       "      <th>Ranking Method</th>\n",
       "      <th></th>\n",
       "      <th></th>\n",
       "      <th></th>\n",
       "    </tr>\n",
       "  </thead>\n",
       "  <tbody>\n",
       "    <tr>\n",
       "      <th>Average</th>\n",
       "      <td>0.934942</td>\n",
       "      <td>0.847391</td>\n",
       "      <td>0.819158</td>\n",
       "    </tr>\n",
       "    <tr>\n",
       "      <th>Discounted Reward Only</th>\n",
       "      <td>0.938667</td>\n",
       "      <td>0.861454</td>\n",
       "      <td>0.836880</td>\n",
       "    </tr>\n",
       "    <tr>\n",
       "      <th>Discounted Reward with Adjustment</th>\n",
       "      <td>0.941133</td>\n",
       "      <td>0.861850</td>\n",
       "      <td>0.837094</td>\n",
       "    </tr>\n",
       "  </tbody>\n",
       "</table>\n",
       "</div>"
      ],
      "text/plain": [
       "                                    NDCG@10    NDCG@5    NDCG@3\n",
       "Ranking Method                                                 \n",
       "Average                            0.934942  0.847391  0.819158\n",
       "Discounted Reward Only             0.938667  0.861454  0.836880\n",
       "Discounted Reward with Adjustment  0.941133  0.861850  0.837094"
      ]
     },
     "execution_count": 8,
     "metadata": {},
     "output_type": "execute_result"
    }
   ],
   "source": [
    "df_ndcg_avg.groupby(by='Ranking Method').mean()"
   ]
  },
  {
   "cell_type": "code",
   "execution_count": null,
   "metadata": {},
   "outputs": [],
   "source": []
  },
  {
   "cell_type": "code",
   "execution_count": 9,
   "metadata": {},
   "outputs": [],
   "source": [
    "df_ndcg_avg['Query ID'] = df_ndcg_avg['Query ID'].str[1:].astype(int)"
   ]
  },
  {
   "cell_type": "code",
   "execution_count": 10,
   "metadata": {},
   "outputs": [
    {
     "name": "stdout",
     "output_type": "stream",
     "text": [
      "<class 'pandas.core.frame.DataFrame'>\n",
      "RangeIndex: 27 entries, 0 to 26\n",
      "Data columns (total 5 columns):\n",
      " #   Column          Non-Null Count  Dtype  \n",
      "---  ------          --------------  -----  \n",
      " 0   Query ID        27 non-null     int32  \n",
      " 1   Ranking Method  27 non-null     object \n",
      " 2   NDCG@10         27 non-null     float64\n",
      " 3   NDCG@5          27 non-null     float64\n",
      " 4   NDCG@3          27 non-null     float64\n",
      "dtypes: float64(3), int32(1), object(1)\n",
      "memory usage: 1.1+ KB\n"
     ]
    }
   ],
   "source": [
    "df_ndcg_avg.info()"
   ]
  },
  {
   "cell_type": "code",
   "execution_count": 11,
   "metadata": {},
   "outputs": [
    {
     "data": {
      "text/html": [
       "\n",
       "<style>\n",
       "  #altair-viz-688de1d809be46f9b86a29e60132fe48.vega-embed {\n",
       "    width: 100%;\n",
       "    display: flex;\n",
       "  }\n",
       "\n",
       "  #altair-viz-688de1d809be46f9b86a29e60132fe48.vega-embed details,\n",
       "  #altair-viz-688de1d809be46f9b86a29e60132fe48.vega-embed details summary {\n",
       "    position: relative;\n",
       "  }\n",
       "</style>\n",
       "<div id=\"altair-viz-688de1d809be46f9b86a29e60132fe48\"></div>\n",
       "<script type=\"text/javascript\">\n",
       "  var VEGA_DEBUG = (typeof VEGA_DEBUG == \"undefined\") ? {} : VEGA_DEBUG;\n",
       "  (function(spec, embedOpt){\n",
       "    let outputDiv = document.currentScript.previousElementSibling;\n",
       "    if (outputDiv.id !== \"altair-viz-688de1d809be46f9b86a29e60132fe48\") {\n",
       "      outputDiv = document.getElementById(\"altair-viz-688de1d809be46f9b86a29e60132fe48\");\n",
       "    }\n",
       "    const paths = {\n",
       "      \"vega\": \"https://cdn.jsdelivr.net/npm/vega@5?noext\",\n",
       "      \"vega-lib\": \"https://cdn.jsdelivr.net/npm/vega-lib?noext\",\n",
       "      \"vega-lite\": \"https://cdn.jsdelivr.net/npm/vega-lite@5.8.0?noext\",\n",
       "      \"vega-embed\": \"https://cdn.jsdelivr.net/npm/vega-embed@6?noext\",\n",
       "    };\n",
       "\n",
       "    function maybeLoadScript(lib, version) {\n",
       "      var key = `${lib.replace(\"-\", \"\")}_version`;\n",
       "      return (VEGA_DEBUG[key] == version) ?\n",
       "        Promise.resolve(paths[lib]) :\n",
       "        new Promise(function(resolve, reject) {\n",
       "          var s = document.createElement('script');\n",
       "          document.getElementsByTagName(\"head\")[0].appendChild(s);\n",
       "          s.async = true;\n",
       "          s.onload = () => {\n",
       "            VEGA_DEBUG[key] = version;\n",
       "            return resolve(paths[lib]);\n",
       "          };\n",
       "          s.onerror = () => reject(`Error loading script: ${paths[lib]}`);\n",
       "          s.src = paths[lib];\n",
       "        });\n",
       "    }\n",
       "\n",
       "    function showError(err) {\n",
       "      outputDiv.innerHTML = `<div class=\"error\" style=\"color:red;\">${err}</div>`;\n",
       "      throw err;\n",
       "    }\n",
       "\n",
       "    function displayChart(vegaEmbed) {\n",
       "      vegaEmbed(outputDiv, spec, embedOpt)\n",
       "        .catch(err => showError(`Javascript Error: ${err.message}<br>This usually means there's a typo in your chart specification. See the javascript console for the full traceback.`));\n",
       "    }\n",
       "\n",
       "    if(typeof define === \"function\" && define.amd) {\n",
       "      requirejs.config({paths});\n",
       "      require([\"vega-embed\"], displayChart, err => showError(`Error loading script: ${err.message}`));\n",
       "    } else {\n",
       "      maybeLoadScript(\"vega\", \"5\")\n",
       "        .then(() => maybeLoadScript(\"vega-lite\", \"5.8.0\"))\n",
       "        .then(() => maybeLoadScript(\"vega-embed\", \"6\"))\n",
       "        .catch(showError)\n",
       "        .then(() => displayChart(vegaEmbed));\n",
       "    }\n",
       "  })({\"config\": {\"view\": {\"continuousWidth\": 300, \"continuousHeight\": 300}}, \"data\": {\"name\": \"data-591acf8954c2c0e55ceb71c5d36e3a11\"}, \"mark\": {\"type\": \"line\"}, \"encoding\": {\"color\": {\"field\": \"Ranking Method\", \"type\": \"nominal\"}, \"x\": {\"field\": \"Query ID\", \"type\": \"ordinal\"}, \"y\": {\"field\": \"NDCG@10\", \"scale\": {\"domain\": [0.7, 1.1]}, \"type\": \"quantitative\"}}, \"height\": 300, \"width\": 600, \"$schema\": \"https://vega.github.io/schema/vega-lite/v5.8.0.json\", \"datasets\": {\"data-591acf8954c2c0e55ceb71c5d36e3a11\": [{\"Query ID\": 1, \"Ranking Method\": \"Average\", \"NDCG@10\": 0.927088411825456, \"NDCG@5\": 0.8191959070108323, \"NDCG@3\": 0.7942631351242785}, {\"Query ID\": 1, \"Ranking Method\": \"Discounted Reward Only\", \"NDCG@10\": 0.9514095585581641, \"NDCG@5\": 0.852801518844473, \"NDCG@3\": 0.8802339940301828}, {\"Query ID\": 1, \"Ranking Method\": \"Discounted Reward with Adjustment\", \"NDCG@10\": 0.9434844986725617, \"NDCG@5\": 0.836534465585172, \"NDCG@3\": 0.8364589570064472}, {\"Query ID\": 2, \"Ranking Method\": \"Average\", \"NDCG@10\": 0.9495994031522396, \"NDCG@5\": 0.8759854712540626, \"NDCG@3\": 0.8511936868614812}, {\"Query ID\": 2, \"Ranking Method\": \"Discounted Reward Only\", \"NDCG@10\": 0.9236573383488279, \"NDCG@5\": 0.8057250592312234, \"NDCG@3\": 0.7916256095517075}, {\"Query ID\": 2, \"Ranking Method\": \"Discounted Reward with Adjustment\", \"NDCG@10\": 0.9174718766974856, \"NDCG@5\": 0.8025900539439083, \"NDCG@3\": 0.7711016146113084}, {\"Query ID\": 3, \"Ranking Method\": \"Average\", \"NDCG@10\": 0.945217066349942, \"NDCG@5\": 0.8821514962980275, \"NDCG@3\": 0.8572475380288506}, {\"Query ID\": 3, \"Ranking Method\": \"Discounted Reward Only\", \"NDCG@10\": 0.9563607974341791, \"NDCG@5\": 0.8973315791439148, \"NDCG@3\": 0.8866854210365481}, {\"Query ID\": 3, \"Ranking Method\": \"Discounted Reward with Adjustment\", \"NDCG@10\": 0.9514561581916169, \"NDCG@5\": 0.8729120667831517, \"NDCG@3\": 0.8713504172705706}, {\"Query ID\": 4, \"Ranking Method\": \"Average\", \"NDCG@10\": 0.907677960835938, \"NDCG@5\": 0.7793364492281775, \"NDCG@3\": 0.7499063100838365}, {\"Query ID\": 4, \"Ranking Method\": \"Discounted Reward Only\", \"NDCG@10\": 0.9137953285954054, \"NDCG@5\": 0.8194505757528296, \"NDCG@3\": 0.7666400938615808}, {\"Query ID\": 4, \"Ranking Method\": \"Discounted Reward with Adjustment\", \"NDCG@10\": 0.9324056480176192, \"NDCG@5\": 0.8488114586897471, \"NDCG@3\": 0.813472139065807}, {\"Query ID\": 5, \"Ranking Method\": \"Average\", \"NDCG@10\": 0.9218931537758128, \"NDCG@5\": 0.8170671596031142, \"NDCG@3\": 0.7821738203512129}, {\"Query ID\": 5, \"Ranking Method\": \"Discounted Reward Only\", \"NDCG@10\": 0.8999289375832645, \"NDCG@5\": 0.8133735937851979, \"NDCG@3\": 0.754622470600943}, {\"Query ID\": 5, \"Ranking Method\": \"Discounted Reward with Adjustment\", \"NDCG@10\": 0.8658425479090598, \"NDCG@5\": 0.707807960939029, \"NDCG@3\": 0.6253312064613638}, {\"Query ID\": 6, \"Ranking Method\": \"Average\", \"NDCG@10\": 0.9579362330467777, \"NDCG@5\": 0.9173347827986379, \"NDCG@3\": 0.884443522023838}, {\"Query ID\": 6, \"Ranking Method\": \"Discounted Reward Only\", \"NDCG@10\": 0.9600545086277417, \"NDCG@5\": 0.911639017363245, \"NDCG@3\": 0.8897940221445264}, {\"Query ID\": 6, \"Ranking Method\": \"Discounted Reward with Adjustment\", \"NDCG@10\": 0.9529930258112828, \"NDCG@5\": 0.911185053361507, \"NDCG@3\": 0.8796385254722207}, {\"Query ID\": 7, \"Ranking Method\": \"Average\", \"NDCG@10\": 0.9842521899037556, \"NDCG@5\": 0.9511426530326617, \"NDCG@3\": 0.9586307491316833}, {\"Query ID\": 7, \"Ranking Method\": \"Discounted Reward Only\", \"NDCG@10\": 0.9475471227834985, \"NDCG@5\": 0.8879359280856852, \"NDCG@3\": 0.8468683413117484}, {\"Query ID\": 7, \"Ranking Method\": \"Discounted Reward with Adjustment\", \"NDCG@10\": 0.9729832097911654, \"NDCG@5\": 0.9336047140860275, \"NDCG@3\": 0.9162257495590828}, {\"Query ID\": 8, \"Ranking Method\": \"Average\", \"NDCG@10\": 0.9064717504948696, \"NDCG@5\": 0.7978640789809232, \"NDCG@3\": 0.7360686406509597}, {\"Query ID\": 8, \"Ranking Method\": \"Discounted Reward Only\", \"NDCG@10\": 0.9829819551972309, \"NDCG@5\": 0.9396142688370587, \"NDCG@3\": 0.9601535875761488}, {\"Query ID\": 8, \"Ranking Method\": \"Discounted Reward with Adjustment\", \"NDCG@10\": 0.9644717581966712, \"NDCG@5\": 0.9170898893675101, \"NDCG@3\": 0.905021293603018}, {\"Query ID\": 9, \"Ranking Method\": \"Average\", \"NDCG@10\": 0.9143450381591299, \"NDCG@5\": 0.7864388521583864, \"NDCG@3\": 0.7584987449984336}, {\"Query ID\": 9, \"Ranking Method\": \"Discounted Reward Only\", \"NDCG@10\": 0.9122647005014243, \"NDCG@5\": 0.8252187872292464, \"NDCG@3\": 0.7552967891724399}, {\"Query ID\": 9, \"Ranking Method\": \"Discounted Reward with Adjustment\", \"NDCG@10\": 0.9690889231252223, \"NDCG@5\": 0.9261178042389115, \"NDCG@3\": 0.9152479874154703}]}}, {\"mode\": \"vega-lite\"});\n",
       "</script>"
      ],
      "text/plain": [
       "alt.Chart(...)"
      ]
     },
     "execution_count": 11,
     "metadata": {},
     "output_type": "execute_result"
    }
   ],
   "source": [
    "alt.Chart(data=df_ndcg_avg).mark_line().encode(\n",
    "    x=alt.X('Query ID:O'),\n",
    "    y=alt.Y('NDCG@10:Q').scale(domain=(0.7, 1.1)),\n",
    "    color=alt.Color('Ranking Method:N')\n",
    ").properties(\n",
    "    width=600,\n",
    "    height=300,\n",
    ")"
   ]
  },
  {
   "cell_type": "code",
   "execution_count": 12,
   "metadata": {},
   "outputs": [],
   "source": [
    "def plot_distances(df_input, title=''):\n",
    "    df = df_input.copy()\n",
    "    df = df[['distance_original', 'distance_opposite']]\n",
    "    df['distance_original'] = df['distance_original'].astype('float64')\n",
    "    df['distance_opposite'] = df['distance_opposite'].astype('float64')\n",
    "    df = df.reset_index(drop=True).reset_index()\n",
    "    df.columns=['index', 'original_query', 'opposite_query']\n",
    "    df = df.melt(id_vars=['index'])\n",
    "\n",
    "    domain = ['original_query', 'opposite_query']\n",
    "    range_ = ['dodgerblue', 'coral']\n",
    "\n",
    "    chart = alt.Chart(data=df).mark_line().encode(\n",
    "            x=alt.X('index:Q').title('Record Index'),\n",
    "            y=alt.Y(\"value:Q\").scale(domain=(0,0.4)).title('Cosine Distance'),\n",
    "            color=alt.Color(\"variable:N\").scale(domain=domain, range=range_)\n",
    "        ).properties(\n",
    "            width=350,\n",
    "            height=150,\n",
    "            title=title\n",
    "        )\n",
    "    \n",
    "    return chart"
   ]
  },
  {
   "cell_type": "code",
   "execution_count": null,
   "metadata": {},
   "outputs": [],
   "source": []
  },
  {
   "cell_type": "code",
   "execution_count": null,
   "metadata": {},
   "outputs": [],
   "source": []
  },
  {
   "cell_type": "code",
   "execution_count": null,
   "metadata": {},
   "outputs": [],
   "source": []
  },
  {
   "cell_type": "code",
   "execution_count": null,
   "metadata": {},
   "outputs": [],
   "source": []
  },
  {
   "cell_type": "code",
   "execution_count": null,
   "metadata": {},
   "outputs": [],
   "source": []
  }
 ],
 "metadata": {
  "kernelspec": {
   "display_name": "Python 3.9.16",
   "language": "python",
   "name": "python3"
  },
  "language_info": {
   "codemirror_mode": {
    "name": "ipython",
    "version": 3
   },
   "file_extension": ".py",
   "mimetype": "text/x-python",
   "name": "python",
   "nbconvert_exporter": "python",
   "pygments_lexer": "ipython3",
   "version": "3.9.16"
  },
  "orig_nbformat": 4,
  "vscode": {
   "interpreter": {
    "hash": "47c21ec07182bd7b8a7046c05381eb5ae64d2b190ea0743ff4dd83b9ddde1114"
   }
  }
 },
 "nbformat": 4,
 "nbformat_minor": 2
}
